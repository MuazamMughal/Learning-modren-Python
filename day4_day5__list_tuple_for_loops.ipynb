{
 "cells": [
  {
   "cell_type": "markdown",
   "metadata": {},
   "source": [
    "LIST \n",
    "+ itreation operatin with loop\n",
    "+ applay any operatore on element"
   ]
  },
  {
   "cell_type": "code",
   "execution_count": 3,
   "metadata": {},
   "outputs": [
    {
     "name": "stdout",
     "output_type": "stream",
     "text": [
      "muazam \n",
      "imtiaz\n",
      "mughal\n"
     ]
    }
   ],
   "source": [
    "names : list[str] =[\"muazam \",\"imtiaz\",\"mughal\"]\n",
    "\n",
    "for name in names :\n",
    "    print(name)"
   ]
  },
  {
   "cell_type": "code",
   "execution_count": 4,
   "metadata": {},
   "outputs": [
    {
     "name": "stdout",
     "output_type": "stream",
     "text": [
      "muazam 123\n",
      "imtiaz 123\n",
      "mughal 123\n"
     ]
    }
   ],
   "source": [
    "data :list[tuple[str,str]]=[(\"muazam\",\"123\")\n",
    "                            ,(\"imtiaz\",\"123\"),\n",
    "                            (\"mughal\",\"123\")]\n",
    "\n",
    "for rows in data:\n",
    "    user , password = rows\n",
    "    print(user , password)"
   ]
  },
  {
   "cell_type": "code",
   "execution_count": 5,
   "metadata": {},
   "outputs": [
    {
     "name": "stdout",
     "output_type": "stream",
     "text": [
      "this is the a vlid user\n"
     ]
    }
   ],
   "source": [
    "data :list[tuple[str,str]]=[(\"muazam\",\"123\")\n",
    "                            ,(\"imtiaz\",\"123\"),\n",
    "                            (\"mughal\",\"123\")]\n",
    "\n",
    "name :str = input(\"enter your name\")\n",
    "pas : str = input(\"enter your password\")\n",
    "\n",
    "for check in data:\n",
    "    user , password = check\n",
    "    if name==user and pas==password:\n",
    "        print (\"this is the a vlid user\")"
   ]
  },
  {
   "cell_type": "code",
   "execution_count": null,
   "metadata": {},
   "outputs": [],
   "source": []
  },
  {
   "cell_type": "markdown",
   "metadata": {},
   "source": [
    "in the for loop in the pyathonwe can use the else with the for loop"
   ]
  },
  {
   "cell_type": "code",
   "execution_count": 6,
   "metadata": {},
   "outputs": [
    {
     "name": "stdout",
     "output_type": "stream",
     "text": [
      "this user is not belong to data\n"
     ]
    }
   ],
   "source": [
    "data :list[tuple[str,str]]=[(\"muazam\",\"123\")\n",
    "                            ,(\"imtiaz\",\"123\"),\n",
    "                            (\"mughal\",\"123\")]\n",
    "\n",
    "name :str = input(\"enter your name\")\n",
    "pas : str = input(\"enter your password\")\n",
    "\n",
    "for check in data:\n",
    "    user , password = check\n",
    "    if name==user and pas==password:\n",
    "        print (\"this is the a vlid user\")\n",
    "        break\n",
    "else:\n",
    "    print(\"this user is not belong to data\")    "
   ]
  }
 ],
 "metadata": {
  "kernelspec": {
   "display_name": "python12",
   "language": "python",
   "name": "python3"
  },
  "language_info": {
   "codemirror_mode": {
    "name": "ipython",
    "version": 3
   },
   "file_extension": ".py",
   "mimetype": "text/x-python",
   "name": "python",
   "nbconvert_exporter": "python",
   "pygments_lexer": "ipython3",
   "version": "3.12.0"
  }
 },
 "nbformat": 4,
 "nbformat_minor": 2
}
