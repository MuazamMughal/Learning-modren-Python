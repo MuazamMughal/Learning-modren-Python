{
 "cells": [
  {
   "cell_type": "markdown",
   "metadata": {},
   "source": [
    "in this class we discovering the methods of dictionary\n"
   ]
  },
  {
   "cell_type": "markdown",
   "metadata": {},
   "source": [
    "['clear', 'copy', 'fromkeys', 'get', 'items',\n",
    " 'keys', 'pop', 'popitem', 'setdefault',\n",
    "  'update', 'values']"
   ]
  },
  {
   "cell_type": "code",
   "execution_count": 1,
   "metadata": {},
   "outputs": [],
   "source": [
    "from typing import Dict,Union,Optional\n"
   ]
  },
  {
   "cell_type": "code",
   "execution_count": 6,
   "metadata": {},
   "outputs": [
    {
     "name": "stdout",
     "output_type": "stream",
     "text": [
      "['clear', 'copy', 'fromkeys', 'get', 'items', 'keys', 'pop', 'popitem', 'setdefault', 'update', 'values']\n"
     ]
    }
   ],
   "source": [
    "data : Dict[key,value]={}\n",
    "methods : list[str] =[m for m in dir(data) if \"__\" not in m ]\n",
    "print(methods)"
   ]
  },
  {
   "cell_type": "code",
   "execution_count": 2,
   "metadata": {},
   "outputs": [],
   "source": [
    "key = Union[str,tuple,int]\n",
    "value = Union[str,tuple, int,dict,set]\n",
    "\n",
    "data : Dict[key,value]={\n",
    "    \"name\":\"muazam\",\n",
    "    \"fname\":\"imtiaz\",\n",
    "    \"cast\":\"mughal\",\n",
    "    \"edu\":\"BSSoftwareEngineeing\",\n",
    "    \"age\":21,\n",
    "    \"abc\":{1,2,3,4},\n",
    "    \"pair\":{\"a\":1,\"b\":2,\"c\":3},\n",
    "}\n",
    "#now performing some of the prebuild dict methods\n",
    "\n",
    "\n"
   ]
  },
  {
   "cell_type": "code",
   "execution_count": 10,
   "metadata": {},
   "outputs": [
    {
     "data": {
      "text/plain": [
       "{'name': 'Muazam mughal', 'fname': 'imtiaz', 'age': '21'}"
      ]
     },
     "execution_count": 10,
     "metadata": {},
     "output_type": "execute_result"
    }
   ],
   "source": [
    "#del data   is delleting the whole obj\n",
    "#data.clear   rmains hte object of dict and erase all data init\n",
    "#pop removing the last key value item    data.popitem() \n",
    "#get method if dont find any desire one they not show error data.get(\"\"pakistan,\"NA\")\n",
    "#setdefault  if any iten is not fout they can can add this value data.setdefault(\"paksitan\",\"enpty value\")\n",
    "#update add new owns and update the present keys value\n",
    "#eg\n",
    "L1: Dict[key,value]={\n",
    "    \"name\":\"muazam\",\n",
    "    \"fname\":\"imtiaz\"\n",
    "    }\n",
    "\n",
    "L2: Dict[key,value] ={\n",
    "    \"name\":\"Muazam mughal\",\n",
    "    \"age\":\"21\"\n",
    "    }\n",
    "\n",
    "L1.update(L2)\n",
    "\n",
    "L1\n",
    "\n",
    "#\n",
    "\n"
   ]
  }
 ],
 "metadata": {
  "kernelspec": {
   "display_name": "python12",
   "language": "python",
   "name": "python3"
  },
  "language_info": {
   "codemirror_mode": {
    "name": "ipython",
    "version": 3
   },
   "file_extension": ".py",
   "mimetype": "text/x-python",
   "name": "python",
   "nbconvert_exporter": "python",
   "pygments_lexer": "ipython3",
   "version": "3.12.0"
  }
 },
 "nbformat": 4,
 "nbformat_minor": 2
}
