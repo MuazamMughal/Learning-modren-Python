{
 "cells": [
  {
   "cell_type": "markdown",
   "metadata": {},
   "source": [
    "# function\n",
    "* predefined functions\n",
    "* user defined functions\n",
    "* retun and non returnable function\n",
    "    * assignable output to any variable\n",
    "    * only perform a task\n",
    "\n",
    "## components  of function\n",
    "* defination\n",
    "* body\n",
    "* return\n",
    "* function call\n",
    "\n",
    "## syntex\n",
    "'''\n",
    "def funciton_Name(paramertr1:type ,paramerter2:type)-> return type:\n",
    "    body content\n",
    "\n",
    "function_name(arg-1,arg 2)\n",
    "\n",
    "'''\n",
    "## lamda function\n",
    "* oneline function\n",
    "* only use in this line\n",
    "* without name\n",
    "* syntex\n",
    "* lamda prams1,prams2 :function_body"
   ]
  },
  {
   "cell_type": "markdown",
   "metadata": {},
   "source": [
    "# some fredefined functions\n",
    "* print,len,dir,exicute,chr etc\n"
   ]
  },
  {
   "cell_type": "code",
   "execution_count": 1,
   "metadata": {},
   "outputs": [
    {
     "name": "stdout",
     "output_type": "stream",
     "text": [
      "lest have some fun in python\n"
     ]
    }
   ],
   "source": [
    "#creating the simple default function functoin that cant have argment\n",
    "\n",
    "def piaic() ->None:\n",
    "    print(\"lest have some fun in python\")\n",
    "\n",
    "\n",
    "piaic()"
   ]
  },
  {
   "cell_type": "code",
   "execution_count": 2,
   "metadata": {},
   "outputs": [
    {
     "data": {
      "text/plain": [
       "16"
      ]
     },
     "execution_count": 2,
     "metadata": {},
     "output_type": "execute_result"
    }
   ],
   "source": [
    "#lamda function\n",
    "a = lambda num1,num2  : num1+num2\n",
    "\n",
    "a(7,9)"
   ]
  },
  {
   "cell_type": "code",
   "execution_count": 12,
   "metadata": {},
   "outputs": [
    {
     "data": {
      "text/plain": [
       "[2, 4, 6, 8, 10, 12, 14, 16]"
      ]
     },
     "execution_count": 12,
     "metadata": {},
     "output_type": "execute_result"
    }
   ],
   "source": [
    "data : list[int] =[1,2,3,4,5,6,7,8]\n",
    "data= list(map(lambda x:  x*2 , data))\n",
    "\n",
    "\n",
    "data"
   ]
  },
  {
   "cell_type": "code",
   "execution_count": 15,
   "metadata": {},
   "outputs": [
    {
     "data": {
      "text/plain": [
       "[2, 4, 6, 8]"
      ]
     },
     "execution_count": 15,
     "metadata": {},
     "output_type": "execute_result"
    }
   ],
   "source": [
    "data : list[int] =[1,2,3,4,5,6,7,8]\n",
    "data= list(filter(lambda x: x%2==0 , data))\n",
    "\n",
    "data\n"
   ]
  },
  {
   "cell_type": "code",
   "execution_count": 14,
   "metadata": {},
   "outputs": [
    {
     "name": "stdout",
     "output_type": "stream",
     "text": [
      "27\n"
     ]
    }
   ],
   "source": [
    "#with using callable to make these lambda function calable\n",
    "from typing import Callable\n",
    "\n",
    "add : Callable[[int ,int],int] =lambda x, y :x+y\n",
    "#     datatype with callable    =then defing lmbda\n",
    "p=add(12,15)\n",
    "print(p)"
   ]
  },
  {
   "cell_type": "markdown",
   "metadata": {},
   "source": [
    "# Generative funtion\n",
    "* iterato on elements one by one\n",
    "* stop after every ietreting\n",
    "* remember the old iteration value (last iterate vale)\n",
    "* using next move farword to ned next iterative value\n",
    "* usage  is more in working with bigdata to iterate in some portions"
   ]
  },
  {
   "cell_type": "code",
   "execution_count": 21,
   "metadata": {},
   "outputs": [
    {
     "name": "stdout",
     "output_type": "stream",
     "text": [
      "1\n",
      "2\n",
      "3\n"
     ]
    }
   ],
   "source": [
    "from collections.abc import Iterator\n",
    "\n",
    "def my_fun(start:int ,end:int , step:int=1)->Iterator[int]:\n",
    "    for i in range(start,end+1,step):\n",
    "        yield i  #generator funtion\n",
    "\n",
    "iterator_variable:Iterator[int] = my_fun(1,10)\n",
    "\n",
    "print(next(iterator_variable))\n",
    "print(next(iterator_variable))\n",
    "print(next(iterator_variable))"
   ]
  },
  {
   "cell_type": "code",
   "execution_count": 29,
   "metadata": {},
   "outputs": [
    {
     "name": "stdout",
     "output_type": "stream",
     "text": [
      "the sum of the names is given('ali', 'usmna', 'umair')\n"
     ]
    }
   ],
   "source": [
    "#assigning the multiple values of paramenter to functions\n",
    "def names(*name)->None:\n",
    "     print(f\"the sum of the names is given{name}\")\n",
    "\n",
    "names(\"ali\",\"usmna\",\"umair\")"
   ]
  },
  {
   "cell_type": "code",
   "execution_count": 30,
   "metadata": {},
   "outputs": [
    {
     "name": "stdout",
     "output_type": "stream",
     "text": [
      "the sum of the names is given('ali', 'usmna', 'umair')\n",
      "the sum of the names is given('ali', 'usmna', 'umair')\n",
      "the sum of the names is given('ali', 'usmna', 'umair')\n"
     ]
    }
   ],
   "source": [
    "def names(*name)->None:\n",
    "    for n in name:\n",
    "        print(f\"the sum of the names is given{name}\")\n",
    "\n",
    "names(\"ali\",\"usmna\",\"umair\")"
   ]
  },
  {
   "cell_type": "code",
   "execution_count": 35,
   "metadata": {},
   "outputs": [
    {
     "name": "stdout",
     "output_type": "stream",
     "text": [
      "helo   uzi\n",
      "helo   ak\n"
     ]
    }
   ],
   "source": [
    "#Now with using type \n",
    "from typing import Tuple\n",
    "\n",
    "def greet(*names:Tuple[str, ...]) ->None:\n",
    "    for name in names:\n",
    "        print(f\"helo   {name}\")\n",
    "\n",
    "greet(\"uzi\",\"ak\")\n"
   ]
  },
  {
   "cell_type": "code",
   "execution_count": 36,
   "metadata": {},
   "outputs": [
    {
     "name": "stdout",
     "output_type": "stream",
     "text": [
      "the sum of the names is given{'a': 'ali', 'b': 'usmna', 'd': 'umair'}\n",
      "the sum of the names is given{'a': 'ali', 'b': 'usmna', 'd': 'umair'}\n",
      "the sum of the names is given{'a': 'ali', 'b': 'usmna', 'd': 'umair'}\n"
     ]
    }
   ],
   "source": [
    "#for dictionary we have to use the double ** \n",
    "from typing import Dict\n",
    "def names(**name:Dict[str,str])->None:\n",
    "    for n in name:\n",
    "        print(f\"the sum of the names is given{name}\")\n",
    "\n",
    "names(a=\"ali\",b=\"usmna\",d=\"umair\")"
   ]
  },
  {
   "cell_type": "code",
   "execution_count": 42,
   "metadata": {},
   "outputs": [
    {
     "name": "stdout",
     "output_type": "stream",
     "text": [
      "1 2 (34454, 34356, 564674, 4567465) {'c': 20, 'g': 12, 'x': 12}\n"
     ]
    }
   ],
   "source": [
    "def numbers(a:int, b:int, *numn:int , **dic:int)->None:\n",
    "    print(a,b,numn,dic)\n",
    "\n",
    "numbers(1,2, 34454,34356,564674,4567465 ,c=20,g=12,x=12)"
   ]
  },
  {
   "cell_type": "code",
   "execution_count": null,
   "metadata": {},
   "outputs": [],
   "source": [
    "#decorator function\n",
    "# recursive fuction\n"
   ]
  }
 ],
 "metadata": {
  "kernelspec": {
   "display_name": "python12",
   "language": "python",
   "name": "python3"
  },
  "language_info": {
   "codemirror_mode": {
    "name": "ipython",
    "version": 3
   },
   "file_extension": ".py",
   "mimetype": "text/x-python",
   "name": "python",
   "nbconvert_exporter": "python",
   "pygments_lexer": "ipython3",
   "version": "3.12.0"
  }
 },
 "nbformat": 4,
 "nbformat_minor": 2
}
