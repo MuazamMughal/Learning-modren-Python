{
 "cells": [
  {
   "cell_type": "markdown",
   "metadata": {},
   "source": [
    "in this day class we gona study the DICTIONARY\n"
   ]
  },
  {
   "cell_type": "code",
   "execution_count": 2,
   "metadata": {},
   "outputs": [],
   "source": [
    "from typing import Dict,Union,Optional\n",
    "import pprint"
   ]
  },
  {
   "cell_type": "code",
   "execution_count": 3,
   "metadata": {},
   "outputs": [
    {
     "name": "stdout",
     "output_type": "stream",
     "text": [
      "muazam\n"
     ]
    }
   ],
   "source": [
    "\n",
    "#first of all we make the data type interfaces for defing the types\n",
    "key = Union[str,tuple,int]\n",
    "value = Union[str,int,tuple,dict,set]\n",
    "#NOW DEfing the list there\n",
    "collection : Dict[key,value] = {\n",
    "    \"name\":\"muazam\",\n",
    "    \"fname\":\"imtiaz\",\n",
    "    \"cast\":\"mughal\",\n",
    "    \"edu\":\"BSSoftwareEngineeing\",\n",
    "    \"age\":21,\n",
    "    \"abc\":{1,2,3,4},\n",
    "    \"pair\":{\"a\":1,\"b\":2,\"c\":3},\n",
    "}\n",
    "\n",
    "print(collection[\"name\"])"
   ]
  },
  {
   "cell_type": "code",
   "execution_count": 7,
   "metadata": {},
   "outputs": [
    {
     "name": "stdout",
     "output_type": "stream",
     "text": [
      "2\n"
     ]
    }
   ],
   "source": [
    "print(collection[\"pair\"][\"b\"])"
   ]
  },
  {
   "cell_type": "code",
   "execution_count": 9,
   "metadata": {},
   "outputs": [
    {
     "name": "stdout",
     "output_type": "stream",
     "text": [
      "{'name': 'muazam', 'sirName': 'mughal'}\n"
     ]
    }
   ],
   "source": [
    "# adding the values to the dic\n",
    "\n",
    "key = Union[str,tuple,int]\n",
    "value = Union[str,int,tuple,dict,set]\n",
    "#NOW DEfing the list there\n",
    "adding : Dict[key,value] = {\n",
    "\n",
    "}\n",
    "adding[\"name\"]=\"muazam\"\n",
    "adding[\"sirName\"]=\"mughal\"\n",
    "\n",
    "print(adding)\n"
   ]
  },
  {
   "cell_type": "code",
   "execution_count": 14,
   "metadata": {},
   "outputs": [
    {
     "name": "stdout",
     "output_type": "stream",
     "text": [
      "muazam\n",
      "NA\n"
     ]
    }
   ],
   "source": [
    "\n",
    "# cheacking that the data is in the dic or not\n",
    "#using the .get()\n",
    "print(adding.get( \"name\",\"NA\"))\n",
    "print(adding.get(\"pakistan\",\"NA\"))\n",
    "\n",
    "#first what to find or if not hen second is working\n",
    "\n",
    "#we use the NA becuese when it not fount the nanem key the shoes NA\n",
    "\n"
   ]
  },
  {
   "cell_type": "code",
   "execution_count": 30,
   "metadata": {},
   "outputs": [
    {
     "name": "stdout",
     "output_type": "stream",
     "text": [
      "dict_keys(['name', 'sirName'])\n",
      "dict_values(['muazam', 'mughal'])\n",
      "dict_items([('name', 'muazam'), ('sirName', 'mughal')])\n",
      "name\n",
      "sirName\n",
      "name muazam\n",
      "sirName mughal\n"
     ]
    }
   ],
   "source": [
    "\n",
    "\n",
    "#geting the desire data from the Dic\n",
    "\n",
    "print(adding.keys())\n",
    "print(adding.values())\n",
    "print(adding.items())\n",
    "\n",
    "# now print these stuff with another ways\n",
    "\n",
    "for k in adding.keys():\n",
    "    \n",
    "    print(k )\n",
    "\n",
    "for k , v in adding.items():\n",
    "    print(k,v )\n",
    "\n"
   ]
  },
  {
   "cell_type": "code",
   "execution_count": 1,
   "metadata": {},
   "outputs": [
    {
     "ename": "NameError",
     "evalue": "name 'adding' is not defined",
     "output_type": "error",
     "traceback": [
      "\u001b[1;31m---------------------------------------------------------------------------\u001b[0m",
      "\u001b[1;31mNameError\u001b[0m                                 Traceback (most recent call last)",
      "\u001b[1;32md:\\lerning python\\day7.ipynb Cell 8\u001b[0m line \u001b[0;36m3\n\u001b[0;32m      <a href='vscode-notebook-cell:/d%3A/lerning%20python/day7.ipynb#X10sZmlsZQ%3D%3D?line=0'>1</a>\u001b[0m \u001b[39m#shaffuling the keys with values using the list comprihansive\u001b[39;00m\n\u001b[1;32m----> <a href='vscode-notebook-cell:/d%3A/lerning%20python/day7.ipynb#X10sZmlsZQ%3D%3D?line=2'>3</a>\u001b[0m {v : k \u001b[39mfor\u001b[39;00m k,v \u001b[39min\u001b[39;00m adding\u001b[39m.\u001b[39mitems()}\n",
      "\u001b[1;31mNameError\u001b[0m: name 'adding' is not defined"
     ]
    }
   ],
   "source": [
    "#shaffuling the keys with values using the list comprihansive\n",
    "\n",
    "{v : k for k,v in adding.items()}\n",
    "\n"
   ]
  },
  {
   "cell_type": "code",
   "execution_count": null,
   "metadata": {},
   "outputs": [],
   "source": []
  }
 ],
 "metadata": {
  "kernelspec": {
   "display_name": "python12",
   "language": "python",
   "name": "python3"
  },
  "language_info": {
   "codemirror_mode": {
    "name": "ipython",
    "version": 3
   },
   "file_extension": ".py",
   "mimetype": "text/x-python",
   "name": "python",
   "nbconvert_exporter": "python",
   "pygments_lexer": "ipython3",
   "version": "3.12.0"
  }
 },
 "nbformat": 4,
 "nbformat_minor": 2
}
