{
 "cells": [
  {
   "cell_type": "markdown",
   "metadata": {},
   "source": [
    "## file handling\n",
    "* execption\n",
    "\n",
    "## try execpt eles finally chain\n",
    "\n",
    "\n",
    "# also study the \n",
    "* call by value \n",
    "* call by reference\n",
    "\n",
    "\n",
    "## mutable datatypes\n",
    "* list, dict, bytearray,set\n",
    "\n",
    "## immutable datatypes\n",
    "*int,float, str,tuples,frozenset"
   ]
  },
  {
   "cell_type": "markdown",
   "metadata": {},
   "source": [
    "## handle runtime error\n",
    "\n",
    "```\n",
    "try:\n",
    "    logic\n",
    "execpt(Error_class1 , Error_class2):\n",
    "    if an error ocurre then this block runs\n",
    "else:\n",
    "    if error not ocure\n",
    "finally:\n",
    "    always runs\n",
    "```"
   ]
  },
  {
   "cell_type": "code",
   "execution_count": 1,
   "metadata": {},
   "outputs": [
    {
     "name": "stdout",
     "output_type": "stream",
     "text": [
      "this is the logic one\n",
      "this is the logic 2\n",
      "this is the zero divission error\n",
      "logic 3\n",
      "logic 4\n"
     ]
    }
   ],
   "source": [
    "print(\"this is the logic one\")\n",
    "print(\"this is the logic 2\")\n",
    "\n",
    "l1:list[str]=[1,2,3,4]\n",
    "\n",
    "try:\n",
    "    print(5/0) # this is an error so stright jumps to expttion\n",
    "    print(l1[0])\n",
    "    print(\"this is me\")\n",
    "except(ZeroDivisionError,IndexError):\n",
    "    print(\"this is the zero divission error\")\n",
    "\n",
    "print(\"logic 3\")\n",
    "print(\"logic 4\")"
   ]
  },
  {
   "cell_type": "code",
   "execution_count": 2,
   "metadata": {},
   "outputs": [
    {
     "name": "stdout",
     "output_type": "stream",
     "text": [
      "this is the logic one\n",
      "this is the logic 2\n",
      "2.5\n",
      "1\n",
      "this is the Name error\n",
      "logic 3\n",
      "logic 4\n"
     ]
    }
   ],
   "source": [
    "#in this example we spacifies the error with the output to the error occures\n",
    "\n",
    "print(\"this is the logic one\")\n",
    "print(\"this is the logic 2\")\n",
    "\n",
    "l1:list[str]=[1,2,3,4]\n",
    "\n",
    "try:\n",
    "    print(5/2) \n",
    "    print(l1[0])\n",
    "    print(xyz)# this is an error so stright jumps to expttion\n",
    "except(ZeroDivisionError):\n",
    "    print(\"this is the zero divission error\")\n",
    "except(IndexError):\n",
    "    print(\"this is the index error\")\n",
    "except(NameError):\n",
    "    print(\"this is the Name error\")\n",
    "\n",
    "\n",
    "print(\"logic 3\")\n",
    "print(\"logic 4\")"
   ]
  },
  {
   "cell_type": "code",
   "execution_count": 3,
   "metadata": {},
   "outputs": [
    {
     "name": "stdout",
     "output_type": "stream",
     "text": [
      "this eror i occuers name 'me' is not defined\n"
     ]
    }
   ],
   "source": [
    "# now for the more spesified terms\n",
    "try:\n",
    "    print(me)\n",
    "except Exception as e:\n",
    "    print(f\"this eror i occuers {e}\")"
   ]
  }
 ],
 "metadata": {
  "kernelspec": {
   "display_name": "python12",
   "language": "python",
   "name": "python3"
  },
  "language_info": {
   "codemirror_mode": {
    "name": "ipython",
    "version": 3
   },
   "file_extension": ".py",
   "mimetype": "text/x-python",
   "name": "python",
   "nbconvert_exporter": "python",
   "pygments_lexer": "ipython3",
   "version": "3.12.0"
  }
 },
 "nbformat": 4,
 "nbformat_minor": 2
}
