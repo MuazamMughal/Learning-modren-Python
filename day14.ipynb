{
 "cells": [
  {
   "cell_type": "markdown",
   "metadata": {},
   "source": [
    "## multiple inheritance\n"
   ]
  },
  {
   "cell_type": "code",
   "execution_count": 6,
   "metadata": {},
   "outputs": [
    {
     "data": {
      "text/plain": [
       "['Mother_name',\n",
       " '__class__',\n",
       " '__delattr__',\n",
       " '__dict__',\n",
       " '__dir__',\n",
       " '__doc__',\n",
       " '__eq__',\n",
       " '__format__',\n",
       " '__ge__',\n",
       " '__getattribute__',\n",
       " '__getstate__',\n",
       " '__gt__',\n",
       " '__hash__',\n",
       " '__init__',\n",
       " '__init_subclass__',\n",
       " '__le__',\n",
       " '__lt__',\n",
       " '__module__',\n",
       " '__ne__',\n",
       " '__new__',\n",
       " '__reduce__',\n",
       " '__reduce_ex__',\n",
       " '__repr__',\n",
       " '__setattr__',\n",
       " '__sizeof__',\n",
       " '__str__',\n",
       " '__subclasshook__',\n",
       " '__weakref__',\n",
       " 'child_name',\n",
       " 'father_color',\n",
       " 'father_name',\n",
       " 'hieght',\n",
       " 'language',\n",
       " 'origen']"
      ]
     },
     "execution_count": 6,
     "metadata": {},
     "output_type": "execute_result"
    }
   ],
   "source": [
    "class Father:\n",
    "    def __init__(self,name:str) -> None:\n",
    "        self.father_name:str=name\n",
    "        self.father_color:str=\"brown\"\n",
    "    \n",
    "    def language(self , lang:str):\n",
    "        return(f\"father used to speak {lang} language\")\n",
    "class Mother:\n",
    "    def __init__(self,name:str) -> None:\n",
    "        self.Mother_name:str=name\n",
    "        self.hieght:str=\"6 feets\"\n",
    "    def origen(self , city:str):\n",
    "        return (f\"we used to live in {city} city\")\n",
    "    \n",
    "class Child(Father,Mother):\n",
    "    def __init__(self,father_name:str,mother_name:str, child_name: str) -> None:\n",
    "        self.child_name:str = child_name\n",
    "        #for multi class inheritece we used to do the self init\n",
    "        Mother.__init__(self, mother_name)\n",
    "        Father.__init__(self, father_name)\n",
    "\n",
    "\n",
    "muazam:Child=Child(\"imtiaz\",\"aliya\",\"muazam\")\n",
    "\n",
    "muazam.Mother_name\n",
    "muazam.origen(\"sahiwal\")\n",
    "muazam.language(\"urdu\")\n",
    "\n",
    "dir(muazam)       "
   ]
  },
  {
   "cell_type": "markdown",
   "metadata": {},
   "source": [
    "## pollymorphisum\n",
    " * any method performing  more than one behaviour\n",
    " ## having to things in polymorphisum\n",
    " * over ridding"
   ]
  },
  {
   "cell_type": "code",
   "execution_count": null,
   "metadata": {},
   "outputs": [],
   "source": []
  }
 ],
 "metadata": {
  "kernelspec": {
   "display_name": "python12",
   "language": "python",
   "name": "python3"
  },
  "language_info": {
   "codemirror_mode": {
    "name": "ipython",
    "version": 3
   },
   "file_extension": ".py",
   "mimetype": "text/x-python",
   "name": "python",
   "nbconvert_exporter": "python",
   "pygments_lexer": "ipython3",
   "version": "3.12.0"
  }
 },
 "nbformat": 4,
 "nbformat_minor": 2
}
