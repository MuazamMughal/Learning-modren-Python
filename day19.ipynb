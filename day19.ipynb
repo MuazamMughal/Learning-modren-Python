{
 "cells": [
  {
   "cell_type": "markdown",
   "metadata": {},
   "source": [
    "## studing the some to the methods of the dataframs manupulation in array\n",
    "* filtering\n",
    "* sorting\n",
    "* useful methods\n",
    "* groupby\n",
    "* merge\n",
    "\n"
   ]
  },
  {
   "cell_type": "code",
   "execution_count": 1,
   "metadata": {},
   "outputs": [],
   "source": [
    "import pandas as pd\n",
    "import numpy as np\n",
    "import pandera as pa\n",
    "from nptyping import NDArray ,Shape \n",
    "from typing import Any\n"
   ]
  },
  {
   "cell_type": "code",
   "execution_count": 4,
   "metadata": {},
   "outputs": [
    {
     "name": "stdout",
     "output_type": "stream",
     "text": [
      "   roll no     name   fathername  class date of admission   fee     course\n",
      "0      101     John     John Sr.     10        2023-01-15  5000       Math\n",
      "1      102    Alice    Alice Sr.     11        2023-02-20  6000    Science\n",
      "2      103      Bob      Bob Sr.     10        2023-03-10  5500    English\n",
      "3      104     Emma     Emma Sr.     12        2023-04-05  7000    Physics\n",
      "4      105  Michael  Michael Sr.     11        2023-05-12  6500    History\n",
      "5      106   Sophia   Sophia Sr.     10        2023-06-18  5000       Math\n",
      "6      107     Liam     Liam Sr.     12        2023-07-22  7200    Biology\n",
      "7      108   Olivia   Olivia Sr.     11        2023-08-30  6100  Chemistry\n",
      "8      109  William  William Sr.     12        2023-09-14  7300  Geography\n",
      "9      110      Ava      Ava Sr.     10        2023-10-25  4800        Art\n"
     ]
    }
   ],
   "source": [
    "import pandas as pd\n",
    "from datetime import datetime\n",
    "\n",
    "# Sample data for 10 students\n",
    "data = {\n",
    "    'roll no': [101, 102, 103, 104, 105, 106, 107, 108, 109, 110],\n",
    "    'name': ['John', 'Alice', 'Bob', 'Emma', 'Michael', 'Sophia', 'Liam', 'Olivia', 'William', 'Ava'],\n",
    "    'fathername': ['John Sr.', 'Alice Sr.', 'Bob Sr.', 'Emma Sr.', 'Michael Sr.', 'Sophia Sr.', 'Liam Sr.', 'Olivia Sr.', 'William Sr.', 'Ava Sr.'],\n",
    "    'class': [10, 11, 10, 12, 11, 10, 12, 11, 12, 10],\n",
    "    'date of admission': [\n",
    "        '2023-01-15', '2023-02-20', '2023-03-10', '2023-04-05', '2023-05-12',\n",
    "        '2023-06-18', '2023-07-22', '2023-08-30', '2023-09-14', '2023-10-25'\n",
    "    ],\n",
    "    'fee': [5000, 6000, 5500, 7000, 6500, 5000, 7200, 6100, 7300, 4800],\n",
    "    'course': ['Math', 'Science', 'English', 'Physics', 'History', 'Math', 'Biology', 'Chemistry', 'Geography', 'Art']\n",
    "}\n",
    "\n",
    "# Convert 'date of admission' column to datetime format\n",
    "data['date of admission'] = pd.to_datetime(data['date of admission'])\n",
    "\n",
    "# Creating the DataFrame\n",
    "students_df = pd.DataFrame(data)\n",
    "student=students_df\n",
    "\n",
    "# Displaying the DataFrame\n",
    "print(student)"
   ]
  },
  {
   "cell_type": "code",
   "execution_count": 5,
   "metadata": {},
   "outputs": [
    {
     "data": {
      "text/plain": [
       "course\n",
       "Math         2\n",
       "Science      1\n",
       "English      1\n",
       "Physics      1\n",
       "History      1\n",
       "Biology      1\n",
       "Chemistry    1\n",
       "Geography    1\n",
       "Art          1\n",
       "Name: count, dtype: int64"
      ]
     },
     "execution_count": 5,
     "metadata": {},
     "output_type": "execute_result"
    }
   ],
   "source": [
    "#to date function converts the dates in the datetime\n",
    "# value count: the thell us htat the\n",
    "# particular columns antities comes in how many of times\n",
    "\n",
    "student.course.value_counts()"
   ]
  },
  {
   "cell_type": "code",
   "execution_count": 9,
   "metadata": {},
   "outputs": [
    {
     "data": {
      "text/plain": [
       "course\n",
       "Math         0.2\n",
       "Science      0.1\n",
       "English      0.1\n",
       "Physics      0.1\n",
       "History      0.1\n",
       "Biology      0.1\n",
       "Chemistry    0.1\n",
       "Geography    0.1\n",
       "Art          0.1\n",
       "Name: proportion, dtype: float64"
      ]
     },
     "metadata": {},
     "output_type": "display_data"
    },
    {
     "data": {
      "text/plain": [
       "course\n",
       "Math         20.0\n",
       "Science      10.0\n",
       "English      10.0\n",
       "Physics      10.0\n",
       "History      10.0\n",
       "Biology      10.0\n",
       "Chemistry    10.0\n",
       "Geography    10.0\n",
       "Art          10.0\n",
       "Name: proportion, dtype: float64"
      ]
     },
     "metadata": {},
     "output_type": "display_data"
    }
   ],
   "source": [
    "# now if you wanted count the na items then use the dropna=false\n",
    "# with the normalize =true they tells the persontages\n",
    "inratio=student.course.value_counts(dropna=True , normalize=True)\n",
    "display(inratio) # this is the pridiction\n",
    "inpersentage=student.course.value_counts(dropna=True , normalize=True)*100\n",
    "display(inpersentage)# giving the persentage"
   ]
  },
  {
   "cell_type": "code",
   "execution_count": 21,
   "metadata": {},
   "outputs": [
    {
     "name": "stdout",
     "output_type": "stream",
     "text": [
      "         date   fee\n",
      "0  2023-01-01  4356\n",
      "1  2023-01-02  4654\n",
      "2  2023-01-03  3571\n",
      "3  2023-01-04  3984\n",
      "4  2023-01-05  2473\n",
      "..        ...   ...\n",
      "95 2023-04-06  2275\n",
      "96 2023-04-07  3361\n",
      "97 2023-04-08  3662\n",
      "98 2023-04-09  4105\n",
      "99 2023-04-10  3308\n",
      "\n",
      "[100 rows x 2 columns]\n"
     ]
    }
   ],
   "source": [
    "import pandas as pd\n",
    "import numpy as np\n",
    "from datetime import timedelta\n",
    "\n",
    "# Generate dates starting from '2023-01-01' for 10 days\n",
    "start_date = pd.to_datetime('2023-01-01')\n",
    "end_date = start_date + timedelta(days=99)  # Generate data for 10 days\n",
    "dates = pd.date_range(start=start_date, end=end_date, freq='D')\n",
    "\n",
    "# Generate random fees between 1000 and 5000\n",
    "fees = np.random.randint(1000, 5000, size=100)\n",
    "\n",
    "# Create a DataFrame with 'date' and 'fee' columns\n",
    "data = {'date': dates, 'fee': fees}\n",
    "datafee = pd.DataFrame(data)\n",
    "\n",
    "# Display the generated DataFrame\n",
    "print(datafee)"
   ]
  },
  {
   "cell_type": "code",
   "execution_count": 23,
   "metadata": {},
   "outputs": [
    {
     "data": {
      "text/plain": [
       "0     (4000, 5000]\n",
       "1     (4000, 5000]\n",
       "2     (3000, 4000]\n",
       "3     (3000, 4000]\n",
       "4     (2000, 3000]\n",
       "          ...     \n",
       "95    (2000, 3000]\n",
       "96    (3000, 4000]\n",
       "97    (3000, 4000]\n",
       "98    (4000, 5000]\n",
       "99    (3000, 4000]\n",
       "Name: fee, Length: 100, dtype: category\n",
       "Categories (5, interval[int64, right]): [(1, 1000] < (1000, 2000] < (2000, 3000] < (3000, 4000] < (4000, 5000]]"
      ]
     },
     "metadata": {},
     "output_type": "display_data"
    }
   ],
   "source": [
    "#pd.cut() used to find the slabs in the data sets\n",
    "slabs=pd.cut(datafee.fee , [1,1000,2000,3000,4000,5000])\n",
    "display(slabs)\n",
    "#they told us that thin perticular is fallin in theis slabs"
   ]
  },
  {
   "cell_type": "code",
   "execution_count": 28,
   "metadata": {},
   "outputs": [
    {
     "data": {
      "text/plain": [
       "fee\n",
       "(4000, 5000]    31\n",
       "(1000, 2000]    24\n",
       "(2000, 3000]    23\n",
       "(3000, 4000]    22\n",
       "(1, 1000]        0\n",
       "Name: count, dtype: int64"
      ]
     },
     "metadata": {},
     "output_type": "display_data"
    },
    {
     "data": {
      "text/plain": [
       "fee\n",
       "(4000, 5000]    31.0\n",
       "(1000, 2000]    24.0\n",
       "(2000, 3000]    23.0\n",
       "(3000, 4000]    22.0\n",
       "(1, 1000]        0.0\n",
       "Name: proportion, dtype: float64"
      ]
     },
     "metadata": {},
     "output_type": "display_data"
    }
   ],
   "source": [
    "#now we gona fine the persentage o the slabs that occues more\n",
    "vc=slabs.value_counts()\n",
    "display(vc)\n",
    "slabper=slabs.value_counts(normalize=True)*100\n",
    "display(slabper)"
   ]
  },
  {
   "cell_type": "code",
   "execution_count": 33,
   "metadata": {},
   "outputs": [
    {
     "data": {
      "text/plain": [
       "0       (4010.2, 4658.2]\n",
       "1       (4010.2, 4658.2]\n",
       "2       (3195.5, 4010.2]\n",
       "3       (3195.5, 4010.2]\n",
       "4     (2266.299, 3195.5]\n",
       "             ...        \n",
       "95    (2266.299, 3195.5]\n",
       "96      (3195.5, 4010.2]\n",
       "97      (3195.5, 4010.2]\n",
       "98      (4010.2, 4658.2]\n",
       "99      (3195.5, 4010.2]\n",
       "Name: fee, Length: 100, dtype: category\n",
       "Categories (4, interval[float64, right]): [(2266.299, 3195.5] < (3195.5, 4010.2] < (4010.2, 4658.2] < (4658.2, 4985.0]]"
      ]
     },
     "execution_count": 33,
     "metadata": {},
     "output_type": "execute_result"
    }
   ],
   "source": [
    "#now qcut() now it takes the persantages which doyou wants\n",
    "pd.qcut(datafee.fee, [0.3,0.5,0.7,0.9 ,1])"
   ]
  },
  {
   "cell_type": "code",
   "execution_count": 34,
   "metadata": {},
   "outputs": [
    {
     "data": {
      "text/plain": [
       "fee\n",
       "(2266.299, 3195.5]    20\n",
       "(3195.5, 4010.2]      20\n",
       "(4010.2, 4658.2]      20\n",
       "(4658.2, 4985.0]      10\n",
       "Name: count, dtype: int64"
      ]
     },
     "execution_count": 34,
     "metadata": {},
     "output_type": "execute_result"
    }
   ],
   "source": [
    "pd.qcut(datafee.fee, [0.3,0.5,0.7,0.9 ,1]).value_counts()"
   ]
  },
  {
   "cell_type": "code",
   "execution_count": 35,
   "metadata": {},
   "outputs": [
    {
     "data": {
      "text/plain": [
       "fee\n",
       "(2266.299, 3195.5]    28.571429\n",
       "(3195.5, 4010.2]      28.571429\n",
       "(4010.2, 4658.2]      28.571429\n",
       "(4658.2, 4985.0]      14.285714\n",
       "Name: proportion, dtype: float64"
      ]
     },
     "execution_count": 35,
     "metadata": {},
     "output_type": "execute_result"
    }
   ],
   "source": [
    "pd.qcut(datafee.fee, [0.3,0.5,0.7,0.9 ,1]).value_counts(normalize=True)*100"
   ]
  },
  {
   "cell_type": "markdown",
   "metadata": {},
   "source": [
    "## filter on coloumns\n",
    "* &, |,~\n",
    "\n",
    "* dataframe[{df.column1 == value1}&]"
   ]
  },
  {
   "cell_type": "code",
   "execution_count": 37,
   "metadata": {},
   "outputs": [
    {
     "data": {
      "text/html": [
       "<div>\n",
       "<style scoped>\n",
       "    .dataframe tbody tr th:only-of-type {\n",
       "        vertical-align: middle;\n",
       "    }\n",
       "\n",
       "    .dataframe tbody tr th {\n",
       "        vertical-align: top;\n",
       "    }\n",
       "\n",
       "    .dataframe thead th {\n",
       "        text-align: right;\n",
       "    }\n",
       "</style>\n",
       "<table border=\"1\" class=\"dataframe\">\n",
       "  <thead>\n",
       "    <tr style=\"text-align: right;\">\n",
       "      <th></th>\n",
       "      <th>roll no</th>\n",
       "      <th>name</th>\n",
       "      <th>fathername</th>\n",
       "      <th>class</th>\n",
       "      <th>date of admission</th>\n",
       "      <th>fee</th>\n",
       "      <th>course</th>\n",
       "    </tr>\n",
       "  </thead>\n",
       "  <tbody>\n",
       "    <tr>\n",
       "      <th>0</th>\n",
       "      <td>101</td>\n",
       "      <td>John</td>\n",
       "      <td>John Sr.</td>\n",
       "      <td>10</td>\n",
       "      <td>2023-01-15</td>\n",
       "      <td>5000</td>\n",
       "      <td>Math</td>\n",
       "    </tr>\n",
       "    <tr>\n",
       "      <th>1</th>\n",
       "      <td>102</td>\n",
       "      <td>Alice</td>\n",
       "      <td>Alice Sr.</td>\n",
       "      <td>11</td>\n",
       "      <td>2023-02-20</td>\n",
       "      <td>6000</td>\n",
       "      <td>Science</td>\n",
       "    </tr>\n",
       "    <tr>\n",
       "      <th>2</th>\n",
       "      <td>103</td>\n",
       "      <td>Bob</td>\n",
       "      <td>Bob Sr.</td>\n",
       "      <td>10</td>\n",
       "      <td>2023-03-10</td>\n",
       "      <td>5500</td>\n",
       "      <td>English</td>\n",
       "    </tr>\n",
       "    <tr>\n",
       "      <th>3</th>\n",
       "      <td>104</td>\n",
       "      <td>Emma</td>\n",
       "      <td>Emma Sr.</td>\n",
       "      <td>12</td>\n",
       "      <td>2023-04-05</td>\n",
       "      <td>7000</td>\n",
       "      <td>Physics</td>\n",
       "    </tr>\n",
       "    <tr>\n",
       "      <th>4</th>\n",
       "      <td>105</td>\n",
       "      <td>Michael</td>\n",
       "      <td>Michael Sr.</td>\n",
       "      <td>11</td>\n",
       "      <td>2023-05-12</td>\n",
       "      <td>6500</td>\n",
       "      <td>History</td>\n",
       "    </tr>\n",
       "  </tbody>\n",
       "</table>\n",
       "</div>"
      ],
      "text/plain": [
       "   roll no     name   fathername  class date of admission   fee   course\n",
       "0      101     John     John Sr.     10        2023-01-15  5000     Math\n",
       "1      102    Alice    Alice Sr.     11        2023-02-20  6000  Science\n",
       "2      103      Bob      Bob Sr.     10        2023-03-10  5500  English\n",
       "3      104     Emma     Emma Sr.     12        2023-04-05  7000  Physics\n",
       "4      105  Michael  Michael Sr.     11        2023-05-12  6500  History"
      ]
     },
     "execution_count": 37,
     "metadata": {},
     "output_type": "execute_result"
    }
   ],
   "source": [
    "student.head()\n"
   ]
  },
  {
   "cell_type": "code",
   "execution_count": 38,
   "metadata": {},
   "outputs": [
    {
     "data": {
      "text/plain": [
       "0         math\n",
       "1      science\n",
       "2      english\n",
       "3      physics\n",
       "4      history\n",
       "5         math\n",
       "6      biology\n",
       "7    chemistry\n",
       "8    geography\n",
       "9          art\n",
       "Name: course, dtype: object"
      ]
     },
     "execution_count": 38,
     "metadata": {},
     "output_type": "execute_result"
    }
   ],
   "source": [
    "\n",
    "student['course'].str.lower()"
   ]
  },
  {
   "cell_type": "code",
   "execution_count": 39,
   "metadata": {},
   "outputs": [
    {
     "data": {
      "text/plain": [
       "0    False\n",
       "1    False\n",
       "2    False\n",
       "3     True\n",
       "4    False\n",
       "5    False\n",
       "6    False\n",
       "7    False\n",
       "8    False\n",
       "9    False\n",
       "Name: course, dtype: bool"
      ]
     },
     "execution_count": 39,
     "metadata": {},
     "output_type": "execute_result"
    }
   ],
   "source": [
    "#when we write it simply it is be the boolen experassion\n",
    "student['course'].str.lower().str.contains('cs')\n",
    "#they only told that that is true and what is not true\n"
   ]
  },
  {
   "cell_type": "code",
   "execution_count": 40,
   "metadata": {},
   "outputs": [
    {
     "data": {
      "text/html": [
       "<div>\n",
       "<style scoped>\n",
       "    .dataframe tbody tr th:only-of-type {\n",
       "        vertical-align: middle;\n",
       "    }\n",
       "\n",
       "    .dataframe tbody tr th {\n",
       "        vertical-align: top;\n",
       "    }\n",
       "\n",
       "    .dataframe thead th {\n",
       "        text-align: right;\n",
       "    }\n",
       "</style>\n",
       "<table border=\"1\" class=\"dataframe\">\n",
       "  <thead>\n",
       "    <tr style=\"text-align: right;\">\n",
       "      <th></th>\n",
       "      <th>roll no</th>\n",
       "      <th>name</th>\n",
       "      <th>fathername</th>\n",
       "      <th>class</th>\n",
       "      <th>date of admission</th>\n",
       "      <th>fee</th>\n",
       "      <th>course</th>\n",
       "    </tr>\n",
       "  </thead>\n",
       "  <tbody>\n",
       "    <tr>\n",
       "      <th>3</th>\n",
       "      <td>104</td>\n",
       "      <td>Emma</td>\n",
       "      <td>Emma Sr.</td>\n",
       "      <td>12</td>\n",
       "      <td>2023-04-05</td>\n",
       "      <td>7000</td>\n",
       "      <td>Physics</td>\n",
       "    </tr>\n",
       "  </tbody>\n",
       "</table>\n",
       "</div>"
      ],
      "text/plain": [
       "   roll no  name fathername  class date of admission   fee   course\n",
       "3      104  Emma   Emma Sr.     12        2023-04-05  7000  Physics"
      ]
     },
     "execution_count": 40,
     "metadata": {},
     "output_type": "execute_result"
    }
   ],
   "source": [
    "#now fetching the values using the bool values\n",
    "student[student['course'].str.lower().str.contains('cs')]"
   ]
  },
  {
   "cell_type": "code",
   "execution_count": 48,
   "metadata": {},
   "outputs": [
    {
     "data": {
      "text/html": [
       "<div>\n",
       "<style scoped>\n",
       "    .dataframe tbody tr th:only-of-type {\n",
       "        vertical-align: middle;\n",
       "    }\n",
       "\n",
       "    .dataframe tbody tr th {\n",
       "        vertical-align: top;\n",
       "    }\n",
       "\n",
       "    .dataframe thead th {\n",
       "        text-align: right;\n",
       "    }\n",
       "</style>\n",
       "<table border=\"1\" class=\"dataframe\">\n",
       "  <thead>\n",
       "    <tr style=\"text-align: right;\">\n",
       "      <th></th>\n",
       "      <th>roll no</th>\n",
       "      <th>name</th>\n",
       "      <th>fathername</th>\n",
       "      <th>class</th>\n",
       "      <th>date of admission</th>\n",
       "      <th>fee</th>\n",
       "      <th>course</th>\n",
       "    </tr>\n",
       "  </thead>\n",
       "  <tbody>\n",
       "    <tr>\n",
       "      <th>1</th>\n",
       "      <td>102</td>\n",
       "      <td>Alice</td>\n",
       "      <td>Alice Sr.</td>\n",
       "      <td>11</td>\n",
       "      <td>2023-02-20</td>\n",
       "      <td>6000</td>\n",
       "      <td>Science</td>\n",
       "    </tr>\n",
       "    <tr>\n",
       "      <th>2</th>\n",
       "      <td>103</td>\n",
       "      <td>Bob</td>\n",
       "      <td>Bob Sr.</td>\n",
       "      <td>10</td>\n",
       "      <td>2023-03-10</td>\n",
       "      <td>5500</td>\n",
       "      <td>English</td>\n",
       "    </tr>\n",
       "    <tr>\n",
       "      <th>3</th>\n",
       "      <td>104</td>\n",
       "      <td>Emma</td>\n",
       "      <td>Emma Sr.</td>\n",
       "      <td>12</td>\n",
       "      <td>2023-04-05</td>\n",
       "      <td>7000</td>\n",
       "      <td>Physics</td>\n",
       "    </tr>\n",
       "    <tr>\n",
       "      <th>4</th>\n",
       "      <td>105</td>\n",
       "      <td>Michael</td>\n",
       "      <td>Michael Sr.</td>\n",
       "      <td>11</td>\n",
       "      <td>2023-05-12</td>\n",
       "      <td>6500</td>\n",
       "      <td>History</td>\n",
       "    </tr>\n",
       "    <tr>\n",
       "      <th>7</th>\n",
       "      <td>108</td>\n",
       "      <td>Olivia</td>\n",
       "      <td>Olivia Sr.</td>\n",
       "      <td>11</td>\n",
       "      <td>2023-08-30</td>\n",
       "      <td>6100</td>\n",
       "      <td>Chemistry</td>\n",
       "    </tr>\n",
       "  </tbody>\n",
       "</table>\n",
       "</div>"
      ],
      "text/plain": [
       "   roll no     name   fathername  class date of admission   fee     course\n",
       "1      102    Alice    Alice Sr.     11        2023-02-20  6000    Science\n",
       "2      103      Bob      Bob Sr.     10        2023-03-10  5500    English\n",
       "3      104     Emma     Emma Sr.     12        2023-04-05  7000    Physics\n",
       "4      105  Michael  Michael Sr.     11        2023-05-12  6500    History\n",
       "7      108   Olivia   Olivia Sr.     11        2023-08-30  6100  Chemistry"
      ]
     },
     "execution_count": 48,
     "metadata": {},
     "output_type": "execute_result"
    }
   ],
   "source": [
    "#now fetching  the values using logical conditioning among the col\n",
    "student[(student['course'].str.lower().str.contains('s')) &  (student['fee']>1000)]"
   ]
  },
  {
   "cell_type": "code",
   "execution_count": 49,
   "metadata": {},
   "outputs": [
    {
     "data": {
      "text/plain": [
       "0    False\n",
       "1    False\n",
       "2    False\n",
       "3    False\n",
       "4     True\n",
       "5    False\n",
       "6    False\n",
       "7     True\n",
       "8    False\n",
       "9    False\n",
       "Name: course, dtype: bool"
      ]
     },
     "execution_count": 49,
     "metadata": {},
     "output_type": "execute_result"
    }
   ],
   "source": [
    "student['course'].str.lower().str.contains('s') &  (student['course'].\n",
    "                                                    str.lower().\n",
    "                                                    str.contains('r'))"
   ]
  },
  {
   "cell_type": "code",
   "execution_count": 50,
   "metadata": {},
   "outputs": [
    {
     "data": {
      "text/html": [
       "<div>\n",
       "<style scoped>\n",
       "    .dataframe tbody tr th:only-of-type {\n",
       "        vertical-align: middle;\n",
       "    }\n",
       "\n",
       "    .dataframe tbody tr th {\n",
       "        vertical-align: top;\n",
       "    }\n",
       "\n",
       "    .dataframe thead th {\n",
       "        text-align: right;\n",
       "    }\n",
       "</style>\n",
       "<table border=\"1\" class=\"dataframe\">\n",
       "  <thead>\n",
       "    <tr style=\"text-align: right;\">\n",
       "      <th></th>\n",
       "      <th>roll no</th>\n",
       "      <th>name</th>\n",
       "      <th>fathername</th>\n",
       "      <th>class</th>\n",
       "      <th>date of admission</th>\n",
       "      <th>fee</th>\n",
       "      <th>course</th>\n",
       "    </tr>\n",
       "  </thead>\n",
       "  <tbody>\n",
       "    <tr>\n",
       "      <th>4</th>\n",
       "      <td>105</td>\n",
       "      <td>Michael</td>\n",
       "      <td>Michael Sr.</td>\n",
       "      <td>11</td>\n",
       "      <td>2023-05-12</td>\n",
       "      <td>6500</td>\n",
       "      <td>History</td>\n",
       "    </tr>\n",
       "    <tr>\n",
       "      <th>7</th>\n",
       "      <td>108</td>\n",
       "      <td>Olivia</td>\n",
       "      <td>Olivia Sr.</td>\n",
       "      <td>11</td>\n",
       "      <td>2023-08-30</td>\n",
       "      <td>6100</td>\n",
       "      <td>Chemistry</td>\n",
       "    </tr>\n",
       "  </tbody>\n",
       "</table>\n",
       "</div>"
      ],
      "text/plain": [
       "   roll no     name   fathername  class date of admission   fee     course\n",
       "4      105  Michael  Michael Sr.     11        2023-05-12  6500    History\n",
       "7      108   Olivia   Olivia Sr.     11        2023-08-30  6100  Chemistry"
      ]
     },
     "execution_count": 50,
     "metadata": {},
     "output_type": "execute_result"
    }
   ],
   "source": [
    "student[student['course'].str.lower().str.contains('s') &  (student['course'].\n",
    "                                                    str.lower().\n",
    "                                                    str.contains('r'))]"
   ]
  },
  {
   "cell_type": "code",
   "execution_count": 51,
   "metadata": {},
   "outputs": [
    {
     "data": {
      "text/html": [
       "<div>\n",
       "<style scoped>\n",
       "    .dataframe tbody tr th:only-of-type {\n",
       "        vertical-align: middle;\n",
       "    }\n",
       "\n",
       "    .dataframe tbody tr th {\n",
       "        vertical-align: top;\n",
       "    }\n",
       "\n",
       "    .dataframe thead th {\n",
       "        text-align: right;\n",
       "    }\n",
       "</style>\n",
       "<table border=\"1\" class=\"dataframe\">\n",
       "  <thead>\n",
       "    <tr style=\"text-align: right;\">\n",
       "      <th></th>\n",
       "      <th>roll no</th>\n",
       "      <th>name</th>\n",
       "      <th>fathername</th>\n",
       "      <th>class</th>\n",
       "      <th>date of admission</th>\n",
       "      <th>fee</th>\n",
       "      <th>course</th>\n",
       "    </tr>\n",
       "  </thead>\n",
       "  <tbody>\n",
       "    <tr>\n",
       "      <th>0</th>\n",
       "      <td>101</td>\n",
       "      <td>John</td>\n",
       "      <td>John Sr.</td>\n",
       "      <td>10</td>\n",
       "      <td>2023-01-15</td>\n",
       "      <td>5000</td>\n",
       "      <td>Math</td>\n",
       "    </tr>\n",
       "    <tr>\n",
       "      <th>1</th>\n",
       "      <td>102</td>\n",
       "      <td>Alice</td>\n",
       "      <td>Alice Sr.</td>\n",
       "      <td>11</td>\n",
       "      <td>2023-02-20</td>\n",
       "      <td>6000</td>\n",
       "      <td>Science</td>\n",
       "    </tr>\n",
       "    <tr>\n",
       "      <th>2</th>\n",
       "      <td>103</td>\n",
       "      <td>Bob</td>\n",
       "      <td>Bob Sr.</td>\n",
       "      <td>10</td>\n",
       "      <td>2023-03-10</td>\n",
       "      <td>5500</td>\n",
       "      <td>English</td>\n",
       "    </tr>\n",
       "    <tr>\n",
       "      <th>3</th>\n",
       "      <td>104</td>\n",
       "      <td>Emma</td>\n",
       "      <td>Emma Sr.</td>\n",
       "      <td>12</td>\n",
       "      <td>2023-04-05</td>\n",
       "      <td>7000</td>\n",
       "      <td>Physics</td>\n",
       "    </tr>\n",
       "    <tr>\n",
       "      <th>4</th>\n",
       "      <td>105</td>\n",
       "      <td>Michael</td>\n",
       "      <td>Michael Sr.</td>\n",
       "      <td>11</td>\n",
       "      <td>2023-05-12</td>\n",
       "      <td>6500</td>\n",
       "      <td>History</td>\n",
       "    </tr>\n",
       "    <tr>\n",
       "      <th>5</th>\n",
       "      <td>106</td>\n",
       "      <td>Sophia</td>\n",
       "      <td>Sophia Sr.</td>\n",
       "      <td>10</td>\n",
       "      <td>2023-06-18</td>\n",
       "      <td>5000</td>\n",
       "      <td>Math</td>\n",
       "    </tr>\n",
       "    <tr>\n",
       "      <th>6</th>\n",
       "      <td>107</td>\n",
       "      <td>Liam</td>\n",
       "      <td>Liam Sr.</td>\n",
       "      <td>12</td>\n",
       "      <td>2023-07-22</td>\n",
       "      <td>7200</td>\n",
       "      <td>Biology</td>\n",
       "    </tr>\n",
       "    <tr>\n",
       "      <th>7</th>\n",
       "      <td>108</td>\n",
       "      <td>Olivia</td>\n",
       "      <td>Olivia Sr.</td>\n",
       "      <td>11</td>\n",
       "      <td>2023-08-30</td>\n",
       "      <td>6100</td>\n",
       "      <td>Chemistry</td>\n",
       "    </tr>\n",
       "    <tr>\n",
       "      <th>8</th>\n",
       "      <td>109</td>\n",
       "      <td>William</td>\n",
       "      <td>William Sr.</td>\n",
       "      <td>12</td>\n",
       "      <td>2023-09-14</td>\n",
       "      <td>7300</td>\n",
       "      <td>Geography</td>\n",
       "    </tr>\n",
       "    <tr>\n",
       "      <th>9</th>\n",
       "      <td>110</td>\n",
       "      <td>Ava</td>\n",
       "      <td>Ava Sr.</td>\n",
       "      <td>10</td>\n",
       "      <td>2023-10-25</td>\n",
       "      <td>4800</td>\n",
       "      <td>Art</td>\n",
       "    </tr>\n",
       "  </tbody>\n",
       "</table>\n",
       "</div>"
      ],
      "text/plain": [
       "   roll no     name   fathername  class date of admission   fee     course\n",
       "0      101     John     John Sr.     10        2023-01-15  5000       Math\n",
       "1      102    Alice    Alice Sr.     11        2023-02-20  6000    Science\n",
       "2      103      Bob      Bob Sr.     10        2023-03-10  5500    English\n",
       "3      104     Emma     Emma Sr.     12        2023-04-05  7000    Physics\n",
       "4      105  Michael  Michael Sr.     11        2023-05-12  6500    History\n",
       "5      106   Sophia   Sophia Sr.     10        2023-06-18  5000       Math\n",
       "6      107     Liam     Liam Sr.     12        2023-07-22  7200    Biology\n",
       "7      108   Olivia   Olivia Sr.     11        2023-08-30  6100  Chemistry\n",
       "8      109  William  William Sr.     12        2023-09-14  7300  Geography\n",
       "9      110      Ava      Ava Sr.     10        2023-10-25  4800        Art"
      ]
     },
     "execution_count": 51,
     "metadata": {},
     "output_type": "execute_result"
    }
   ],
   "source": [
    "student"
   ]
  },
  {
   "cell_type": "markdown",
   "metadata": {},
   "source": [
    "## now understanding the date and time\n",
    "* df.coloum_name.dt\n",
    "* dt.strftime\n",
    "* dt.strptime"
   ]
  },
  {
   "cell_type": "code",
   "execution_count": 52,
   "metadata": {},
   "outputs": [
    {
     "data": {
      "text/plain": [
       "0   2023-01-15\n",
       "1   2023-02-20\n",
       "2   2023-03-10\n",
       "3   2023-04-05\n",
       "4   2023-05-12\n",
       "5   2023-06-18\n",
       "6   2023-07-22\n",
       "7   2023-08-30\n",
       "8   2023-09-14\n",
       "9   2023-10-25\n",
       "Name: date of admission, dtype: datetime64[ns]"
      ]
     },
     "execution_count": 52,
     "metadata": {},
     "output_type": "execute_result"
    }
   ],
   "source": [
    "student[\"date of admission\"]"
   ]
  },
  {
   "cell_type": "code",
   "execution_count": 53,
   "metadata": {},
   "outputs": [
    {
     "data": {
      "text/plain": [
       "['ceil',\n",
       " 'date',\n",
       " 'day',\n",
       " 'dayofweek',\n",
       " 'dayofyear',\n",
       " 'daysinmonth',\n",
       " 'floor',\n",
       " 'freq',\n",
       " 'hour',\n",
       " 'isocalendar',\n",
       " 'microsecond',\n",
       " 'minute',\n",
       " 'month',\n",
       " 'nanosecond',\n",
       " 'normalize',\n",
       " 'quarter',\n",
       " 'round',\n",
       " 'second',\n",
       " 'strftime',\n",
       " 'time',\n",
       " 'timetz',\n",
       " 'tz',\n",
       " 'unit',\n",
       " 'weekday',\n",
       " 'year']"
      ]
     },
     "execution_count": 53,
     "metadata": {},
     "output_type": "execute_result"
    }
   ],
   "source": [
    "[i for i in dir(student['date of admission'].dt) if \"_\" not in i]"
   ]
  },
  {
   "cell_type": "code",
   "execution_count": 54,
   "metadata": {},
   "outputs": [
    {
     "data": {
      "text/plain": [
       "0    2023\n",
       "1    2023\n",
       "2    2023\n",
       "3    2023\n",
       "4    2023\n",
       "5    2023\n",
       "6    2023\n",
       "7    2023\n",
       "8    2023\n",
       "9    2023\n",
       "Name: date of admission, dtype: int32"
      ]
     },
     "execution_count": 54,
     "metadata": {},
     "output_type": "execute_result"
    }
   ],
   "source": [
    "student[\"date of admission\"].dt.year"
   ]
  },
  {
   "cell_type": "code",
   "execution_count": 56,
   "metadata": {},
   "outputs": [
    {
     "data": {
      "text/plain": [
       "0       Sunday\n",
       "1       Monday\n",
       "2       Friday\n",
       "3    Wednesday\n",
       "4       Friday\n",
       "5       Sunday\n",
       "6     Saturday\n",
       "7    Wednesday\n",
       "8     Thursday\n",
       "9    Wednesday\n",
       "Name: date of admission, dtype: object"
      ]
     },
     "execution_count": 56,
     "metadata": {},
     "output_type": "execute_result"
    }
   ],
   "source": [
    "student[\"date of admission\"].dt.day_name()"
   ]
  },
  {
   "cell_type": "code",
   "execution_count": 59,
   "metadata": {},
   "outputs": [
    {
     "data": {
      "text/plain": [
       "0    15\n",
       "1    20\n",
       "2    10\n",
       "3     5\n",
       "4    12\n",
       "5    18\n",
       "6    22\n",
       "7    30\n",
       "8    14\n",
       "9    25\n",
       "Name: date of admission, dtype: int32"
      ]
     },
     "execution_count": 59,
     "metadata": {},
     "output_type": "execute_result"
    }
   ],
   "source": [
    "student[\"date of admission\"].dt.day"
   ]
  },
  {
   "cell_type": "markdown",
   "metadata": {},
   "source": [
    "# some of the nessery methods to rember\n",
    "* having differnt methods symbols"
   ]
  },
  {
   "cell_type": "markdown",
   "metadata": {},
   "source": [
    "```Certainly! Here's a comprehensive list of symbols used in the strftime and strptime methods in Python's datetime module:\n",
    "\n",
    "Symbols for strftime (Formatting)\n",
    "%Y: Year with century as a decimal number (e.g., 2023)\n",
    "%y: Year without century as a zero-padded decimal number (e.g., 23 for 2023)\n",
    "%m: Month as a zero-padded decimal number (e.g., 01 for January)\n",
    "%d: Day of the month as a zero-padded decimal number (e.g., 07)\n",
    "%H: Hour (24-hour clock) as a zero-padded decimal number (e.g., 14 for 2 PM)\n",
    "%I: Hour (12-hour clock) as a zero-padded decimal number (e.g., 02 for 2 AM/PM)\n",
    "%M: Minute as a zero-padded decimal number (e.g., 05)\n",
    "%S: Second as a zero-padded decimal number (e.g., 09)\n",
    "%A: Weekday as a full name (e.g., Sunday)\n",
    "%a: Weekday as an abbreviated name (e.g., Sun)\n",
    "%B: Month as a full name (e.g., January)\n",
    "%b or %h: Month as an abbreviated name (e.g., Jan)\n",
    "%p: AM or PM designation\n",
    "%f: Microsecond as a decimal number, zero-padded on the left (e.g., 000123)\n",
    "%j: Day of the year as a zero-padded decimal number (e.g., 365)\n",
    "%U: Week number of the year (Sunday as the first day of the week) as a zero-padded decimal number (e.g., 52)\n",
    "%W: Week number of the year (Monday as the first day of the week) as a zero-padded decimal number (e.g., 52)\n",
    "%Z: Time zone name\n",
    "Symbols for strptime (Parsing)\n",
    "The symbols for strptime are similar to strftime, as they represent the same components but are used to specify the format of the input string to be parsed.\n",
    "\n",
    "For example:\n",
    "\n",
    "%Y specifies that the input string will contain the year with century.\n",
    "%m specifies that the input string will contain the month in a zero-padded format.\n",
    "Both methods use these symbols to handle conversion between strings and datetime objects, with strftime formatting datetime objects into strings and strptime parsing strings into datetime objects.```"
   ]
  },
  {
   "cell_type": "code",
   "execution_count": 61,
   "metadata": {},
   "outputs": [
    {
     "data": {
      "text/plain": [
       "datetime.datetime(2023, 11, 28, 5, 58, 50, 425686)"
      ]
     },
     "metadata": {},
     "output_type": "display_data"
    },
    {
     "data": {
      "text/plain": [
       "0   2023-11-28 05:58:50.425686\n",
       "dtype: datetime64[ns]"
      ]
     },
     "metadata": {},
     "output_type": "display_data"
    }
   ],
   "source": [
    "from datetime import datetime\n",
    "\n",
    "from numpy import arange\n",
    "date: datetime = datetime.now()\n",
    "display(date)\n",
    "\n",
    "s1:pd.Series= pd.Series([date])\n",
    "display(s1)"
   ]
  },
  {
   "cell_type": "code",
   "execution_count": 62,
   "metadata": {},
   "outputs": [
    {
     "data": {
      "text/plain": [
       "0    23/11\n",
       "dtype: object"
      ]
     },
     "execution_count": 62,
     "metadata": {},
     "output_type": "execute_result"
    }
   ],
   "source": [
    "#convetres the date to text\n",
    "s1.dt.strftime(\"%y/%m\")\n"
   ]
  },
  {
   "cell_type": "code",
   "execution_count": 63,
   "metadata": {},
   "outputs": [
    {
     "data": {
      "text/plain": [
       "0     23/11  28 05 Nov November \n",
       "dtype: object"
      ]
     },
     "execution_count": 63,
     "metadata": {},
     "output_type": "execute_result"
    }
   ],
   "source": [
    "s1.dt.strftime(\" %y/%m  %d %I %b %B \")"
   ]
  },
  {
   "cell_type": "code",
   "execution_count": 64,
   "metadata": {},
   "outputs": [
    {
     "data": {
      "text/plain": [
       "0     05  \n",
       "dtype: object"
      ]
     },
     "execution_count": 64,
     "metadata": {},
     "output_type": "execute_result"
    }
   ],
   "source": [
    "s1.dt.strftime(\" %I  \")"
   ]
  },
  {
   "cell_type": "code",
   "execution_count": 65,
   "metadata": {},
   "outputs": [
    {
     "data": {
      "text/plain": [
       "0    01 nov 2023\n",
       "1    02 nov 2024\n",
       "2    04 nov 2025\n",
       "dtype: object"
      ]
     },
     "metadata": {},
     "output_type": "display_data"
    }
   ],
   "source": [
    "# now ptime\n",
    "s2: pd.Series= pd.Series(['01 nov 2023','02 nov 2024','04 nov 2025'])\n",
    "display(s2)\n",
    "\n",
    "#no wthis is the object"
   ]
  },
  {
   "cell_type": "code",
   "execution_count": 67,
   "metadata": {},
   "outputs": [
    {
     "data": {
      "text/plain": [
       "0   2023-11-01\n",
       "1   2024-11-02\n",
       "2   2025-11-04\n",
       "dtype: datetime64[ns]"
      ]
     },
     "execution_count": 67,
     "metadata": {},
     "output_type": "execute_result"
    }
   ],
   "source": [
    "# strings to datetime\n",
    "s2.apply(lambda x : datetime.strptime(x , \"%d %b %Y\") )"
   ]
  },
  {
   "cell_type": "markdown",
   "metadata": {},
   "source": [
    "## group by\n",
    "* dataFrame.groupby([\"\"colum1,\"colum2\"])\n",
    "* dataFrame.groupby([\"\"colum1])[['col1']].aggeregate([mai,max])\n",
    "* dataFrame.groupby([\"\"colum1,\"colum2\"])[['col1','col2']].aggeregate([mai,max])\n",
    "\n",
    "* dataFrame.groupby([\"\"colum1])[[\"colum2\"]].apply(function())\n",
    "* dataFrame.groupby([\"\"colum1,\"colum2\"])[['col1','col2']].apply(function())"
   ]
  },
  {
   "cell_type": "code",
   "execution_count": 68,
   "metadata": {},
   "outputs": [
    {
     "data": {
      "text/html": [
       "<div>\n",
       "<style scoped>\n",
       "    .dataframe tbody tr th:only-of-type {\n",
       "        vertical-align: middle;\n",
       "    }\n",
       "\n",
       "    .dataframe tbody tr th {\n",
       "        vertical-align: top;\n",
       "    }\n",
       "\n",
       "    .dataframe thead th {\n",
       "        text-align: right;\n",
       "    }\n",
       "</style>\n",
       "<table border=\"1\" class=\"dataframe\">\n",
       "  <thead>\n",
       "    <tr style=\"text-align: right;\">\n",
       "      <th></th>\n",
       "      <th>roll no</th>\n",
       "      <th>name</th>\n",
       "      <th>fathername</th>\n",
       "      <th>class</th>\n",
       "      <th>date of admission</th>\n",
       "      <th>fee</th>\n",
       "      <th>course</th>\n",
       "    </tr>\n",
       "  </thead>\n",
       "  <tbody>\n",
       "    <tr>\n",
       "      <th>0</th>\n",
       "      <td>101</td>\n",
       "      <td>John</td>\n",
       "      <td>John Sr.</td>\n",
       "      <td>10</td>\n",
       "      <td>2023-01-15</td>\n",
       "      <td>5000</td>\n",
       "      <td>Math</td>\n",
       "    </tr>\n",
       "    <tr>\n",
       "      <th>1</th>\n",
       "      <td>102</td>\n",
       "      <td>Alice</td>\n",
       "      <td>Alice Sr.</td>\n",
       "      <td>11</td>\n",
       "      <td>2023-02-20</td>\n",
       "      <td>6000</td>\n",
       "      <td>Science</td>\n",
       "    </tr>\n",
       "    <tr>\n",
       "      <th>2</th>\n",
       "      <td>103</td>\n",
       "      <td>Bob</td>\n",
       "      <td>Bob Sr.</td>\n",
       "      <td>10</td>\n",
       "      <td>2023-03-10</td>\n",
       "      <td>5500</td>\n",
       "      <td>English</td>\n",
       "    </tr>\n",
       "    <tr>\n",
       "      <th>3</th>\n",
       "      <td>104</td>\n",
       "      <td>Emma</td>\n",
       "      <td>Emma Sr.</td>\n",
       "      <td>12</td>\n",
       "      <td>2023-04-05</td>\n",
       "      <td>7000</td>\n",
       "      <td>Physics</td>\n",
       "    </tr>\n",
       "    <tr>\n",
       "      <th>4</th>\n",
       "      <td>105</td>\n",
       "      <td>Michael</td>\n",
       "      <td>Michael Sr.</td>\n",
       "      <td>11</td>\n",
       "      <td>2023-05-12</td>\n",
       "      <td>6500</td>\n",
       "      <td>History</td>\n",
       "    </tr>\n",
       "    <tr>\n",
       "      <th>5</th>\n",
       "      <td>106</td>\n",
       "      <td>Sophia</td>\n",
       "      <td>Sophia Sr.</td>\n",
       "      <td>10</td>\n",
       "      <td>2023-06-18</td>\n",
       "      <td>5000</td>\n",
       "      <td>Math</td>\n",
       "    </tr>\n",
       "    <tr>\n",
       "      <th>6</th>\n",
       "      <td>107</td>\n",
       "      <td>Liam</td>\n",
       "      <td>Liam Sr.</td>\n",
       "      <td>12</td>\n",
       "      <td>2023-07-22</td>\n",
       "      <td>7200</td>\n",
       "      <td>Biology</td>\n",
       "    </tr>\n",
       "    <tr>\n",
       "      <th>7</th>\n",
       "      <td>108</td>\n",
       "      <td>Olivia</td>\n",
       "      <td>Olivia Sr.</td>\n",
       "      <td>11</td>\n",
       "      <td>2023-08-30</td>\n",
       "      <td>6100</td>\n",
       "      <td>Chemistry</td>\n",
       "    </tr>\n",
       "    <tr>\n",
       "      <th>8</th>\n",
       "      <td>109</td>\n",
       "      <td>William</td>\n",
       "      <td>William Sr.</td>\n",
       "      <td>12</td>\n",
       "      <td>2023-09-14</td>\n",
       "      <td>7300</td>\n",
       "      <td>Geography</td>\n",
       "    </tr>\n",
       "    <tr>\n",
       "      <th>9</th>\n",
       "      <td>110</td>\n",
       "      <td>Ava</td>\n",
       "      <td>Ava Sr.</td>\n",
       "      <td>10</td>\n",
       "      <td>2023-10-25</td>\n",
       "      <td>4800</td>\n",
       "      <td>Art</td>\n",
       "    </tr>\n",
       "  </tbody>\n",
       "</table>\n",
       "</div>"
      ],
      "text/plain": [
       "   roll no     name   fathername  class date of admission   fee     course\n",
       "0      101     John     John Sr.     10        2023-01-15  5000       Math\n",
       "1      102    Alice    Alice Sr.     11        2023-02-20  6000    Science\n",
       "2      103      Bob      Bob Sr.     10        2023-03-10  5500    English\n",
       "3      104     Emma     Emma Sr.     12        2023-04-05  7000    Physics\n",
       "4      105  Michael  Michael Sr.     11        2023-05-12  6500    History\n",
       "5      106   Sophia   Sophia Sr.     10        2023-06-18  5000       Math\n",
       "6      107     Liam     Liam Sr.     12        2023-07-22  7200    Biology\n",
       "7      108   Olivia   Olivia Sr.     11        2023-08-30  6100  Chemistry\n",
       "8      109  William  William Sr.     12        2023-09-14  7300  Geography\n",
       "9      110      Ava      Ava Sr.     10        2023-10-25  4800        Art"
      ]
     },
     "execution_count": 68,
     "metadata": {},
     "output_type": "execute_result"
    }
   ],
   "source": [
    "student"
   ]
  },
  {
   "cell_type": "code",
   "execution_count": 71,
   "metadata": {},
   "outputs": [
    {
     "data": {
      "text/plain": [
       "(('Alice', 11),\n",
       "    roll no   name fathername  class date of admission   fee   course\n",
       " 1      102  Alice  Alice Sr.     11        2023-02-20  6000  Science)"
      ]
     },
     "execution_count": 71,
     "metadata": {},
     "output_type": "execute_result"
    }
   ],
   "source": [
    "#it must be used with list \n",
    "list(student.groupby([\"name\",\"class\"]))\n",
    "# taking single value\n",
    "list(student.groupby([\"name\",\"class\"]))[0]"
   ]
  },
  {
   "cell_type": "code",
   "execution_count": 72,
   "metadata": {},
   "outputs": [
    {
     "data": {
      "text/plain": [
       "('Alice',)"
      ]
     },
     "metadata": {},
     "output_type": "display_data"
    },
    {
     "data": {
      "text/html": [
       "<div>\n",
       "<style scoped>\n",
       "    .dataframe tbody tr th:only-of-type {\n",
       "        vertical-align: middle;\n",
       "    }\n",
       "\n",
       "    .dataframe tbody tr th {\n",
       "        vertical-align: top;\n",
       "    }\n",
       "\n",
       "    .dataframe thead th {\n",
       "        text-align: right;\n",
       "    }\n",
       "</style>\n",
       "<table border=\"1\" class=\"dataframe\">\n",
       "  <thead>\n",
       "    <tr style=\"text-align: right;\">\n",
       "      <th></th>\n",
       "      <th>roll no</th>\n",
       "      <th>name</th>\n",
       "      <th>fathername</th>\n",
       "      <th>class</th>\n",
       "      <th>date of admission</th>\n",
       "      <th>fee</th>\n",
       "      <th>course</th>\n",
       "    </tr>\n",
       "  </thead>\n",
       "  <tbody>\n",
       "    <tr>\n",
       "      <th>1</th>\n",
       "      <td>102</td>\n",
       "      <td>Alice</td>\n",
       "      <td>Alice Sr.</td>\n",
       "      <td>11</td>\n",
       "      <td>2023-02-20</td>\n",
       "      <td>6000</td>\n",
       "      <td>Science</td>\n",
       "    </tr>\n",
       "  </tbody>\n",
       "</table>\n",
       "</div>"
      ],
      "text/plain": [
       "   roll no   name fathername  class date of admission   fee   course\n",
       "1      102  Alice  Alice Sr.     11        2023-02-20  6000  Science"
      ]
     },
     "metadata": {},
     "output_type": "display_data"
    },
    {
     "data": {
      "text/plain": [
       "('Ava',)"
      ]
     },
     "metadata": {},
     "output_type": "display_data"
    },
    {
     "data": {
      "text/html": [
       "<div>\n",
       "<style scoped>\n",
       "    .dataframe tbody tr th:only-of-type {\n",
       "        vertical-align: middle;\n",
       "    }\n",
       "\n",
       "    .dataframe tbody tr th {\n",
       "        vertical-align: top;\n",
       "    }\n",
       "\n",
       "    .dataframe thead th {\n",
       "        text-align: right;\n",
       "    }\n",
       "</style>\n",
       "<table border=\"1\" class=\"dataframe\">\n",
       "  <thead>\n",
       "    <tr style=\"text-align: right;\">\n",
       "      <th></th>\n",
       "      <th>roll no</th>\n",
       "      <th>name</th>\n",
       "      <th>fathername</th>\n",
       "      <th>class</th>\n",
       "      <th>date of admission</th>\n",
       "      <th>fee</th>\n",
       "      <th>course</th>\n",
       "    </tr>\n",
       "  </thead>\n",
       "  <tbody>\n",
       "    <tr>\n",
       "      <th>9</th>\n",
       "      <td>110</td>\n",
       "      <td>Ava</td>\n",
       "      <td>Ava Sr.</td>\n",
       "      <td>10</td>\n",
       "      <td>2023-10-25</td>\n",
       "      <td>4800</td>\n",
       "      <td>Art</td>\n",
       "    </tr>\n",
       "  </tbody>\n",
       "</table>\n",
       "</div>"
      ],
      "text/plain": [
       "   roll no name fathername  class date of admission   fee course\n",
       "9      110  Ava    Ava Sr.     10        2023-10-25  4800    Art"
      ]
     },
     "metadata": {},
     "output_type": "display_data"
    },
    {
     "data": {
      "text/plain": [
       "('Bob',)"
      ]
     },
     "metadata": {},
     "output_type": "display_data"
    },
    {
     "data": {
      "text/html": [
       "<div>\n",
       "<style scoped>\n",
       "    .dataframe tbody tr th:only-of-type {\n",
       "        vertical-align: middle;\n",
       "    }\n",
       "\n",
       "    .dataframe tbody tr th {\n",
       "        vertical-align: top;\n",
       "    }\n",
       "\n",
       "    .dataframe thead th {\n",
       "        text-align: right;\n",
       "    }\n",
       "</style>\n",
       "<table border=\"1\" class=\"dataframe\">\n",
       "  <thead>\n",
       "    <tr style=\"text-align: right;\">\n",
       "      <th></th>\n",
       "      <th>roll no</th>\n",
       "      <th>name</th>\n",
       "      <th>fathername</th>\n",
       "      <th>class</th>\n",
       "      <th>date of admission</th>\n",
       "      <th>fee</th>\n",
       "      <th>course</th>\n",
       "    </tr>\n",
       "  </thead>\n",
       "  <tbody>\n",
       "    <tr>\n",
       "      <th>2</th>\n",
       "      <td>103</td>\n",
       "      <td>Bob</td>\n",
       "      <td>Bob Sr.</td>\n",
       "      <td>10</td>\n",
       "      <td>2023-03-10</td>\n",
       "      <td>5500</td>\n",
       "      <td>English</td>\n",
       "    </tr>\n",
       "  </tbody>\n",
       "</table>\n",
       "</div>"
      ],
      "text/plain": [
       "   roll no name fathername  class date of admission   fee   course\n",
       "2      103  Bob    Bob Sr.     10        2023-03-10  5500  English"
      ]
     },
     "metadata": {},
     "output_type": "display_data"
    },
    {
     "data": {
      "text/plain": [
       "('Emma',)"
      ]
     },
     "metadata": {},
     "output_type": "display_data"
    },
    {
     "data": {
      "text/html": [
       "<div>\n",
       "<style scoped>\n",
       "    .dataframe tbody tr th:only-of-type {\n",
       "        vertical-align: middle;\n",
       "    }\n",
       "\n",
       "    .dataframe tbody tr th {\n",
       "        vertical-align: top;\n",
       "    }\n",
       "\n",
       "    .dataframe thead th {\n",
       "        text-align: right;\n",
       "    }\n",
       "</style>\n",
       "<table border=\"1\" class=\"dataframe\">\n",
       "  <thead>\n",
       "    <tr style=\"text-align: right;\">\n",
       "      <th></th>\n",
       "      <th>roll no</th>\n",
       "      <th>name</th>\n",
       "      <th>fathername</th>\n",
       "      <th>class</th>\n",
       "      <th>date of admission</th>\n",
       "      <th>fee</th>\n",
       "      <th>course</th>\n",
       "    </tr>\n",
       "  </thead>\n",
       "  <tbody>\n",
       "    <tr>\n",
       "      <th>3</th>\n",
       "      <td>104</td>\n",
       "      <td>Emma</td>\n",
       "      <td>Emma Sr.</td>\n",
       "      <td>12</td>\n",
       "      <td>2023-04-05</td>\n",
       "      <td>7000</td>\n",
       "      <td>Physics</td>\n",
       "    </tr>\n",
       "  </tbody>\n",
       "</table>\n",
       "</div>"
      ],
      "text/plain": [
       "   roll no  name fathername  class date of admission   fee   course\n",
       "3      104  Emma   Emma Sr.     12        2023-04-05  7000  Physics"
      ]
     },
     "metadata": {},
     "output_type": "display_data"
    },
    {
     "data": {
      "text/plain": [
       "('John',)"
      ]
     },
     "metadata": {},
     "output_type": "display_data"
    },
    {
     "data": {
      "text/html": [
       "<div>\n",
       "<style scoped>\n",
       "    .dataframe tbody tr th:only-of-type {\n",
       "        vertical-align: middle;\n",
       "    }\n",
       "\n",
       "    .dataframe tbody tr th {\n",
       "        vertical-align: top;\n",
       "    }\n",
       "\n",
       "    .dataframe thead th {\n",
       "        text-align: right;\n",
       "    }\n",
       "</style>\n",
       "<table border=\"1\" class=\"dataframe\">\n",
       "  <thead>\n",
       "    <tr style=\"text-align: right;\">\n",
       "      <th></th>\n",
       "      <th>roll no</th>\n",
       "      <th>name</th>\n",
       "      <th>fathername</th>\n",
       "      <th>class</th>\n",
       "      <th>date of admission</th>\n",
       "      <th>fee</th>\n",
       "      <th>course</th>\n",
       "    </tr>\n",
       "  </thead>\n",
       "  <tbody>\n",
       "    <tr>\n",
       "      <th>0</th>\n",
       "      <td>101</td>\n",
       "      <td>John</td>\n",
       "      <td>John Sr.</td>\n",
       "      <td>10</td>\n",
       "      <td>2023-01-15</td>\n",
       "      <td>5000</td>\n",
       "      <td>Math</td>\n",
       "    </tr>\n",
       "  </tbody>\n",
       "</table>\n",
       "</div>"
      ],
      "text/plain": [
       "   roll no  name fathername  class date of admission   fee course\n",
       "0      101  John   John Sr.     10        2023-01-15  5000   Math"
      ]
     },
     "metadata": {},
     "output_type": "display_data"
    },
    {
     "data": {
      "text/plain": [
       "('Liam',)"
      ]
     },
     "metadata": {},
     "output_type": "display_data"
    },
    {
     "data": {
      "text/html": [
       "<div>\n",
       "<style scoped>\n",
       "    .dataframe tbody tr th:only-of-type {\n",
       "        vertical-align: middle;\n",
       "    }\n",
       "\n",
       "    .dataframe tbody tr th {\n",
       "        vertical-align: top;\n",
       "    }\n",
       "\n",
       "    .dataframe thead th {\n",
       "        text-align: right;\n",
       "    }\n",
       "</style>\n",
       "<table border=\"1\" class=\"dataframe\">\n",
       "  <thead>\n",
       "    <tr style=\"text-align: right;\">\n",
       "      <th></th>\n",
       "      <th>roll no</th>\n",
       "      <th>name</th>\n",
       "      <th>fathername</th>\n",
       "      <th>class</th>\n",
       "      <th>date of admission</th>\n",
       "      <th>fee</th>\n",
       "      <th>course</th>\n",
       "    </tr>\n",
       "  </thead>\n",
       "  <tbody>\n",
       "    <tr>\n",
       "      <th>6</th>\n",
       "      <td>107</td>\n",
       "      <td>Liam</td>\n",
       "      <td>Liam Sr.</td>\n",
       "      <td>12</td>\n",
       "      <td>2023-07-22</td>\n",
       "      <td>7200</td>\n",
       "      <td>Biology</td>\n",
       "    </tr>\n",
       "  </tbody>\n",
       "</table>\n",
       "</div>"
      ],
      "text/plain": [
       "   roll no  name fathername  class date of admission   fee   course\n",
       "6      107  Liam   Liam Sr.     12        2023-07-22  7200  Biology"
      ]
     },
     "metadata": {},
     "output_type": "display_data"
    },
    {
     "data": {
      "text/plain": [
       "('Michael',)"
      ]
     },
     "metadata": {},
     "output_type": "display_data"
    },
    {
     "data": {
      "text/html": [
       "<div>\n",
       "<style scoped>\n",
       "    .dataframe tbody tr th:only-of-type {\n",
       "        vertical-align: middle;\n",
       "    }\n",
       "\n",
       "    .dataframe tbody tr th {\n",
       "        vertical-align: top;\n",
       "    }\n",
       "\n",
       "    .dataframe thead th {\n",
       "        text-align: right;\n",
       "    }\n",
       "</style>\n",
       "<table border=\"1\" class=\"dataframe\">\n",
       "  <thead>\n",
       "    <tr style=\"text-align: right;\">\n",
       "      <th></th>\n",
       "      <th>roll no</th>\n",
       "      <th>name</th>\n",
       "      <th>fathername</th>\n",
       "      <th>class</th>\n",
       "      <th>date of admission</th>\n",
       "      <th>fee</th>\n",
       "      <th>course</th>\n",
       "    </tr>\n",
       "  </thead>\n",
       "  <tbody>\n",
       "    <tr>\n",
       "      <th>4</th>\n",
       "      <td>105</td>\n",
       "      <td>Michael</td>\n",
       "      <td>Michael Sr.</td>\n",
       "      <td>11</td>\n",
       "      <td>2023-05-12</td>\n",
       "      <td>6500</td>\n",
       "      <td>History</td>\n",
       "    </tr>\n",
       "  </tbody>\n",
       "</table>\n",
       "</div>"
      ],
      "text/plain": [
       "   roll no     name   fathername  class date of admission   fee   course\n",
       "4      105  Michael  Michael Sr.     11        2023-05-12  6500  History"
      ]
     },
     "metadata": {},
     "output_type": "display_data"
    },
    {
     "data": {
      "text/plain": [
       "('Olivia',)"
      ]
     },
     "metadata": {},
     "output_type": "display_data"
    },
    {
     "data": {
      "text/html": [
       "<div>\n",
       "<style scoped>\n",
       "    .dataframe tbody tr th:only-of-type {\n",
       "        vertical-align: middle;\n",
       "    }\n",
       "\n",
       "    .dataframe tbody tr th {\n",
       "        vertical-align: top;\n",
       "    }\n",
       "\n",
       "    .dataframe thead th {\n",
       "        text-align: right;\n",
       "    }\n",
       "</style>\n",
       "<table border=\"1\" class=\"dataframe\">\n",
       "  <thead>\n",
       "    <tr style=\"text-align: right;\">\n",
       "      <th></th>\n",
       "      <th>roll no</th>\n",
       "      <th>name</th>\n",
       "      <th>fathername</th>\n",
       "      <th>class</th>\n",
       "      <th>date of admission</th>\n",
       "      <th>fee</th>\n",
       "      <th>course</th>\n",
       "    </tr>\n",
       "  </thead>\n",
       "  <tbody>\n",
       "    <tr>\n",
       "      <th>7</th>\n",
       "      <td>108</td>\n",
       "      <td>Olivia</td>\n",
       "      <td>Olivia Sr.</td>\n",
       "      <td>11</td>\n",
       "      <td>2023-08-30</td>\n",
       "      <td>6100</td>\n",
       "      <td>Chemistry</td>\n",
       "    </tr>\n",
       "  </tbody>\n",
       "</table>\n",
       "</div>"
      ],
      "text/plain": [
       "   roll no    name  fathername  class date of admission   fee     course\n",
       "7      108  Olivia  Olivia Sr.     11        2023-08-30  6100  Chemistry"
      ]
     },
     "metadata": {},
     "output_type": "display_data"
    },
    {
     "data": {
      "text/plain": [
       "('Sophia',)"
      ]
     },
     "metadata": {},
     "output_type": "display_data"
    },
    {
     "data": {
      "text/html": [
       "<div>\n",
       "<style scoped>\n",
       "    .dataframe tbody tr th:only-of-type {\n",
       "        vertical-align: middle;\n",
       "    }\n",
       "\n",
       "    .dataframe tbody tr th {\n",
       "        vertical-align: top;\n",
       "    }\n",
       "\n",
       "    .dataframe thead th {\n",
       "        text-align: right;\n",
       "    }\n",
       "</style>\n",
       "<table border=\"1\" class=\"dataframe\">\n",
       "  <thead>\n",
       "    <tr style=\"text-align: right;\">\n",
       "      <th></th>\n",
       "      <th>roll no</th>\n",
       "      <th>name</th>\n",
       "      <th>fathername</th>\n",
       "      <th>class</th>\n",
       "      <th>date of admission</th>\n",
       "      <th>fee</th>\n",
       "      <th>course</th>\n",
       "    </tr>\n",
       "  </thead>\n",
       "  <tbody>\n",
       "    <tr>\n",
       "      <th>5</th>\n",
       "      <td>106</td>\n",
       "      <td>Sophia</td>\n",
       "      <td>Sophia Sr.</td>\n",
       "      <td>10</td>\n",
       "      <td>2023-06-18</td>\n",
       "      <td>5000</td>\n",
       "      <td>Math</td>\n",
       "    </tr>\n",
       "  </tbody>\n",
       "</table>\n",
       "</div>"
      ],
      "text/plain": [
       "   roll no    name  fathername  class date of admission   fee course\n",
       "5      106  Sophia  Sophia Sr.     10        2023-06-18  5000   Math"
      ]
     },
     "metadata": {},
     "output_type": "display_data"
    },
    {
     "data": {
      "text/plain": [
       "('William',)"
      ]
     },
     "metadata": {},
     "output_type": "display_data"
    },
    {
     "data": {
      "text/html": [
       "<div>\n",
       "<style scoped>\n",
       "    .dataframe tbody tr th:only-of-type {\n",
       "        vertical-align: middle;\n",
       "    }\n",
       "\n",
       "    .dataframe tbody tr th {\n",
       "        vertical-align: top;\n",
       "    }\n",
       "\n",
       "    .dataframe thead th {\n",
       "        text-align: right;\n",
       "    }\n",
       "</style>\n",
       "<table border=\"1\" class=\"dataframe\">\n",
       "  <thead>\n",
       "    <tr style=\"text-align: right;\">\n",
       "      <th></th>\n",
       "      <th>roll no</th>\n",
       "      <th>name</th>\n",
       "      <th>fathername</th>\n",
       "      <th>class</th>\n",
       "      <th>date of admission</th>\n",
       "      <th>fee</th>\n",
       "      <th>course</th>\n",
       "    </tr>\n",
       "  </thead>\n",
       "  <tbody>\n",
       "    <tr>\n",
       "      <th>8</th>\n",
       "      <td>109</td>\n",
       "      <td>William</td>\n",
       "      <td>William Sr.</td>\n",
       "      <td>12</td>\n",
       "      <td>2023-09-14</td>\n",
       "      <td>7300</td>\n",
       "      <td>Geography</td>\n",
       "    </tr>\n",
       "  </tbody>\n",
       "</table>\n",
       "</div>"
      ],
      "text/plain": [
       "   roll no     name   fathername  class date of admission   fee     course\n",
       "8      109  William  William Sr.     12        2023-09-14  7300  Geography"
      ]
     },
     "metadata": {},
     "output_type": "display_data"
    }
   ],
   "source": [
    "#now print with loop for clearity\n",
    "\n",
    "for group in list(student.groupby([\"name\"])):\n",
    "    display(group[0])\n",
    "    display(group[1])\n",
    "    "
   ]
  },
  {
   "cell_type": "code",
   "execution_count": 73,
   "metadata": {},
   "outputs": [
    {
     "data": {
      "text/plain": [
       "('Alice', 11)"
      ]
     },
     "metadata": {},
     "output_type": "display_data"
    },
    {
     "data": {
      "text/html": [
       "<div>\n",
       "<style scoped>\n",
       "    .dataframe tbody tr th:only-of-type {\n",
       "        vertical-align: middle;\n",
       "    }\n",
       "\n",
       "    .dataframe tbody tr th {\n",
       "        vertical-align: top;\n",
       "    }\n",
       "\n",
       "    .dataframe thead th {\n",
       "        text-align: right;\n",
       "    }\n",
       "</style>\n",
       "<table border=\"1\" class=\"dataframe\">\n",
       "  <thead>\n",
       "    <tr style=\"text-align: right;\">\n",
       "      <th></th>\n",
       "      <th>roll no</th>\n",
       "      <th>name</th>\n",
       "      <th>fathername</th>\n",
       "      <th>class</th>\n",
       "      <th>date of admission</th>\n",
       "      <th>fee</th>\n",
       "      <th>course</th>\n",
       "    </tr>\n",
       "  </thead>\n",
       "  <tbody>\n",
       "    <tr>\n",
       "      <th>1</th>\n",
       "      <td>102</td>\n",
       "      <td>Alice</td>\n",
       "      <td>Alice Sr.</td>\n",
       "      <td>11</td>\n",
       "      <td>2023-02-20</td>\n",
       "      <td>6000</td>\n",
       "      <td>Science</td>\n",
       "    </tr>\n",
       "  </tbody>\n",
       "</table>\n",
       "</div>"
      ],
      "text/plain": [
       "   roll no   name fathername  class date of admission   fee   course\n",
       "1      102  Alice  Alice Sr.     11        2023-02-20  6000  Science"
      ]
     },
     "metadata": {},
     "output_type": "display_data"
    },
    {
     "data": {
      "text/plain": [
       "('Ava', 10)"
      ]
     },
     "metadata": {},
     "output_type": "display_data"
    },
    {
     "data": {
      "text/html": [
       "<div>\n",
       "<style scoped>\n",
       "    .dataframe tbody tr th:only-of-type {\n",
       "        vertical-align: middle;\n",
       "    }\n",
       "\n",
       "    .dataframe tbody tr th {\n",
       "        vertical-align: top;\n",
       "    }\n",
       "\n",
       "    .dataframe thead th {\n",
       "        text-align: right;\n",
       "    }\n",
       "</style>\n",
       "<table border=\"1\" class=\"dataframe\">\n",
       "  <thead>\n",
       "    <tr style=\"text-align: right;\">\n",
       "      <th></th>\n",
       "      <th>roll no</th>\n",
       "      <th>name</th>\n",
       "      <th>fathername</th>\n",
       "      <th>class</th>\n",
       "      <th>date of admission</th>\n",
       "      <th>fee</th>\n",
       "      <th>course</th>\n",
       "    </tr>\n",
       "  </thead>\n",
       "  <tbody>\n",
       "    <tr>\n",
       "      <th>9</th>\n",
       "      <td>110</td>\n",
       "      <td>Ava</td>\n",
       "      <td>Ava Sr.</td>\n",
       "      <td>10</td>\n",
       "      <td>2023-10-25</td>\n",
       "      <td>4800</td>\n",
       "      <td>Art</td>\n",
       "    </tr>\n",
       "  </tbody>\n",
       "</table>\n",
       "</div>"
      ],
      "text/plain": [
       "   roll no name fathername  class date of admission   fee course\n",
       "9      110  Ava    Ava Sr.     10        2023-10-25  4800    Art"
      ]
     },
     "metadata": {},
     "output_type": "display_data"
    },
    {
     "data": {
      "text/plain": [
       "('Bob', 10)"
      ]
     },
     "metadata": {},
     "output_type": "display_data"
    },
    {
     "data": {
      "text/html": [
       "<div>\n",
       "<style scoped>\n",
       "    .dataframe tbody tr th:only-of-type {\n",
       "        vertical-align: middle;\n",
       "    }\n",
       "\n",
       "    .dataframe tbody tr th {\n",
       "        vertical-align: top;\n",
       "    }\n",
       "\n",
       "    .dataframe thead th {\n",
       "        text-align: right;\n",
       "    }\n",
       "</style>\n",
       "<table border=\"1\" class=\"dataframe\">\n",
       "  <thead>\n",
       "    <tr style=\"text-align: right;\">\n",
       "      <th></th>\n",
       "      <th>roll no</th>\n",
       "      <th>name</th>\n",
       "      <th>fathername</th>\n",
       "      <th>class</th>\n",
       "      <th>date of admission</th>\n",
       "      <th>fee</th>\n",
       "      <th>course</th>\n",
       "    </tr>\n",
       "  </thead>\n",
       "  <tbody>\n",
       "    <tr>\n",
       "      <th>2</th>\n",
       "      <td>103</td>\n",
       "      <td>Bob</td>\n",
       "      <td>Bob Sr.</td>\n",
       "      <td>10</td>\n",
       "      <td>2023-03-10</td>\n",
       "      <td>5500</td>\n",
       "      <td>English</td>\n",
       "    </tr>\n",
       "  </tbody>\n",
       "</table>\n",
       "</div>"
      ],
      "text/plain": [
       "   roll no name fathername  class date of admission   fee   course\n",
       "2      103  Bob    Bob Sr.     10        2023-03-10  5500  English"
      ]
     },
     "metadata": {},
     "output_type": "display_data"
    },
    {
     "data": {
      "text/plain": [
       "('Emma', 12)"
      ]
     },
     "metadata": {},
     "output_type": "display_data"
    },
    {
     "data": {
      "text/html": [
       "<div>\n",
       "<style scoped>\n",
       "    .dataframe tbody tr th:only-of-type {\n",
       "        vertical-align: middle;\n",
       "    }\n",
       "\n",
       "    .dataframe tbody tr th {\n",
       "        vertical-align: top;\n",
       "    }\n",
       "\n",
       "    .dataframe thead th {\n",
       "        text-align: right;\n",
       "    }\n",
       "</style>\n",
       "<table border=\"1\" class=\"dataframe\">\n",
       "  <thead>\n",
       "    <tr style=\"text-align: right;\">\n",
       "      <th></th>\n",
       "      <th>roll no</th>\n",
       "      <th>name</th>\n",
       "      <th>fathername</th>\n",
       "      <th>class</th>\n",
       "      <th>date of admission</th>\n",
       "      <th>fee</th>\n",
       "      <th>course</th>\n",
       "    </tr>\n",
       "  </thead>\n",
       "  <tbody>\n",
       "    <tr>\n",
       "      <th>3</th>\n",
       "      <td>104</td>\n",
       "      <td>Emma</td>\n",
       "      <td>Emma Sr.</td>\n",
       "      <td>12</td>\n",
       "      <td>2023-04-05</td>\n",
       "      <td>7000</td>\n",
       "      <td>Physics</td>\n",
       "    </tr>\n",
       "  </tbody>\n",
       "</table>\n",
       "</div>"
      ],
      "text/plain": [
       "   roll no  name fathername  class date of admission   fee   course\n",
       "3      104  Emma   Emma Sr.     12        2023-04-05  7000  Physics"
      ]
     },
     "metadata": {},
     "output_type": "display_data"
    },
    {
     "data": {
      "text/plain": [
       "('John', 10)"
      ]
     },
     "metadata": {},
     "output_type": "display_data"
    },
    {
     "data": {
      "text/html": [
       "<div>\n",
       "<style scoped>\n",
       "    .dataframe tbody tr th:only-of-type {\n",
       "        vertical-align: middle;\n",
       "    }\n",
       "\n",
       "    .dataframe tbody tr th {\n",
       "        vertical-align: top;\n",
       "    }\n",
       "\n",
       "    .dataframe thead th {\n",
       "        text-align: right;\n",
       "    }\n",
       "</style>\n",
       "<table border=\"1\" class=\"dataframe\">\n",
       "  <thead>\n",
       "    <tr style=\"text-align: right;\">\n",
       "      <th></th>\n",
       "      <th>roll no</th>\n",
       "      <th>name</th>\n",
       "      <th>fathername</th>\n",
       "      <th>class</th>\n",
       "      <th>date of admission</th>\n",
       "      <th>fee</th>\n",
       "      <th>course</th>\n",
       "    </tr>\n",
       "  </thead>\n",
       "  <tbody>\n",
       "    <tr>\n",
       "      <th>0</th>\n",
       "      <td>101</td>\n",
       "      <td>John</td>\n",
       "      <td>John Sr.</td>\n",
       "      <td>10</td>\n",
       "      <td>2023-01-15</td>\n",
       "      <td>5000</td>\n",
       "      <td>Math</td>\n",
       "    </tr>\n",
       "  </tbody>\n",
       "</table>\n",
       "</div>"
      ],
      "text/plain": [
       "   roll no  name fathername  class date of admission   fee course\n",
       "0      101  John   John Sr.     10        2023-01-15  5000   Math"
      ]
     },
     "metadata": {},
     "output_type": "display_data"
    },
    {
     "data": {
      "text/plain": [
       "('Liam', 12)"
      ]
     },
     "metadata": {},
     "output_type": "display_data"
    },
    {
     "data": {
      "text/html": [
       "<div>\n",
       "<style scoped>\n",
       "    .dataframe tbody tr th:only-of-type {\n",
       "        vertical-align: middle;\n",
       "    }\n",
       "\n",
       "    .dataframe tbody tr th {\n",
       "        vertical-align: top;\n",
       "    }\n",
       "\n",
       "    .dataframe thead th {\n",
       "        text-align: right;\n",
       "    }\n",
       "</style>\n",
       "<table border=\"1\" class=\"dataframe\">\n",
       "  <thead>\n",
       "    <tr style=\"text-align: right;\">\n",
       "      <th></th>\n",
       "      <th>roll no</th>\n",
       "      <th>name</th>\n",
       "      <th>fathername</th>\n",
       "      <th>class</th>\n",
       "      <th>date of admission</th>\n",
       "      <th>fee</th>\n",
       "      <th>course</th>\n",
       "    </tr>\n",
       "  </thead>\n",
       "  <tbody>\n",
       "    <tr>\n",
       "      <th>6</th>\n",
       "      <td>107</td>\n",
       "      <td>Liam</td>\n",
       "      <td>Liam Sr.</td>\n",
       "      <td>12</td>\n",
       "      <td>2023-07-22</td>\n",
       "      <td>7200</td>\n",
       "      <td>Biology</td>\n",
       "    </tr>\n",
       "  </tbody>\n",
       "</table>\n",
       "</div>"
      ],
      "text/plain": [
       "   roll no  name fathername  class date of admission   fee   course\n",
       "6      107  Liam   Liam Sr.     12        2023-07-22  7200  Biology"
      ]
     },
     "metadata": {},
     "output_type": "display_data"
    },
    {
     "data": {
      "text/plain": [
       "('Michael', 11)"
      ]
     },
     "metadata": {},
     "output_type": "display_data"
    },
    {
     "data": {
      "text/html": [
       "<div>\n",
       "<style scoped>\n",
       "    .dataframe tbody tr th:only-of-type {\n",
       "        vertical-align: middle;\n",
       "    }\n",
       "\n",
       "    .dataframe tbody tr th {\n",
       "        vertical-align: top;\n",
       "    }\n",
       "\n",
       "    .dataframe thead th {\n",
       "        text-align: right;\n",
       "    }\n",
       "</style>\n",
       "<table border=\"1\" class=\"dataframe\">\n",
       "  <thead>\n",
       "    <tr style=\"text-align: right;\">\n",
       "      <th></th>\n",
       "      <th>roll no</th>\n",
       "      <th>name</th>\n",
       "      <th>fathername</th>\n",
       "      <th>class</th>\n",
       "      <th>date of admission</th>\n",
       "      <th>fee</th>\n",
       "      <th>course</th>\n",
       "    </tr>\n",
       "  </thead>\n",
       "  <tbody>\n",
       "    <tr>\n",
       "      <th>4</th>\n",
       "      <td>105</td>\n",
       "      <td>Michael</td>\n",
       "      <td>Michael Sr.</td>\n",
       "      <td>11</td>\n",
       "      <td>2023-05-12</td>\n",
       "      <td>6500</td>\n",
       "      <td>History</td>\n",
       "    </tr>\n",
       "  </tbody>\n",
       "</table>\n",
       "</div>"
      ],
      "text/plain": [
       "   roll no     name   fathername  class date of admission   fee   course\n",
       "4      105  Michael  Michael Sr.     11        2023-05-12  6500  History"
      ]
     },
     "metadata": {},
     "output_type": "display_data"
    },
    {
     "data": {
      "text/plain": [
       "('Olivia', 11)"
      ]
     },
     "metadata": {},
     "output_type": "display_data"
    },
    {
     "data": {
      "text/html": [
       "<div>\n",
       "<style scoped>\n",
       "    .dataframe tbody tr th:only-of-type {\n",
       "        vertical-align: middle;\n",
       "    }\n",
       "\n",
       "    .dataframe tbody tr th {\n",
       "        vertical-align: top;\n",
       "    }\n",
       "\n",
       "    .dataframe thead th {\n",
       "        text-align: right;\n",
       "    }\n",
       "</style>\n",
       "<table border=\"1\" class=\"dataframe\">\n",
       "  <thead>\n",
       "    <tr style=\"text-align: right;\">\n",
       "      <th></th>\n",
       "      <th>roll no</th>\n",
       "      <th>name</th>\n",
       "      <th>fathername</th>\n",
       "      <th>class</th>\n",
       "      <th>date of admission</th>\n",
       "      <th>fee</th>\n",
       "      <th>course</th>\n",
       "    </tr>\n",
       "  </thead>\n",
       "  <tbody>\n",
       "    <tr>\n",
       "      <th>7</th>\n",
       "      <td>108</td>\n",
       "      <td>Olivia</td>\n",
       "      <td>Olivia Sr.</td>\n",
       "      <td>11</td>\n",
       "      <td>2023-08-30</td>\n",
       "      <td>6100</td>\n",
       "      <td>Chemistry</td>\n",
       "    </tr>\n",
       "  </tbody>\n",
       "</table>\n",
       "</div>"
      ],
      "text/plain": [
       "   roll no    name  fathername  class date of admission   fee     course\n",
       "7      108  Olivia  Olivia Sr.     11        2023-08-30  6100  Chemistry"
      ]
     },
     "metadata": {},
     "output_type": "display_data"
    },
    {
     "data": {
      "text/plain": [
       "('Sophia', 10)"
      ]
     },
     "metadata": {},
     "output_type": "display_data"
    },
    {
     "data": {
      "text/html": [
       "<div>\n",
       "<style scoped>\n",
       "    .dataframe tbody tr th:only-of-type {\n",
       "        vertical-align: middle;\n",
       "    }\n",
       "\n",
       "    .dataframe tbody tr th {\n",
       "        vertical-align: top;\n",
       "    }\n",
       "\n",
       "    .dataframe thead th {\n",
       "        text-align: right;\n",
       "    }\n",
       "</style>\n",
       "<table border=\"1\" class=\"dataframe\">\n",
       "  <thead>\n",
       "    <tr style=\"text-align: right;\">\n",
       "      <th></th>\n",
       "      <th>roll no</th>\n",
       "      <th>name</th>\n",
       "      <th>fathername</th>\n",
       "      <th>class</th>\n",
       "      <th>date of admission</th>\n",
       "      <th>fee</th>\n",
       "      <th>course</th>\n",
       "    </tr>\n",
       "  </thead>\n",
       "  <tbody>\n",
       "    <tr>\n",
       "      <th>5</th>\n",
       "      <td>106</td>\n",
       "      <td>Sophia</td>\n",
       "      <td>Sophia Sr.</td>\n",
       "      <td>10</td>\n",
       "      <td>2023-06-18</td>\n",
       "      <td>5000</td>\n",
       "      <td>Math</td>\n",
       "    </tr>\n",
       "  </tbody>\n",
       "</table>\n",
       "</div>"
      ],
      "text/plain": [
       "   roll no    name  fathername  class date of admission   fee course\n",
       "5      106  Sophia  Sophia Sr.     10        2023-06-18  5000   Math"
      ]
     },
     "metadata": {},
     "output_type": "display_data"
    },
    {
     "data": {
      "text/plain": [
       "('William', 12)"
      ]
     },
     "metadata": {},
     "output_type": "display_data"
    },
    {
     "data": {
      "text/html": [
       "<div>\n",
       "<style scoped>\n",
       "    .dataframe tbody tr th:only-of-type {\n",
       "        vertical-align: middle;\n",
       "    }\n",
       "\n",
       "    .dataframe tbody tr th {\n",
       "        vertical-align: top;\n",
       "    }\n",
       "\n",
       "    .dataframe thead th {\n",
       "        text-align: right;\n",
       "    }\n",
       "</style>\n",
       "<table border=\"1\" class=\"dataframe\">\n",
       "  <thead>\n",
       "    <tr style=\"text-align: right;\">\n",
       "      <th></th>\n",
       "      <th>roll no</th>\n",
       "      <th>name</th>\n",
       "      <th>fathername</th>\n",
       "      <th>class</th>\n",
       "      <th>date of admission</th>\n",
       "      <th>fee</th>\n",
       "      <th>course</th>\n",
       "    </tr>\n",
       "  </thead>\n",
       "  <tbody>\n",
       "    <tr>\n",
       "      <th>8</th>\n",
       "      <td>109</td>\n",
       "      <td>William</td>\n",
       "      <td>William Sr.</td>\n",
       "      <td>12</td>\n",
       "      <td>2023-09-14</td>\n",
       "      <td>7300</td>\n",
       "      <td>Geography</td>\n",
       "    </tr>\n",
       "  </tbody>\n",
       "</table>\n",
       "</div>"
      ],
      "text/plain": [
       "   roll no     name   fathername  class date of admission   fee     course\n",
       "8      109  William  William Sr.     12        2023-09-14  7300  Geography"
      ]
     },
     "metadata": {},
     "output_type": "display_data"
    }
   ],
   "source": [
    "for group in list(student.groupby([\"name\",\"class\"])):\n",
    "    display(group[0])\n",
    "    display(group[1])\n",
    "    "
   ]
  },
  {
   "cell_type": "code",
   "execution_count": 74,
   "metadata": {},
   "outputs": [
    {
     "data": {
      "text/plain": [
       "(10,)"
      ]
     },
     "metadata": {},
     "output_type": "display_data"
    },
    {
     "data": {
      "text/html": [
       "<div>\n",
       "<style scoped>\n",
       "    .dataframe tbody tr th:only-of-type {\n",
       "        vertical-align: middle;\n",
       "    }\n",
       "\n",
       "    .dataframe tbody tr th {\n",
       "        vertical-align: top;\n",
       "    }\n",
       "\n",
       "    .dataframe thead th {\n",
       "        text-align: right;\n",
       "    }\n",
       "</style>\n",
       "<table border=\"1\" class=\"dataframe\">\n",
       "  <thead>\n",
       "    <tr style=\"text-align: right;\">\n",
       "      <th></th>\n",
       "      <th>roll no</th>\n",
       "      <th>name</th>\n",
       "      <th>fathername</th>\n",
       "      <th>class</th>\n",
       "      <th>date of admission</th>\n",
       "      <th>fee</th>\n",
       "      <th>course</th>\n",
       "    </tr>\n",
       "  </thead>\n",
       "  <tbody>\n",
       "    <tr>\n",
       "      <th>0</th>\n",
       "      <td>101</td>\n",
       "      <td>John</td>\n",
       "      <td>John Sr.</td>\n",
       "      <td>10</td>\n",
       "      <td>2023-01-15</td>\n",
       "      <td>5000</td>\n",
       "      <td>Math</td>\n",
       "    </tr>\n",
       "    <tr>\n",
       "      <th>2</th>\n",
       "      <td>103</td>\n",
       "      <td>Bob</td>\n",
       "      <td>Bob Sr.</td>\n",
       "      <td>10</td>\n",
       "      <td>2023-03-10</td>\n",
       "      <td>5500</td>\n",
       "      <td>English</td>\n",
       "    </tr>\n",
       "    <tr>\n",
       "      <th>5</th>\n",
       "      <td>106</td>\n",
       "      <td>Sophia</td>\n",
       "      <td>Sophia Sr.</td>\n",
       "      <td>10</td>\n",
       "      <td>2023-06-18</td>\n",
       "      <td>5000</td>\n",
       "      <td>Math</td>\n",
       "    </tr>\n",
       "    <tr>\n",
       "      <th>9</th>\n",
       "      <td>110</td>\n",
       "      <td>Ava</td>\n",
       "      <td>Ava Sr.</td>\n",
       "      <td>10</td>\n",
       "      <td>2023-10-25</td>\n",
       "      <td>4800</td>\n",
       "      <td>Art</td>\n",
       "    </tr>\n",
       "  </tbody>\n",
       "</table>\n",
       "</div>"
      ],
      "text/plain": [
       "   roll no    name  fathername  class date of admission   fee   course\n",
       "0      101    John    John Sr.     10        2023-01-15  5000     Math\n",
       "2      103     Bob     Bob Sr.     10        2023-03-10  5500  English\n",
       "5      106  Sophia  Sophia Sr.     10        2023-06-18  5000     Math\n",
       "9      110     Ava     Ava Sr.     10        2023-10-25  4800      Art"
      ]
     },
     "metadata": {},
     "output_type": "display_data"
    },
    {
     "data": {
      "text/plain": [
       "(11,)"
      ]
     },
     "metadata": {},
     "output_type": "display_data"
    },
    {
     "data": {
      "text/html": [
       "<div>\n",
       "<style scoped>\n",
       "    .dataframe tbody tr th:only-of-type {\n",
       "        vertical-align: middle;\n",
       "    }\n",
       "\n",
       "    .dataframe tbody tr th {\n",
       "        vertical-align: top;\n",
       "    }\n",
       "\n",
       "    .dataframe thead th {\n",
       "        text-align: right;\n",
       "    }\n",
       "</style>\n",
       "<table border=\"1\" class=\"dataframe\">\n",
       "  <thead>\n",
       "    <tr style=\"text-align: right;\">\n",
       "      <th></th>\n",
       "      <th>roll no</th>\n",
       "      <th>name</th>\n",
       "      <th>fathername</th>\n",
       "      <th>class</th>\n",
       "      <th>date of admission</th>\n",
       "      <th>fee</th>\n",
       "      <th>course</th>\n",
       "    </tr>\n",
       "  </thead>\n",
       "  <tbody>\n",
       "    <tr>\n",
       "      <th>1</th>\n",
       "      <td>102</td>\n",
       "      <td>Alice</td>\n",
       "      <td>Alice Sr.</td>\n",
       "      <td>11</td>\n",
       "      <td>2023-02-20</td>\n",
       "      <td>6000</td>\n",
       "      <td>Science</td>\n",
       "    </tr>\n",
       "    <tr>\n",
       "      <th>4</th>\n",
       "      <td>105</td>\n",
       "      <td>Michael</td>\n",
       "      <td>Michael Sr.</td>\n",
       "      <td>11</td>\n",
       "      <td>2023-05-12</td>\n",
       "      <td>6500</td>\n",
       "      <td>History</td>\n",
       "    </tr>\n",
       "    <tr>\n",
       "      <th>7</th>\n",
       "      <td>108</td>\n",
       "      <td>Olivia</td>\n",
       "      <td>Olivia Sr.</td>\n",
       "      <td>11</td>\n",
       "      <td>2023-08-30</td>\n",
       "      <td>6100</td>\n",
       "      <td>Chemistry</td>\n",
       "    </tr>\n",
       "  </tbody>\n",
       "</table>\n",
       "</div>"
      ],
      "text/plain": [
       "   roll no     name   fathername  class date of admission   fee     course\n",
       "1      102    Alice    Alice Sr.     11        2023-02-20  6000    Science\n",
       "4      105  Michael  Michael Sr.     11        2023-05-12  6500    History\n",
       "7      108   Olivia   Olivia Sr.     11        2023-08-30  6100  Chemistry"
      ]
     },
     "metadata": {},
     "output_type": "display_data"
    },
    {
     "data": {
      "text/plain": [
       "(12,)"
      ]
     },
     "metadata": {},
     "output_type": "display_data"
    },
    {
     "data": {
      "text/html": [
       "<div>\n",
       "<style scoped>\n",
       "    .dataframe tbody tr th:only-of-type {\n",
       "        vertical-align: middle;\n",
       "    }\n",
       "\n",
       "    .dataframe tbody tr th {\n",
       "        vertical-align: top;\n",
       "    }\n",
       "\n",
       "    .dataframe thead th {\n",
       "        text-align: right;\n",
       "    }\n",
       "</style>\n",
       "<table border=\"1\" class=\"dataframe\">\n",
       "  <thead>\n",
       "    <tr style=\"text-align: right;\">\n",
       "      <th></th>\n",
       "      <th>roll no</th>\n",
       "      <th>name</th>\n",
       "      <th>fathername</th>\n",
       "      <th>class</th>\n",
       "      <th>date of admission</th>\n",
       "      <th>fee</th>\n",
       "      <th>course</th>\n",
       "    </tr>\n",
       "  </thead>\n",
       "  <tbody>\n",
       "    <tr>\n",
       "      <th>3</th>\n",
       "      <td>104</td>\n",
       "      <td>Emma</td>\n",
       "      <td>Emma Sr.</td>\n",
       "      <td>12</td>\n",
       "      <td>2023-04-05</td>\n",
       "      <td>7000</td>\n",
       "      <td>Physics</td>\n",
       "    </tr>\n",
       "    <tr>\n",
       "      <th>6</th>\n",
       "      <td>107</td>\n",
       "      <td>Liam</td>\n",
       "      <td>Liam Sr.</td>\n",
       "      <td>12</td>\n",
       "      <td>2023-07-22</td>\n",
       "      <td>7200</td>\n",
       "      <td>Biology</td>\n",
       "    </tr>\n",
       "    <tr>\n",
       "      <th>8</th>\n",
       "      <td>109</td>\n",
       "      <td>William</td>\n",
       "      <td>William Sr.</td>\n",
       "      <td>12</td>\n",
       "      <td>2023-09-14</td>\n",
       "      <td>7300</td>\n",
       "      <td>Geography</td>\n",
       "    </tr>\n",
       "  </tbody>\n",
       "</table>\n",
       "</div>"
      ],
      "text/plain": [
       "   roll no     name   fathername  class date of admission   fee     course\n",
       "3      104     Emma     Emma Sr.     12        2023-04-05  7000    Physics\n",
       "6      107     Liam     Liam Sr.     12        2023-07-22  7200    Biology\n",
       "8      109  William  William Sr.     12        2023-09-14  7300  Geography"
      ]
     },
     "metadata": {},
     "output_type": "display_data"
    }
   ],
   "source": [
    "for group in list(student.groupby([\"class\"])):\n",
    "    display(group[0])\n",
    "    display(group[1])\n",
    "    "
   ]
  },
  {
   "cell_type": "code",
   "execution_count": 77,
   "metadata": {},
   "outputs": [
    {
     "data": {
      "text/plain": [
       "('2023',)"
      ]
     },
     "metadata": {},
     "output_type": "display_data"
    },
    {
     "data": {
      "text/html": [
       "<div>\n",
       "<style scoped>\n",
       "    .dataframe tbody tr th:only-of-type {\n",
       "        vertical-align: middle;\n",
       "    }\n",
       "\n",
       "    .dataframe tbody tr th {\n",
       "        vertical-align: top;\n",
       "    }\n",
       "\n",
       "    .dataframe thead th {\n",
       "        text-align: right;\n",
       "    }\n",
       "</style>\n",
       "<table border=\"1\" class=\"dataframe\">\n",
       "  <thead>\n",
       "    <tr style=\"text-align: right;\">\n",
       "      <th></th>\n",
       "      <th>roll no</th>\n",
       "      <th>name</th>\n",
       "      <th>fathername</th>\n",
       "      <th>class</th>\n",
       "      <th>date of admission</th>\n",
       "      <th>fee</th>\n",
       "      <th>course</th>\n",
       "    </tr>\n",
       "  </thead>\n",
       "  <tbody>\n",
       "    <tr>\n",
       "      <th>0</th>\n",
       "      <td>101</td>\n",
       "      <td>John</td>\n",
       "      <td>John Sr.</td>\n",
       "      <td>10</td>\n",
       "      <td>2023-01-15</td>\n",
       "      <td>5000</td>\n",
       "      <td>Math</td>\n",
       "    </tr>\n",
       "    <tr>\n",
       "      <th>1</th>\n",
       "      <td>102</td>\n",
       "      <td>Alice</td>\n",
       "      <td>Alice Sr.</td>\n",
       "      <td>11</td>\n",
       "      <td>2023-02-20</td>\n",
       "      <td>6000</td>\n",
       "      <td>Science</td>\n",
       "    </tr>\n",
       "    <tr>\n",
       "      <th>2</th>\n",
       "      <td>103</td>\n",
       "      <td>Bob</td>\n",
       "      <td>Bob Sr.</td>\n",
       "      <td>10</td>\n",
       "      <td>2023-03-10</td>\n",
       "      <td>5500</td>\n",
       "      <td>English</td>\n",
       "    </tr>\n",
       "    <tr>\n",
       "      <th>3</th>\n",
       "      <td>104</td>\n",
       "      <td>Emma</td>\n",
       "      <td>Emma Sr.</td>\n",
       "      <td>12</td>\n",
       "      <td>2023-04-05</td>\n",
       "      <td>7000</td>\n",
       "      <td>Physics</td>\n",
       "    </tr>\n",
       "    <tr>\n",
       "      <th>4</th>\n",
       "      <td>105</td>\n",
       "      <td>Michael</td>\n",
       "      <td>Michael Sr.</td>\n",
       "      <td>11</td>\n",
       "      <td>2023-05-12</td>\n",
       "      <td>6500</td>\n",
       "      <td>History</td>\n",
       "    </tr>\n",
       "    <tr>\n",
       "      <th>5</th>\n",
       "      <td>106</td>\n",
       "      <td>Sophia</td>\n",
       "      <td>Sophia Sr.</td>\n",
       "      <td>10</td>\n",
       "      <td>2023-06-18</td>\n",
       "      <td>5000</td>\n",
       "      <td>Math</td>\n",
       "    </tr>\n",
       "    <tr>\n",
       "      <th>6</th>\n",
       "      <td>107</td>\n",
       "      <td>Liam</td>\n",
       "      <td>Liam Sr.</td>\n",
       "      <td>12</td>\n",
       "      <td>2023-07-22</td>\n",
       "      <td>7200</td>\n",
       "      <td>Biology</td>\n",
       "    </tr>\n",
       "    <tr>\n",
       "      <th>7</th>\n",
       "      <td>108</td>\n",
       "      <td>Olivia</td>\n",
       "      <td>Olivia Sr.</td>\n",
       "      <td>11</td>\n",
       "      <td>2023-08-30</td>\n",
       "      <td>6100</td>\n",
       "      <td>Chemistry</td>\n",
       "    </tr>\n",
       "    <tr>\n",
       "      <th>8</th>\n",
       "      <td>109</td>\n",
       "      <td>William</td>\n",
       "      <td>William Sr.</td>\n",
       "      <td>12</td>\n",
       "      <td>2023-09-14</td>\n",
       "      <td>7300</td>\n",
       "      <td>Geography</td>\n",
       "    </tr>\n",
       "    <tr>\n",
       "      <th>9</th>\n",
       "      <td>110</td>\n",
       "      <td>Ava</td>\n",
       "      <td>Ava Sr.</td>\n",
       "      <td>10</td>\n",
       "      <td>2023-10-25</td>\n",
       "      <td>4800</td>\n",
       "      <td>Art</td>\n",
       "    </tr>\n",
       "  </tbody>\n",
       "</table>\n",
       "</div>"
      ],
      "text/plain": [
       "   roll no     name   fathername  class date of admission   fee     course\n",
       "0      101     John     John Sr.     10        2023-01-15  5000       Math\n",
       "1      102    Alice    Alice Sr.     11        2023-02-20  6000    Science\n",
       "2      103      Bob      Bob Sr.     10        2023-03-10  5500    English\n",
       "3      104     Emma     Emma Sr.     12        2023-04-05  7000    Physics\n",
       "4      105  Michael  Michael Sr.     11        2023-05-12  6500    History\n",
       "5      106   Sophia   Sophia Sr.     10        2023-06-18  5000       Math\n",
       "6      107     Liam     Liam Sr.     12        2023-07-22  7200    Biology\n",
       "7      108   Olivia   Olivia Sr.     11        2023-08-30  6100  Chemistry\n",
       "8      109  William  William Sr.     12        2023-09-14  7300  Geography\n",
       "9      110      Ava      Ava Sr.     10        2023-10-25  4800        Art"
      ]
     },
     "metadata": {},
     "output_type": "display_data"
    }
   ],
   "source": [
    "# now grouping the data with higher complacity\n",
    "for group in list(student.groupby([student[\"date of admission\"].\n",
    "                                   dt.strftime(\"%Y\")])):\n",
    "    display(group[0])\n",
    "    display(group[1])\n",
    "    "
   ]
  },
  {
   "cell_type": "code",
   "execution_count": 78,
   "metadata": {},
   "outputs": [
    {
     "data": {
      "text/plain": [
       "('01',)"
      ]
     },
     "metadata": {},
     "output_type": "display_data"
    },
    {
     "data": {
      "text/html": [
       "<div>\n",
       "<style scoped>\n",
       "    .dataframe tbody tr th:only-of-type {\n",
       "        vertical-align: middle;\n",
       "    }\n",
       "\n",
       "    .dataframe tbody tr th {\n",
       "        vertical-align: top;\n",
       "    }\n",
       "\n",
       "    .dataframe thead th {\n",
       "        text-align: right;\n",
       "    }\n",
       "</style>\n",
       "<table border=\"1\" class=\"dataframe\">\n",
       "  <thead>\n",
       "    <tr style=\"text-align: right;\">\n",
       "      <th></th>\n",
       "      <th>roll no</th>\n",
       "      <th>name</th>\n",
       "      <th>fathername</th>\n",
       "      <th>class</th>\n",
       "      <th>date of admission</th>\n",
       "      <th>fee</th>\n",
       "      <th>course</th>\n",
       "    </tr>\n",
       "  </thead>\n",
       "  <tbody>\n",
       "    <tr>\n",
       "      <th>0</th>\n",
       "      <td>101</td>\n",
       "      <td>John</td>\n",
       "      <td>John Sr.</td>\n",
       "      <td>10</td>\n",
       "      <td>2023-01-15</td>\n",
       "      <td>5000</td>\n",
       "      <td>Math</td>\n",
       "    </tr>\n",
       "  </tbody>\n",
       "</table>\n",
       "</div>"
      ],
      "text/plain": [
       "   roll no  name fathername  class date of admission   fee course\n",
       "0      101  John   John Sr.     10        2023-01-15  5000   Math"
      ]
     },
     "metadata": {},
     "output_type": "display_data"
    },
    {
     "data": {
      "text/plain": [
       "('02',)"
      ]
     },
     "metadata": {},
     "output_type": "display_data"
    },
    {
     "data": {
      "text/html": [
       "<div>\n",
       "<style scoped>\n",
       "    .dataframe tbody tr th:only-of-type {\n",
       "        vertical-align: middle;\n",
       "    }\n",
       "\n",
       "    .dataframe tbody tr th {\n",
       "        vertical-align: top;\n",
       "    }\n",
       "\n",
       "    .dataframe thead th {\n",
       "        text-align: right;\n",
       "    }\n",
       "</style>\n",
       "<table border=\"1\" class=\"dataframe\">\n",
       "  <thead>\n",
       "    <tr style=\"text-align: right;\">\n",
       "      <th></th>\n",
       "      <th>roll no</th>\n",
       "      <th>name</th>\n",
       "      <th>fathername</th>\n",
       "      <th>class</th>\n",
       "      <th>date of admission</th>\n",
       "      <th>fee</th>\n",
       "      <th>course</th>\n",
       "    </tr>\n",
       "  </thead>\n",
       "  <tbody>\n",
       "    <tr>\n",
       "      <th>1</th>\n",
       "      <td>102</td>\n",
       "      <td>Alice</td>\n",
       "      <td>Alice Sr.</td>\n",
       "      <td>11</td>\n",
       "      <td>2023-02-20</td>\n",
       "      <td>6000</td>\n",
       "      <td>Science</td>\n",
       "    </tr>\n",
       "  </tbody>\n",
       "</table>\n",
       "</div>"
      ],
      "text/plain": [
       "   roll no   name fathername  class date of admission   fee   course\n",
       "1      102  Alice  Alice Sr.     11        2023-02-20  6000  Science"
      ]
     },
     "metadata": {},
     "output_type": "display_data"
    },
    {
     "data": {
      "text/plain": [
       "('03',)"
      ]
     },
     "metadata": {},
     "output_type": "display_data"
    },
    {
     "data": {
      "text/html": [
       "<div>\n",
       "<style scoped>\n",
       "    .dataframe tbody tr th:only-of-type {\n",
       "        vertical-align: middle;\n",
       "    }\n",
       "\n",
       "    .dataframe tbody tr th {\n",
       "        vertical-align: top;\n",
       "    }\n",
       "\n",
       "    .dataframe thead th {\n",
       "        text-align: right;\n",
       "    }\n",
       "</style>\n",
       "<table border=\"1\" class=\"dataframe\">\n",
       "  <thead>\n",
       "    <tr style=\"text-align: right;\">\n",
       "      <th></th>\n",
       "      <th>roll no</th>\n",
       "      <th>name</th>\n",
       "      <th>fathername</th>\n",
       "      <th>class</th>\n",
       "      <th>date of admission</th>\n",
       "      <th>fee</th>\n",
       "      <th>course</th>\n",
       "    </tr>\n",
       "  </thead>\n",
       "  <tbody>\n",
       "    <tr>\n",
       "      <th>2</th>\n",
       "      <td>103</td>\n",
       "      <td>Bob</td>\n",
       "      <td>Bob Sr.</td>\n",
       "      <td>10</td>\n",
       "      <td>2023-03-10</td>\n",
       "      <td>5500</td>\n",
       "      <td>English</td>\n",
       "    </tr>\n",
       "  </tbody>\n",
       "</table>\n",
       "</div>"
      ],
      "text/plain": [
       "   roll no name fathername  class date of admission   fee   course\n",
       "2      103  Bob    Bob Sr.     10        2023-03-10  5500  English"
      ]
     },
     "metadata": {},
     "output_type": "display_data"
    },
    {
     "data": {
      "text/plain": [
       "('04',)"
      ]
     },
     "metadata": {},
     "output_type": "display_data"
    },
    {
     "data": {
      "text/html": [
       "<div>\n",
       "<style scoped>\n",
       "    .dataframe tbody tr th:only-of-type {\n",
       "        vertical-align: middle;\n",
       "    }\n",
       "\n",
       "    .dataframe tbody tr th {\n",
       "        vertical-align: top;\n",
       "    }\n",
       "\n",
       "    .dataframe thead th {\n",
       "        text-align: right;\n",
       "    }\n",
       "</style>\n",
       "<table border=\"1\" class=\"dataframe\">\n",
       "  <thead>\n",
       "    <tr style=\"text-align: right;\">\n",
       "      <th></th>\n",
       "      <th>roll no</th>\n",
       "      <th>name</th>\n",
       "      <th>fathername</th>\n",
       "      <th>class</th>\n",
       "      <th>date of admission</th>\n",
       "      <th>fee</th>\n",
       "      <th>course</th>\n",
       "    </tr>\n",
       "  </thead>\n",
       "  <tbody>\n",
       "    <tr>\n",
       "      <th>3</th>\n",
       "      <td>104</td>\n",
       "      <td>Emma</td>\n",
       "      <td>Emma Sr.</td>\n",
       "      <td>12</td>\n",
       "      <td>2023-04-05</td>\n",
       "      <td>7000</td>\n",
       "      <td>Physics</td>\n",
       "    </tr>\n",
       "  </tbody>\n",
       "</table>\n",
       "</div>"
      ],
      "text/plain": [
       "   roll no  name fathername  class date of admission   fee   course\n",
       "3      104  Emma   Emma Sr.     12        2023-04-05  7000  Physics"
      ]
     },
     "metadata": {},
     "output_type": "display_data"
    },
    {
     "data": {
      "text/plain": [
       "('05',)"
      ]
     },
     "metadata": {},
     "output_type": "display_data"
    },
    {
     "data": {
      "text/html": [
       "<div>\n",
       "<style scoped>\n",
       "    .dataframe tbody tr th:only-of-type {\n",
       "        vertical-align: middle;\n",
       "    }\n",
       "\n",
       "    .dataframe tbody tr th {\n",
       "        vertical-align: top;\n",
       "    }\n",
       "\n",
       "    .dataframe thead th {\n",
       "        text-align: right;\n",
       "    }\n",
       "</style>\n",
       "<table border=\"1\" class=\"dataframe\">\n",
       "  <thead>\n",
       "    <tr style=\"text-align: right;\">\n",
       "      <th></th>\n",
       "      <th>roll no</th>\n",
       "      <th>name</th>\n",
       "      <th>fathername</th>\n",
       "      <th>class</th>\n",
       "      <th>date of admission</th>\n",
       "      <th>fee</th>\n",
       "      <th>course</th>\n",
       "    </tr>\n",
       "  </thead>\n",
       "  <tbody>\n",
       "    <tr>\n",
       "      <th>4</th>\n",
       "      <td>105</td>\n",
       "      <td>Michael</td>\n",
       "      <td>Michael Sr.</td>\n",
       "      <td>11</td>\n",
       "      <td>2023-05-12</td>\n",
       "      <td>6500</td>\n",
       "      <td>History</td>\n",
       "    </tr>\n",
       "  </tbody>\n",
       "</table>\n",
       "</div>"
      ],
      "text/plain": [
       "   roll no     name   fathername  class date of admission   fee   course\n",
       "4      105  Michael  Michael Sr.     11        2023-05-12  6500  History"
      ]
     },
     "metadata": {},
     "output_type": "display_data"
    },
    {
     "data": {
      "text/plain": [
       "('06',)"
      ]
     },
     "metadata": {},
     "output_type": "display_data"
    },
    {
     "data": {
      "text/html": [
       "<div>\n",
       "<style scoped>\n",
       "    .dataframe tbody tr th:only-of-type {\n",
       "        vertical-align: middle;\n",
       "    }\n",
       "\n",
       "    .dataframe tbody tr th {\n",
       "        vertical-align: top;\n",
       "    }\n",
       "\n",
       "    .dataframe thead th {\n",
       "        text-align: right;\n",
       "    }\n",
       "</style>\n",
       "<table border=\"1\" class=\"dataframe\">\n",
       "  <thead>\n",
       "    <tr style=\"text-align: right;\">\n",
       "      <th></th>\n",
       "      <th>roll no</th>\n",
       "      <th>name</th>\n",
       "      <th>fathername</th>\n",
       "      <th>class</th>\n",
       "      <th>date of admission</th>\n",
       "      <th>fee</th>\n",
       "      <th>course</th>\n",
       "    </tr>\n",
       "  </thead>\n",
       "  <tbody>\n",
       "    <tr>\n",
       "      <th>5</th>\n",
       "      <td>106</td>\n",
       "      <td>Sophia</td>\n",
       "      <td>Sophia Sr.</td>\n",
       "      <td>10</td>\n",
       "      <td>2023-06-18</td>\n",
       "      <td>5000</td>\n",
       "      <td>Math</td>\n",
       "    </tr>\n",
       "  </tbody>\n",
       "</table>\n",
       "</div>"
      ],
      "text/plain": [
       "   roll no    name  fathername  class date of admission   fee course\n",
       "5      106  Sophia  Sophia Sr.     10        2023-06-18  5000   Math"
      ]
     },
     "metadata": {},
     "output_type": "display_data"
    },
    {
     "data": {
      "text/plain": [
       "('07',)"
      ]
     },
     "metadata": {},
     "output_type": "display_data"
    },
    {
     "data": {
      "text/html": [
       "<div>\n",
       "<style scoped>\n",
       "    .dataframe tbody tr th:only-of-type {\n",
       "        vertical-align: middle;\n",
       "    }\n",
       "\n",
       "    .dataframe tbody tr th {\n",
       "        vertical-align: top;\n",
       "    }\n",
       "\n",
       "    .dataframe thead th {\n",
       "        text-align: right;\n",
       "    }\n",
       "</style>\n",
       "<table border=\"1\" class=\"dataframe\">\n",
       "  <thead>\n",
       "    <tr style=\"text-align: right;\">\n",
       "      <th></th>\n",
       "      <th>roll no</th>\n",
       "      <th>name</th>\n",
       "      <th>fathername</th>\n",
       "      <th>class</th>\n",
       "      <th>date of admission</th>\n",
       "      <th>fee</th>\n",
       "      <th>course</th>\n",
       "    </tr>\n",
       "  </thead>\n",
       "  <tbody>\n",
       "    <tr>\n",
       "      <th>6</th>\n",
       "      <td>107</td>\n",
       "      <td>Liam</td>\n",
       "      <td>Liam Sr.</td>\n",
       "      <td>12</td>\n",
       "      <td>2023-07-22</td>\n",
       "      <td>7200</td>\n",
       "      <td>Biology</td>\n",
       "    </tr>\n",
       "  </tbody>\n",
       "</table>\n",
       "</div>"
      ],
      "text/plain": [
       "   roll no  name fathername  class date of admission   fee   course\n",
       "6      107  Liam   Liam Sr.     12        2023-07-22  7200  Biology"
      ]
     },
     "metadata": {},
     "output_type": "display_data"
    },
    {
     "data": {
      "text/plain": [
       "('08',)"
      ]
     },
     "metadata": {},
     "output_type": "display_data"
    },
    {
     "data": {
      "text/html": [
       "<div>\n",
       "<style scoped>\n",
       "    .dataframe tbody tr th:only-of-type {\n",
       "        vertical-align: middle;\n",
       "    }\n",
       "\n",
       "    .dataframe tbody tr th {\n",
       "        vertical-align: top;\n",
       "    }\n",
       "\n",
       "    .dataframe thead th {\n",
       "        text-align: right;\n",
       "    }\n",
       "</style>\n",
       "<table border=\"1\" class=\"dataframe\">\n",
       "  <thead>\n",
       "    <tr style=\"text-align: right;\">\n",
       "      <th></th>\n",
       "      <th>roll no</th>\n",
       "      <th>name</th>\n",
       "      <th>fathername</th>\n",
       "      <th>class</th>\n",
       "      <th>date of admission</th>\n",
       "      <th>fee</th>\n",
       "      <th>course</th>\n",
       "    </tr>\n",
       "  </thead>\n",
       "  <tbody>\n",
       "    <tr>\n",
       "      <th>7</th>\n",
       "      <td>108</td>\n",
       "      <td>Olivia</td>\n",
       "      <td>Olivia Sr.</td>\n",
       "      <td>11</td>\n",
       "      <td>2023-08-30</td>\n",
       "      <td>6100</td>\n",
       "      <td>Chemistry</td>\n",
       "    </tr>\n",
       "  </tbody>\n",
       "</table>\n",
       "</div>"
      ],
      "text/plain": [
       "   roll no    name  fathername  class date of admission   fee     course\n",
       "7      108  Olivia  Olivia Sr.     11        2023-08-30  6100  Chemistry"
      ]
     },
     "metadata": {},
     "output_type": "display_data"
    },
    {
     "data": {
      "text/plain": [
       "('09',)"
      ]
     },
     "metadata": {},
     "output_type": "display_data"
    },
    {
     "data": {
      "text/html": [
       "<div>\n",
       "<style scoped>\n",
       "    .dataframe tbody tr th:only-of-type {\n",
       "        vertical-align: middle;\n",
       "    }\n",
       "\n",
       "    .dataframe tbody tr th {\n",
       "        vertical-align: top;\n",
       "    }\n",
       "\n",
       "    .dataframe thead th {\n",
       "        text-align: right;\n",
       "    }\n",
       "</style>\n",
       "<table border=\"1\" class=\"dataframe\">\n",
       "  <thead>\n",
       "    <tr style=\"text-align: right;\">\n",
       "      <th></th>\n",
       "      <th>roll no</th>\n",
       "      <th>name</th>\n",
       "      <th>fathername</th>\n",
       "      <th>class</th>\n",
       "      <th>date of admission</th>\n",
       "      <th>fee</th>\n",
       "      <th>course</th>\n",
       "    </tr>\n",
       "  </thead>\n",
       "  <tbody>\n",
       "    <tr>\n",
       "      <th>8</th>\n",
       "      <td>109</td>\n",
       "      <td>William</td>\n",
       "      <td>William Sr.</td>\n",
       "      <td>12</td>\n",
       "      <td>2023-09-14</td>\n",
       "      <td>7300</td>\n",
       "      <td>Geography</td>\n",
       "    </tr>\n",
       "  </tbody>\n",
       "</table>\n",
       "</div>"
      ],
      "text/plain": [
       "   roll no     name   fathername  class date of admission   fee     course\n",
       "8      109  William  William Sr.     12        2023-09-14  7300  Geography"
      ]
     },
     "metadata": {},
     "output_type": "display_data"
    },
    {
     "data": {
      "text/plain": [
       "('10',)"
      ]
     },
     "metadata": {},
     "output_type": "display_data"
    },
    {
     "data": {
      "text/html": [
       "<div>\n",
       "<style scoped>\n",
       "    .dataframe tbody tr th:only-of-type {\n",
       "        vertical-align: middle;\n",
       "    }\n",
       "\n",
       "    .dataframe tbody tr th {\n",
       "        vertical-align: top;\n",
       "    }\n",
       "\n",
       "    .dataframe thead th {\n",
       "        text-align: right;\n",
       "    }\n",
       "</style>\n",
       "<table border=\"1\" class=\"dataframe\">\n",
       "  <thead>\n",
       "    <tr style=\"text-align: right;\">\n",
       "      <th></th>\n",
       "      <th>roll no</th>\n",
       "      <th>name</th>\n",
       "      <th>fathername</th>\n",
       "      <th>class</th>\n",
       "      <th>date of admission</th>\n",
       "      <th>fee</th>\n",
       "      <th>course</th>\n",
       "    </tr>\n",
       "  </thead>\n",
       "  <tbody>\n",
       "    <tr>\n",
       "      <th>9</th>\n",
       "      <td>110</td>\n",
       "      <td>Ava</td>\n",
       "      <td>Ava Sr.</td>\n",
       "      <td>10</td>\n",
       "      <td>2023-10-25</td>\n",
       "      <td>4800</td>\n",
       "      <td>Art</td>\n",
       "    </tr>\n",
       "  </tbody>\n",
       "</table>\n",
       "</div>"
      ],
      "text/plain": [
       "   roll no name fathername  class date of admission   fee course\n",
       "9      110  Ava    Ava Sr.     10        2023-10-25  4800    Art"
      ]
     },
     "metadata": {},
     "output_type": "display_data"
    }
   ],
   "source": [
    "for group in list(student.groupby([student[\"date of admission\"].\n",
    "                                   dt.strftime(\"%m\")])):\n",
    "    display(group[0])\n",
    "    display(group[1])\n",
    "    "
   ]
  },
  {
   "cell_type": "code",
   "execution_count": 79,
   "metadata": {},
   "outputs": [
    {
     "data": {
      "text/plain": [
       "('05',)"
      ]
     },
     "metadata": {},
     "output_type": "display_data"
    },
    {
     "data": {
      "text/html": [
       "<div>\n",
       "<style scoped>\n",
       "    .dataframe tbody tr th:only-of-type {\n",
       "        vertical-align: middle;\n",
       "    }\n",
       "\n",
       "    .dataframe tbody tr th {\n",
       "        vertical-align: top;\n",
       "    }\n",
       "\n",
       "    .dataframe thead th {\n",
       "        text-align: right;\n",
       "    }\n",
       "</style>\n",
       "<table border=\"1\" class=\"dataframe\">\n",
       "  <thead>\n",
       "    <tr style=\"text-align: right;\">\n",
       "      <th></th>\n",
       "      <th>roll no</th>\n",
       "      <th>name</th>\n",
       "      <th>fathername</th>\n",
       "      <th>class</th>\n",
       "      <th>date of admission</th>\n",
       "      <th>fee</th>\n",
       "      <th>course</th>\n",
       "    </tr>\n",
       "  </thead>\n",
       "  <tbody>\n",
       "    <tr>\n",
       "      <th>3</th>\n",
       "      <td>104</td>\n",
       "      <td>Emma</td>\n",
       "      <td>Emma Sr.</td>\n",
       "      <td>12</td>\n",
       "      <td>2023-04-05</td>\n",
       "      <td>7000</td>\n",
       "      <td>Physics</td>\n",
       "    </tr>\n",
       "  </tbody>\n",
       "</table>\n",
       "</div>"
      ],
      "text/plain": [
       "   roll no  name fathername  class date of admission   fee   course\n",
       "3      104  Emma   Emma Sr.     12        2023-04-05  7000  Physics"
      ]
     },
     "metadata": {},
     "output_type": "display_data"
    },
    {
     "data": {
      "text/plain": [
       "('10',)"
      ]
     },
     "metadata": {},
     "output_type": "display_data"
    },
    {
     "data": {
      "text/html": [
       "<div>\n",
       "<style scoped>\n",
       "    .dataframe tbody tr th:only-of-type {\n",
       "        vertical-align: middle;\n",
       "    }\n",
       "\n",
       "    .dataframe tbody tr th {\n",
       "        vertical-align: top;\n",
       "    }\n",
       "\n",
       "    .dataframe thead th {\n",
       "        text-align: right;\n",
       "    }\n",
       "</style>\n",
       "<table border=\"1\" class=\"dataframe\">\n",
       "  <thead>\n",
       "    <tr style=\"text-align: right;\">\n",
       "      <th></th>\n",
       "      <th>roll no</th>\n",
       "      <th>name</th>\n",
       "      <th>fathername</th>\n",
       "      <th>class</th>\n",
       "      <th>date of admission</th>\n",
       "      <th>fee</th>\n",
       "      <th>course</th>\n",
       "    </tr>\n",
       "  </thead>\n",
       "  <tbody>\n",
       "    <tr>\n",
       "      <th>2</th>\n",
       "      <td>103</td>\n",
       "      <td>Bob</td>\n",
       "      <td>Bob Sr.</td>\n",
       "      <td>10</td>\n",
       "      <td>2023-03-10</td>\n",
       "      <td>5500</td>\n",
       "      <td>English</td>\n",
       "    </tr>\n",
       "  </tbody>\n",
       "</table>\n",
       "</div>"
      ],
      "text/plain": [
       "   roll no name fathername  class date of admission   fee   course\n",
       "2      103  Bob    Bob Sr.     10        2023-03-10  5500  English"
      ]
     },
     "metadata": {},
     "output_type": "display_data"
    },
    {
     "data": {
      "text/plain": [
       "('12',)"
      ]
     },
     "metadata": {},
     "output_type": "display_data"
    },
    {
     "data": {
      "text/html": [
       "<div>\n",
       "<style scoped>\n",
       "    .dataframe tbody tr th:only-of-type {\n",
       "        vertical-align: middle;\n",
       "    }\n",
       "\n",
       "    .dataframe tbody tr th {\n",
       "        vertical-align: top;\n",
       "    }\n",
       "\n",
       "    .dataframe thead th {\n",
       "        text-align: right;\n",
       "    }\n",
       "</style>\n",
       "<table border=\"1\" class=\"dataframe\">\n",
       "  <thead>\n",
       "    <tr style=\"text-align: right;\">\n",
       "      <th></th>\n",
       "      <th>roll no</th>\n",
       "      <th>name</th>\n",
       "      <th>fathername</th>\n",
       "      <th>class</th>\n",
       "      <th>date of admission</th>\n",
       "      <th>fee</th>\n",
       "      <th>course</th>\n",
       "    </tr>\n",
       "  </thead>\n",
       "  <tbody>\n",
       "    <tr>\n",
       "      <th>4</th>\n",
       "      <td>105</td>\n",
       "      <td>Michael</td>\n",
       "      <td>Michael Sr.</td>\n",
       "      <td>11</td>\n",
       "      <td>2023-05-12</td>\n",
       "      <td>6500</td>\n",
       "      <td>History</td>\n",
       "    </tr>\n",
       "  </tbody>\n",
       "</table>\n",
       "</div>"
      ],
      "text/plain": [
       "   roll no     name   fathername  class date of admission   fee   course\n",
       "4      105  Michael  Michael Sr.     11        2023-05-12  6500  History"
      ]
     },
     "metadata": {},
     "output_type": "display_data"
    },
    {
     "data": {
      "text/plain": [
       "('14',)"
      ]
     },
     "metadata": {},
     "output_type": "display_data"
    },
    {
     "data": {
      "text/html": [
       "<div>\n",
       "<style scoped>\n",
       "    .dataframe tbody tr th:only-of-type {\n",
       "        vertical-align: middle;\n",
       "    }\n",
       "\n",
       "    .dataframe tbody tr th {\n",
       "        vertical-align: top;\n",
       "    }\n",
       "\n",
       "    .dataframe thead th {\n",
       "        text-align: right;\n",
       "    }\n",
       "</style>\n",
       "<table border=\"1\" class=\"dataframe\">\n",
       "  <thead>\n",
       "    <tr style=\"text-align: right;\">\n",
       "      <th></th>\n",
       "      <th>roll no</th>\n",
       "      <th>name</th>\n",
       "      <th>fathername</th>\n",
       "      <th>class</th>\n",
       "      <th>date of admission</th>\n",
       "      <th>fee</th>\n",
       "      <th>course</th>\n",
       "    </tr>\n",
       "  </thead>\n",
       "  <tbody>\n",
       "    <tr>\n",
       "      <th>8</th>\n",
       "      <td>109</td>\n",
       "      <td>William</td>\n",
       "      <td>William Sr.</td>\n",
       "      <td>12</td>\n",
       "      <td>2023-09-14</td>\n",
       "      <td>7300</td>\n",
       "      <td>Geography</td>\n",
       "    </tr>\n",
       "  </tbody>\n",
       "</table>\n",
       "</div>"
      ],
      "text/plain": [
       "   roll no     name   fathername  class date of admission   fee     course\n",
       "8      109  William  William Sr.     12        2023-09-14  7300  Geography"
      ]
     },
     "metadata": {},
     "output_type": "display_data"
    },
    {
     "data": {
      "text/plain": [
       "('15',)"
      ]
     },
     "metadata": {},
     "output_type": "display_data"
    },
    {
     "data": {
      "text/html": [
       "<div>\n",
       "<style scoped>\n",
       "    .dataframe tbody tr th:only-of-type {\n",
       "        vertical-align: middle;\n",
       "    }\n",
       "\n",
       "    .dataframe tbody tr th {\n",
       "        vertical-align: top;\n",
       "    }\n",
       "\n",
       "    .dataframe thead th {\n",
       "        text-align: right;\n",
       "    }\n",
       "</style>\n",
       "<table border=\"1\" class=\"dataframe\">\n",
       "  <thead>\n",
       "    <tr style=\"text-align: right;\">\n",
       "      <th></th>\n",
       "      <th>roll no</th>\n",
       "      <th>name</th>\n",
       "      <th>fathername</th>\n",
       "      <th>class</th>\n",
       "      <th>date of admission</th>\n",
       "      <th>fee</th>\n",
       "      <th>course</th>\n",
       "    </tr>\n",
       "  </thead>\n",
       "  <tbody>\n",
       "    <tr>\n",
       "      <th>0</th>\n",
       "      <td>101</td>\n",
       "      <td>John</td>\n",
       "      <td>John Sr.</td>\n",
       "      <td>10</td>\n",
       "      <td>2023-01-15</td>\n",
       "      <td>5000</td>\n",
       "      <td>Math</td>\n",
       "    </tr>\n",
       "  </tbody>\n",
       "</table>\n",
       "</div>"
      ],
      "text/plain": [
       "   roll no  name fathername  class date of admission   fee course\n",
       "0      101  John   John Sr.     10        2023-01-15  5000   Math"
      ]
     },
     "metadata": {},
     "output_type": "display_data"
    },
    {
     "data": {
      "text/plain": [
       "('18',)"
      ]
     },
     "metadata": {},
     "output_type": "display_data"
    },
    {
     "data": {
      "text/html": [
       "<div>\n",
       "<style scoped>\n",
       "    .dataframe tbody tr th:only-of-type {\n",
       "        vertical-align: middle;\n",
       "    }\n",
       "\n",
       "    .dataframe tbody tr th {\n",
       "        vertical-align: top;\n",
       "    }\n",
       "\n",
       "    .dataframe thead th {\n",
       "        text-align: right;\n",
       "    }\n",
       "</style>\n",
       "<table border=\"1\" class=\"dataframe\">\n",
       "  <thead>\n",
       "    <tr style=\"text-align: right;\">\n",
       "      <th></th>\n",
       "      <th>roll no</th>\n",
       "      <th>name</th>\n",
       "      <th>fathername</th>\n",
       "      <th>class</th>\n",
       "      <th>date of admission</th>\n",
       "      <th>fee</th>\n",
       "      <th>course</th>\n",
       "    </tr>\n",
       "  </thead>\n",
       "  <tbody>\n",
       "    <tr>\n",
       "      <th>5</th>\n",
       "      <td>106</td>\n",
       "      <td>Sophia</td>\n",
       "      <td>Sophia Sr.</td>\n",
       "      <td>10</td>\n",
       "      <td>2023-06-18</td>\n",
       "      <td>5000</td>\n",
       "      <td>Math</td>\n",
       "    </tr>\n",
       "  </tbody>\n",
       "</table>\n",
       "</div>"
      ],
      "text/plain": [
       "   roll no    name  fathername  class date of admission   fee course\n",
       "5      106  Sophia  Sophia Sr.     10        2023-06-18  5000   Math"
      ]
     },
     "metadata": {},
     "output_type": "display_data"
    },
    {
     "data": {
      "text/plain": [
       "('20',)"
      ]
     },
     "metadata": {},
     "output_type": "display_data"
    },
    {
     "data": {
      "text/html": [
       "<div>\n",
       "<style scoped>\n",
       "    .dataframe tbody tr th:only-of-type {\n",
       "        vertical-align: middle;\n",
       "    }\n",
       "\n",
       "    .dataframe tbody tr th {\n",
       "        vertical-align: top;\n",
       "    }\n",
       "\n",
       "    .dataframe thead th {\n",
       "        text-align: right;\n",
       "    }\n",
       "</style>\n",
       "<table border=\"1\" class=\"dataframe\">\n",
       "  <thead>\n",
       "    <tr style=\"text-align: right;\">\n",
       "      <th></th>\n",
       "      <th>roll no</th>\n",
       "      <th>name</th>\n",
       "      <th>fathername</th>\n",
       "      <th>class</th>\n",
       "      <th>date of admission</th>\n",
       "      <th>fee</th>\n",
       "      <th>course</th>\n",
       "    </tr>\n",
       "  </thead>\n",
       "  <tbody>\n",
       "    <tr>\n",
       "      <th>1</th>\n",
       "      <td>102</td>\n",
       "      <td>Alice</td>\n",
       "      <td>Alice Sr.</td>\n",
       "      <td>11</td>\n",
       "      <td>2023-02-20</td>\n",
       "      <td>6000</td>\n",
       "      <td>Science</td>\n",
       "    </tr>\n",
       "  </tbody>\n",
       "</table>\n",
       "</div>"
      ],
      "text/plain": [
       "   roll no   name fathername  class date of admission   fee   course\n",
       "1      102  Alice  Alice Sr.     11        2023-02-20  6000  Science"
      ]
     },
     "metadata": {},
     "output_type": "display_data"
    },
    {
     "data": {
      "text/plain": [
       "('22',)"
      ]
     },
     "metadata": {},
     "output_type": "display_data"
    },
    {
     "data": {
      "text/html": [
       "<div>\n",
       "<style scoped>\n",
       "    .dataframe tbody tr th:only-of-type {\n",
       "        vertical-align: middle;\n",
       "    }\n",
       "\n",
       "    .dataframe tbody tr th {\n",
       "        vertical-align: top;\n",
       "    }\n",
       "\n",
       "    .dataframe thead th {\n",
       "        text-align: right;\n",
       "    }\n",
       "</style>\n",
       "<table border=\"1\" class=\"dataframe\">\n",
       "  <thead>\n",
       "    <tr style=\"text-align: right;\">\n",
       "      <th></th>\n",
       "      <th>roll no</th>\n",
       "      <th>name</th>\n",
       "      <th>fathername</th>\n",
       "      <th>class</th>\n",
       "      <th>date of admission</th>\n",
       "      <th>fee</th>\n",
       "      <th>course</th>\n",
       "    </tr>\n",
       "  </thead>\n",
       "  <tbody>\n",
       "    <tr>\n",
       "      <th>6</th>\n",
       "      <td>107</td>\n",
       "      <td>Liam</td>\n",
       "      <td>Liam Sr.</td>\n",
       "      <td>12</td>\n",
       "      <td>2023-07-22</td>\n",
       "      <td>7200</td>\n",
       "      <td>Biology</td>\n",
       "    </tr>\n",
       "  </tbody>\n",
       "</table>\n",
       "</div>"
      ],
      "text/plain": [
       "   roll no  name fathername  class date of admission   fee   course\n",
       "6      107  Liam   Liam Sr.     12        2023-07-22  7200  Biology"
      ]
     },
     "metadata": {},
     "output_type": "display_data"
    },
    {
     "data": {
      "text/plain": [
       "('25',)"
      ]
     },
     "metadata": {},
     "output_type": "display_data"
    },
    {
     "data": {
      "text/html": [
       "<div>\n",
       "<style scoped>\n",
       "    .dataframe tbody tr th:only-of-type {\n",
       "        vertical-align: middle;\n",
       "    }\n",
       "\n",
       "    .dataframe tbody tr th {\n",
       "        vertical-align: top;\n",
       "    }\n",
       "\n",
       "    .dataframe thead th {\n",
       "        text-align: right;\n",
       "    }\n",
       "</style>\n",
       "<table border=\"1\" class=\"dataframe\">\n",
       "  <thead>\n",
       "    <tr style=\"text-align: right;\">\n",
       "      <th></th>\n",
       "      <th>roll no</th>\n",
       "      <th>name</th>\n",
       "      <th>fathername</th>\n",
       "      <th>class</th>\n",
       "      <th>date of admission</th>\n",
       "      <th>fee</th>\n",
       "      <th>course</th>\n",
       "    </tr>\n",
       "  </thead>\n",
       "  <tbody>\n",
       "    <tr>\n",
       "      <th>9</th>\n",
       "      <td>110</td>\n",
       "      <td>Ava</td>\n",
       "      <td>Ava Sr.</td>\n",
       "      <td>10</td>\n",
       "      <td>2023-10-25</td>\n",
       "      <td>4800</td>\n",
       "      <td>Art</td>\n",
       "    </tr>\n",
       "  </tbody>\n",
       "</table>\n",
       "</div>"
      ],
      "text/plain": [
       "   roll no name fathername  class date of admission   fee course\n",
       "9      110  Ava    Ava Sr.     10        2023-10-25  4800    Art"
      ]
     },
     "metadata": {},
     "output_type": "display_data"
    },
    {
     "data": {
      "text/plain": [
       "('30',)"
      ]
     },
     "metadata": {},
     "output_type": "display_data"
    },
    {
     "data": {
      "text/html": [
       "<div>\n",
       "<style scoped>\n",
       "    .dataframe tbody tr th:only-of-type {\n",
       "        vertical-align: middle;\n",
       "    }\n",
       "\n",
       "    .dataframe tbody tr th {\n",
       "        vertical-align: top;\n",
       "    }\n",
       "\n",
       "    .dataframe thead th {\n",
       "        text-align: right;\n",
       "    }\n",
       "</style>\n",
       "<table border=\"1\" class=\"dataframe\">\n",
       "  <thead>\n",
       "    <tr style=\"text-align: right;\">\n",
       "      <th></th>\n",
       "      <th>roll no</th>\n",
       "      <th>name</th>\n",
       "      <th>fathername</th>\n",
       "      <th>class</th>\n",
       "      <th>date of admission</th>\n",
       "      <th>fee</th>\n",
       "      <th>course</th>\n",
       "    </tr>\n",
       "  </thead>\n",
       "  <tbody>\n",
       "    <tr>\n",
       "      <th>7</th>\n",
       "      <td>108</td>\n",
       "      <td>Olivia</td>\n",
       "      <td>Olivia Sr.</td>\n",
       "      <td>11</td>\n",
       "      <td>2023-08-30</td>\n",
       "      <td>6100</td>\n",
       "      <td>Chemistry</td>\n",
       "    </tr>\n",
       "  </tbody>\n",
       "</table>\n",
       "</div>"
      ],
      "text/plain": [
       "   roll no    name  fathername  class date of admission   fee     course\n",
       "7      108  Olivia  Olivia Sr.     11        2023-08-30  6100  Chemistry"
      ]
     },
     "metadata": {},
     "output_type": "display_data"
    }
   ],
   "source": [
    "for group in list(student.groupby([student[\"date of admission\"].\n",
    "                                   dt.strftime(\"%d\")])):\n",
    "    display(group[0])\n",
    "    display(group[1])\n",
    "    "
   ]
  },
  {
   "cell_type": "code",
   "execution_count": 80,
   "metadata": {},
   "outputs": [
    {
     "data": {
      "text/plain": [
       "('April',)"
      ]
     },
     "metadata": {},
     "output_type": "display_data"
    },
    {
     "data": {
      "text/html": [
       "<div>\n",
       "<style scoped>\n",
       "    .dataframe tbody tr th:only-of-type {\n",
       "        vertical-align: middle;\n",
       "    }\n",
       "\n",
       "    .dataframe tbody tr th {\n",
       "        vertical-align: top;\n",
       "    }\n",
       "\n",
       "    .dataframe thead th {\n",
       "        text-align: right;\n",
       "    }\n",
       "</style>\n",
       "<table border=\"1\" class=\"dataframe\">\n",
       "  <thead>\n",
       "    <tr style=\"text-align: right;\">\n",
       "      <th></th>\n",
       "      <th>roll no</th>\n",
       "      <th>name</th>\n",
       "      <th>fathername</th>\n",
       "      <th>class</th>\n",
       "      <th>date of admission</th>\n",
       "      <th>fee</th>\n",
       "      <th>course</th>\n",
       "    </tr>\n",
       "  </thead>\n",
       "  <tbody>\n",
       "    <tr>\n",
       "      <th>3</th>\n",
       "      <td>104</td>\n",
       "      <td>Emma</td>\n",
       "      <td>Emma Sr.</td>\n",
       "      <td>12</td>\n",
       "      <td>2023-04-05</td>\n",
       "      <td>7000</td>\n",
       "      <td>Physics</td>\n",
       "    </tr>\n",
       "  </tbody>\n",
       "</table>\n",
       "</div>"
      ],
      "text/plain": [
       "   roll no  name fathername  class date of admission   fee   course\n",
       "3      104  Emma   Emma Sr.     12        2023-04-05  7000  Physics"
      ]
     },
     "metadata": {},
     "output_type": "display_data"
    },
    {
     "data": {
      "text/plain": [
       "('August',)"
      ]
     },
     "metadata": {},
     "output_type": "display_data"
    },
    {
     "data": {
      "text/html": [
       "<div>\n",
       "<style scoped>\n",
       "    .dataframe tbody tr th:only-of-type {\n",
       "        vertical-align: middle;\n",
       "    }\n",
       "\n",
       "    .dataframe tbody tr th {\n",
       "        vertical-align: top;\n",
       "    }\n",
       "\n",
       "    .dataframe thead th {\n",
       "        text-align: right;\n",
       "    }\n",
       "</style>\n",
       "<table border=\"1\" class=\"dataframe\">\n",
       "  <thead>\n",
       "    <tr style=\"text-align: right;\">\n",
       "      <th></th>\n",
       "      <th>roll no</th>\n",
       "      <th>name</th>\n",
       "      <th>fathername</th>\n",
       "      <th>class</th>\n",
       "      <th>date of admission</th>\n",
       "      <th>fee</th>\n",
       "      <th>course</th>\n",
       "    </tr>\n",
       "  </thead>\n",
       "  <tbody>\n",
       "    <tr>\n",
       "      <th>7</th>\n",
       "      <td>108</td>\n",
       "      <td>Olivia</td>\n",
       "      <td>Olivia Sr.</td>\n",
       "      <td>11</td>\n",
       "      <td>2023-08-30</td>\n",
       "      <td>6100</td>\n",
       "      <td>Chemistry</td>\n",
       "    </tr>\n",
       "  </tbody>\n",
       "</table>\n",
       "</div>"
      ],
      "text/plain": [
       "   roll no    name  fathername  class date of admission   fee     course\n",
       "7      108  Olivia  Olivia Sr.     11        2023-08-30  6100  Chemistry"
      ]
     },
     "metadata": {},
     "output_type": "display_data"
    },
    {
     "data": {
      "text/plain": [
       "('February',)"
      ]
     },
     "metadata": {},
     "output_type": "display_data"
    },
    {
     "data": {
      "text/html": [
       "<div>\n",
       "<style scoped>\n",
       "    .dataframe tbody tr th:only-of-type {\n",
       "        vertical-align: middle;\n",
       "    }\n",
       "\n",
       "    .dataframe tbody tr th {\n",
       "        vertical-align: top;\n",
       "    }\n",
       "\n",
       "    .dataframe thead th {\n",
       "        text-align: right;\n",
       "    }\n",
       "</style>\n",
       "<table border=\"1\" class=\"dataframe\">\n",
       "  <thead>\n",
       "    <tr style=\"text-align: right;\">\n",
       "      <th></th>\n",
       "      <th>roll no</th>\n",
       "      <th>name</th>\n",
       "      <th>fathername</th>\n",
       "      <th>class</th>\n",
       "      <th>date of admission</th>\n",
       "      <th>fee</th>\n",
       "      <th>course</th>\n",
       "    </tr>\n",
       "  </thead>\n",
       "  <tbody>\n",
       "    <tr>\n",
       "      <th>1</th>\n",
       "      <td>102</td>\n",
       "      <td>Alice</td>\n",
       "      <td>Alice Sr.</td>\n",
       "      <td>11</td>\n",
       "      <td>2023-02-20</td>\n",
       "      <td>6000</td>\n",
       "      <td>Science</td>\n",
       "    </tr>\n",
       "  </tbody>\n",
       "</table>\n",
       "</div>"
      ],
      "text/plain": [
       "   roll no   name fathername  class date of admission   fee   course\n",
       "1      102  Alice  Alice Sr.     11        2023-02-20  6000  Science"
      ]
     },
     "metadata": {},
     "output_type": "display_data"
    },
    {
     "data": {
      "text/plain": [
       "('January',)"
      ]
     },
     "metadata": {},
     "output_type": "display_data"
    },
    {
     "data": {
      "text/html": [
       "<div>\n",
       "<style scoped>\n",
       "    .dataframe tbody tr th:only-of-type {\n",
       "        vertical-align: middle;\n",
       "    }\n",
       "\n",
       "    .dataframe tbody tr th {\n",
       "        vertical-align: top;\n",
       "    }\n",
       "\n",
       "    .dataframe thead th {\n",
       "        text-align: right;\n",
       "    }\n",
       "</style>\n",
       "<table border=\"1\" class=\"dataframe\">\n",
       "  <thead>\n",
       "    <tr style=\"text-align: right;\">\n",
       "      <th></th>\n",
       "      <th>roll no</th>\n",
       "      <th>name</th>\n",
       "      <th>fathername</th>\n",
       "      <th>class</th>\n",
       "      <th>date of admission</th>\n",
       "      <th>fee</th>\n",
       "      <th>course</th>\n",
       "    </tr>\n",
       "  </thead>\n",
       "  <tbody>\n",
       "    <tr>\n",
       "      <th>0</th>\n",
       "      <td>101</td>\n",
       "      <td>John</td>\n",
       "      <td>John Sr.</td>\n",
       "      <td>10</td>\n",
       "      <td>2023-01-15</td>\n",
       "      <td>5000</td>\n",
       "      <td>Math</td>\n",
       "    </tr>\n",
       "  </tbody>\n",
       "</table>\n",
       "</div>"
      ],
      "text/plain": [
       "   roll no  name fathername  class date of admission   fee course\n",
       "0      101  John   John Sr.     10        2023-01-15  5000   Math"
      ]
     },
     "metadata": {},
     "output_type": "display_data"
    },
    {
     "data": {
      "text/plain": [
       "('July',)"
      ]
     },
     "metadata": {},
     "output_type": "display_data"
    },
    {
     "data": {
      "text/html": [
       "<div>\n",
       "<style scoped>\n",
       "    .dataframe tbody tr th:only-of-type {\n",
       "        vertical-align: middle;\n",
       "    }\n",
       "\n",
       "    .dataframe tbody tr th {\n",
       "        vertical-align: top;\n",
       "    }\n",
       "\n",
       "    .dataframe thead th {\n",
       "        text-align: right;\n",
       "    }\n",
       "</style>\n",
       "<table border=\"1\" class=\"dataframe\">\n",
       "  <thead>\n",
       "    <tr style=\"text-align: right;\">\n",
       "      <th></th>\n",
       "      <th>roll no</th>\n",
       "      <th>name</th>\n",
       "      <th>fathername</th>\n",
       "      <th>class</th>\n",
       "      <th>date of admission</th>\n",
       "      <th>fee</th>\n",
       "      <th>course</th>\n",
       "    </tr>\n",
       "  </thead>\n",
       "  <tbody>\n",
       "    <tr>\n",
       "      <th>6</th>\n",
       "      <td>107</td>\n",
       "      <td>Liam</td>\n",
       "      <td>Liam Sr.</td>\n",
       "      <td>12</td>\n",
       "      <td>2023-07-22</td>\n",
       "      <td>7200</td>\n",
       "      <td>Biology</td>\n",
       "    </tr>\n",
       "  </tbody>\n",
       "</table>\n",
       "</div>"
      ],
      "text/plain": [
       "   roll no  name fathername  class date of admission   fee   course\n",
       "6      107  Liam   Liam Sr.     12        2023-07-22  7200  Biology"
      ]
     },
     "metadata": {},
     "output_type": "display_data"
    },
    {
     "data": {
      "text/plain": [
       "('June',)"
      ]
     },
     "metadata": {},
     "output_type": "display_data"
    },
    {
     "data": {
      "text/html": [
       "<div>\n",
       "<style scoped>\n",
       "    .dataframe tbody tr th:only-of-type {\n",
       "        vertical-align: middle;\n",
       "    }\n",
       "\n",
       "    .dataframe tbody tr th {\n",
       "        vertical-align: top;\n",
       "    }\n",
       "\n",
       "    .dataframe thead th {\n",
       "        text-align: right;\n",
       "    }\n",
       "</style>\n",
       "<table border=\"1\" class=\"dataframe\">\n",
       "  <thead>\n",
       "    <tr style=\"text-align: right;\">\n",
       "      <th></th>\n",
       "      <th>roll no</th>\n",
       "      <th>name</th>\n",
       "      <th>fathername</th>\n",
       "      <th>class</th>\n",
       "      <th>date of admission</th>\n",
       "      <th>fee</th>\n",
       "      <th>course</th>\n",
       "    </tr>\n",
       "  </thead>\n",
       "  <tbody>\n",
       "    <tr>\n",
       "      <th>5</th>\n",
       "      <td>106</td>\n",
       "      <td>Sophia</td>\n",
       "      <td>Sophia Sr.</td>\n",
       "      <td>10</td>\n",
       "      <td>2023-06-18</td>\n",
       "      <td>5000</td>\n",
       "      <td>Math</td>\n",
       "    </tr>\n",
       "  </tbody>\n",
       "</table>\n",
       "</div>"
      ],
      "text/plain": [
       "   roll no    name  fathername  class date of admission   fee course\n",
       "5      106  Sophia  Sophia Sr.     10        2023-06-18  5000   Math"
      ]
     },
     "metadata": {},
     "output_type": "display_data"
    },
    {
     "data": {
      "text/plain": [
       "('March',)"
      ]
     },
     "metadata": {},
     "output_type": "display_data"
    },
    {
     "data": {
      "text/html": [
       "<div>\n",
       "<style scoped>\n",
       "    .dataframe tbody tr th:only-of-type {\n",
       "        vertical-align: middle;\n",
       "    }\n",
       "\n",
       "    .dataframe tbody tr th {\n",
       "        vertical-align: top;\n",
       "    }\n",
       "\n",
       "    .dataframe thead th {\n",
       "        text-align: right;\n",
       "    }\n",
       "</style>\n",
       "<table border=\"1\" class=\"dataframe\">\n",
       "  <thead>\n",
       "    <tr style=\"text-align: right;\">\n",
       "      <th></th>\n",
       "      <th>roll no</th>\n",
       "      <th>name</th>\n",
       "      <th>fathername</th>\n",
       "      <th>class</th>\n",
       "      <th>date of admission</th>\n",
       "      <th>fee</th>\n",
       "      <th>course</th>\n",
       "    </tr>\n",
       "  </thead>\n",
       "  <tbody>\n",
       "    <tr>\n",
       "      <th>2</th>\n",
       "      <td>103</td>\n",
       "      <td>Bob</td>\n",
       "      <td>Bob Sr.</td>\n",
       "      <td>10</td>\n",
       "      <td>2023-03-10</td>\n",
       "      <td>5500</td>\n",
       "      <td>English</td>\n",
       "    </tr>\n",
       "  </tbody>\n",
       "</table>\n",
       "</div>"
      ],
      "text/plain": [
       "   roll no name fathername  class date of admission   fee   course\n",
       "2      103  Bob    Bob Sr.     10        2023-03-10  5500  English"
      ]
     },
     "metadata": {},
     "output_type": "display_data"
    },
    {
     "data": {
      "text/plain": [
       "('May',)"
      ]
     },
     "metadata": {},
     "output_type": "display_data"
    },
    {
     "data": {
      "text/html": [
       "<div>\n",
       "<style scoped>\n",
       "    .dataframe tbody tr th:only-of-type {\n",
       "        vertical-align: middle;\n",
       "    }\n",
       "\n",
       "    .dataframe tbody tr th {\n",
       "        vertical-align: top;\n",
       "    }\n",
       "\n",
       "    .dataframe thead th {\n",
       "        text-align: right;\n",
       "    }\n",
       "</style>\n",
       "<table border=\"1\" class=\"dataframe\">\n",
       "  <thead>\n",
       "    <tr style=\"text-align: right;\">\n",
       "      <th></th>\n",
       "      <th>roll no</th>\n",
       "      <th>name</th>\n",
       "      <th>fathername</th>\n",
       "      <th>class</th>\n",
       "      <th>date of admission</th>\n",
       "      <th>fee</th>\n",
       "      <th>course</th>\n",
       "    </tr>\n",
       "  </thead>\n",
       "  <tbody>\n",
       "    <tr>\n",
       "      <th>4</th>\n",
       "      <td>105</td>\n",
       "      <td>Michael</td>\n",
       "      <td>Michael Sr.</td>\n",
       "      <td>11</td>\n",
       "      <td>2023-05-12</td>\n",
       "      <td>6500</td>\n",
       "      <td>History</td>\n",
       "    </tr>\n",
       "  </tbody>\n",
       "</table>\n",
       "</div>"
      ],
      "text/plain": [
       "   roll no     name   fathername  class date of admission   fee   course\n",
       "4      105  Michael  Michael Sr.     11        2023-05-12  6500  History"
      ]
     },
     "metadata": {},
     "output_type": "display_data"
    },
    {
     "data": {
      "text/plain": [
       "('October',)"
      ]
     },
     "metadata": {},
     "output_type": "display_data"
    },
    {
     "data": {
      "text/html": [
       "<div>\n",
       "<style scoped>\n",
       "    .dataframe tbody tr th:only-of-type {\n",
       "        vertical-align: middle;\n",
       "    }\n",
       "\n",
       "    .dataframe tbody tr th {\n",
       "        vertical-align: top;\n",
       "    }\n",
       "\n",
       "    .dataframe thead th {\n",
       "        text-align: right;\n",
       "    }\n",
       "</style>\n",
       "<table border=\"1\" class=\"dataframe\">\n",
       "  <thead>\n",
       "    <tr style=\"text-align: right;\">\n",
       "      <th></th>\n",
       "      <th>roll no</th>\n",
       "      <th>name</th>\n",
       "      <th>fathername</th>\n",
       "      <th>class</th>\n",
       "      <th>date of admission</th>\n",
       "      <th>fee</th>\n",
       "      <th>course</th>\n",
       "    </tr>\n",
       "  </thead>\n",
       "  <tbody>\n",
       "    <tr>\n",
       "      <th>9</th>\n",
       "      <td>110</td>\n",
       "      <td>Ava</td>\n",
       "      <td>Ava Sr.</td>\n",
       "      <td>10</td>\n",
       "      <td>2023-10-25</td>\n",
       "      <td>4800</td>\n",
       "      <td>Art</td>\n",
       "    </tr>\n",
       "  </tbody>\n",
       "</table>\n",
       "</div>"
      ],
      "text/plain": [
       "   roll no name fathername  class date of admission   fee course\n",
       "9      110  Ava    Ava Sr.     10        2023-10-25  4800    Art"
      ]
     },
     "metadata": {},
     "output_type": "display_data"
    },
    {
     "data": {
      "text/plain": [
       "('September',)"
      ]
     },
     "metadata": {},
     "output_type": "display_data"
    },
    {
     "data": {
      "text/html": [
       "<div>\n",
       "<style scoped>\n",
       "    .dataframe tbody tr th:only-of-type {\n",
       "        vertical-align: middle;\n",
       "    }\n",
       "\n",
       "    .dataframe tbody tr th {\n",
       "        vertical-align: top;\n",
       "    }\n",
       "\n",
       "    .dataframe thead th {\n",
       "        text-align: right;\n",
       "    }\n",
       "</style>\n",
       "<table border=\"1\" class=\"dataframe\">\n",
       "  <thead>\n",
       "    <tr style=\"text-align: right;\">\n",
       "      <th></th>\n",
       "      <th>roll no</th>\n",
       "      <th>name</th>\n",
       "      <th>fathername</th>\n",
       "      <th>class</th>\n",
       "      <th>date of admission</th>\n",
       "      <th>fee</th>\n",
       "      <th>course</th>\n",
       "    </tr>\n",
       "  </thead>\n",
       "  <tbody>\n",
       "    <tr>\n",
       "      <th>8</th>\n",
       "      <td>109</td>\n",
       "      <td>William</td>\n",
       "      <td>William Sr.</td>\n",
       "      <td>12</td>\n",
       "      <td>2023-09-14</td>\n",
       "      <td>7300</td>\n",
       "      <td>Geography</td>\n",
       "    </tr>\n",
       "  </tbody>\n",
       "</table>\n",
       "</div>"
      ],
      "text/plain": [
       "   roll no     name   fathername  class date of admission   fee     course\n",
       "8      109  William  William Sr.     12        2023-09-14  7300  Geography"
      ]
     },
     "metadata": {},
     "output_type": "display_data"
    }
   ],
   "source": [
    "for group in list(student.groupby([student[\"date of admission\"].\n",
    "                                   dt.strftime(\"%B\")])):\n",
    "    display(group[0])\n",
    "    display(group[1])\n",
    "    "
   ]
  },
  {
   "cell_type": "code",
   "execution_count": 85,
   "metadata": {},
   "outputs": [
    {
     "data": {
      "text/plain": [
       "('April', 'Physics')"
      ]
     },
     "metadata": {},
     "output_type": "display_data"
    },
    {
     "data": {
      "text/html": [
       "<div>\n",
       "<style scoped>\n",
       "    .dataframe tbody tr th:only-of-type {\n",
       "        vertical-align: middle;\n",
       "    }\n",
       "\n",
       "    .dataframe tbody tr th {\n",
       "        vertical-align: top;\n",
       "    }\n",
       "\n",
       "    .dataframe thead th {\n",
       "        text-align: right;\n",
       "    }\n",
       "</style>\n",
       "<table border=\"1\" class=\"dataframe\">\n",
       "  <thead>\n",
       "    <tr style=\"text-align: right;\">\n",
       "      <th></th>\n",
       "      <th>roll no</th>\n",
       "      <th>name</th>\n",
       "      <th>fathername</th>\n",
       "      <th>class</th>\n",
       "      <th>date of admission</th>\n",
       "      <th>fee</th>\n",
       "      <th>course</th>\n",
       "    </tr>\n",
       "  </thead>\n",
       "  <tbody>\n",
       "    <tr>\n",
       "      <th>3</th>\n",
       "      <td>104</td>\n",
       "      <td>Emma</td>\n",
       "      <td>Emma Sr.</td>\n",
       "      <td>12</td>\n",
       "      <td>2023-04-05</td>\n",
       "      <td>7000</td>\n",
       "      <td>Physics</td>\n",
       "    </tr>\n",
       "  </tbody>\n",
       "</table>\n",
       "</div>"
      ],
      "text/plain": [
       "   roll no  name fathername  class date of admission   fee   course\n",
       "3      104  Emma   Emma Sr.     12        2023-04-05  7000  Physics"
      ]
     },
     "metadata": {},
     "output_type": "display_data"
    },
    {
     "data": {
      "text/plain": [
       "('August', 'Chemistry')"
      ]
     },
     "metadata": {},
     "output_type": "display_data"
    },
    {
     "data": {
      "text/html": [
       "<div>\n",
       "<style scoped>\n",
       "    .dataframe tbody tr th:only-of-type {\n",
       "        vertical-align: middle;\n",
       "    }\n",
       "\n",
       "    .dataframe tbody tr th {\n",
       "        vertical-align: top;\n",
       "    }\n",
       "\n",
       "    .dataframe thead th {\n",
       "        text-align: right;\n",
       "    }\n",
       "</style>\n",
       "<table border=\"1\" class=\"dataframe\">\n",
       "  <thead>\n",
       "    <tr style=\"text-align: right;\">\n",
       "      <th></th>\n",
       "      <th>roll no</th>\n",
       "      <th>name</th>\n",
       "      <th>fathername</th>\n",
       "      <th>class</th>\n",
       "      <th>date of admission</th>\n",
       "      <th>fee</th>\n",
       "      <th>course</th>\n",
       "    </tr>\n",
       "  </thead>\n",
       "  <tbody>\n",
       "    <tr>\n",
       "      <th>7</th>\n",
       "      <td>108</td>\n",
       "      <td>Olivia</td>\n",
       "      <td>Olivia Sr.</td>\n",
       "      <td>11</td>\n",
       "      <td>2023-08-30</td>\n",
       "      <td>6100</td>\n",
       "      <td>Chemistry</td>\n",
       "    </tr>\n",
       "  </tbody>\n",
       "</table>\n",
       "</div>"
      ],
      "text/plain": [
       "   roll no    name  fathername  class date of admission   fee     course\n",
       "7      108  Olivia  Olivia Sr.     11        2023-08-30  6100  Chemistry"
      ]
     },
     "metadata": {},
     "output_type": "display_data"
    },
    {
     "data": {
      "text/plain": [
       "('February', 'Science')"
      ]
     },
     "metadata": {},
     "output_type": "display_data"
    },
    {
     "data": {
      "text/html": [
       "<div>\n",
       "<style scoped>\n",
       "    .dataframe tbody tr th:only-of-type {\n",
       "        vertical-align: middle;\n",
       "    }\n",
       "\n",
       "    .dataframe tbody tr th {\n",
       "        vertical-align: top;\n",
       "    }\n",
       "\n",
       "    .dataframe thead th {\n",
       "        text-align: right;\n",
       "    }\n",
       "</style>\n",
       "<table border=\"1\" class=\"dataframe\">\n",
       "  <thead>\n",
       "    <tr style=\"text-align: right;\">\n",
       "      <th></th>\n",
       "      <th>roll no</th>\n",
       "      <th>name</th>\n",
       "      <th>fathername</th>\n",
       "      <th>class</th>\n",
       "      <th>date of admission</th>\n",
       "      <th>fee</th>\n",
       "      <th>course</th>\n",
       "    </tr>\n",
       "  </thead>\n",
       "  <tbody>\n",
       "    <tr>\n",
       "      <th>1</th>\n",
       "      <td>102</td>\n",
       "      <td>Alice</td>\n",
       "      <td>Alice Sr.</td>\n",
       "      <td>11</td>\n",
       "      <td>2023-02-20</td>\n",
       "      <td>6000</td>\n",
       "      <td>Science</td>\n",
       "    </tr>\n",
       "  </tbody>\n",
       "</table>\n",
       "</div>"
      ],
      "text/plain": [
       "   roll no   name fathername  class date of admission   fee   course\n",
       "1      102  Alice  Alice Sr.     11        2023-02-20  6000  Science"
      ]
     },
     "metadata": {},
     "output_type": "display_data"
    },
    {
     "data": {
      "text/plain": [
       "('January', 'Math')"
      ]
     },
     "metadata": {},
     "output_type": "display_data"
    },
    {
     "data": {
      "text/html": [
       "<div>\n",
       "<style scoped>\n",
       "    .dataframe tbody tr th:only-of-type {\n",
       "        vertical-align: middle;\n",
       "    }\n",
       "\n",
       "    .dataframe tbody tr th {\n",
       "        vertical-align: top;\n",
       "    }\n",
       "\n",
       "    .dataframe thead th {\n",
       "        text-align: right;\n",
       "    }\n",
       "</style>\n",
       "<table border=\"1\" class=\"dataframe\">\n",
       "  <thead>\n",
       "    <tr style=\"text-align: right;\">\n",
       "      <th></th>\n",
       "      <th>roll no</th>\n",
       "      <th>name</th>\n",
       "      <th>fathername</th>\n",
       "      <th>class</th>\n",
       "      <th>date of admission</th>\n",
       "      <th>fee</th>\n",
       "      <th>course</th>\n",
       "    </tr>\n",
       "  </thead>\n",
       "  <tbody>\n",
       "    <tr>\n",
       "      <th>0</th>\n",
       "      <td>101</td>\n",
       "      <td>John</td>\n",
       "      <td>John Sr.</td>\n",
       "      <td>10</td>\n",
       "      <td>2023-01-15</td>\n",
       "      <td>5000</td>\n",
       "      <td>Math</td>\n",
       "    </tr>\n",
       "  </tbody>\n",
       "</table>\n",
       "</div>"
      ],
      "text/plain": [
       "   roll no  name fathername  class date of admission   fee course\n",
       "0      101  John   John Sr.     10        2023-01-15  5000   Math"
      ]
     },
     "metadata": {},
     "output_type": "display_data"
    },
    {
     "data": {
      "text/plain": [
       "('July', 'Biology')"
      ]
     },
     "metadata": {},
     "output_type": "display_data"
    },
    {
     "data": {
      "text/html": [
       "<div>\n",
       "<style scoped>\n",
       "    .dataframe tbody tr th:only-of-type {\n",
       "        vertical-align: middle;\n",
       "    }\n",
       "\n",
       "    .dataframe tbody tr th {\n",
       "        vertical-align: top;\n",
       "    }\n",
       "\n",
       "    .dataframe thead th {\n",
       "        text-align: right;\n",
       "    }\n",
       "</style>\n",
       "<table border=\"1\" class=\"dataframe\">\n",
       "  <thead>\n",
       "    <tr style=\"text-align: right;\">\n",
       "      <th></th>\n",
       "      <th>roll no</th>\n",
       "      <th>name</th>\n",
       "      <th>fathername</th>\n",
       "      <th>class</th>\n",
       "      <th>date of admission</th>\n",
       "      <th>fee</th>\n",
       "      <th>course</th>\n",
       "    </tr>\n",
       "  </thead>\n",
       "  <tbody>\n",
       "    <tr>\n",
       "      <th>6</th>\n",
       "      <td>107</td>\n",
       "      <td>Liam</td>\n",
       "      <td>Liam Sr.</td>\n",
       "      <td>12</td>\n",
       "      <td>2023-07-22</td>\n",
       "      <td>7200</td>\n",
       "      <td>Biology</td>\n",
       "    </tr>\n",
       "  </tbody>\n",
       "</table>\n",
       "</div>"
      ],
      "text/plain": [
       "   roll no  name fathername  class date of admission   fee   course\n",
       "6      107  Liam   Liam Sr.     12        2023-07-22  7200  Biology"
      ]
     },
     "metadata": {},
     "output_type": "display_data"
    },
    {
     "data": {
      "text/plain": [
       "('June', 'Math')"
      ]
     },
     "metadata": {},
     "output_type": "display_data"
    },
    {
     "data": {
      "text/html": [
       "<div>\n",
       "<style scoped>\n",
       "    .dataframe tbody tr th:only-of-type {\n",
       "        vertical-align: middle;\n",
       "    }\n",
       "\n",
       "    .dataframe tbody tr th {\n",
       "        vertical-align: top;\n",
       "    }\n",
       "\n",
       "    .dataframe thead th {\n",
       "        text-align: right;\n",
       "    }\n",
       "</style>\n",
       "<table border=\"1\" class=\"dataframe\">\n",
       "  <thead>\n",
       "    <tr style=\"text-align: right;\">\n",
       "      <th></th>\n",
       "      <th>roll no</th>\n",
       "      <th>name</th>\n",
       "      <th>fathername</th>\n",
       "      <th>class</th>\n",
       "      <th>date of admission</th>\n",
       "      <th>fee</th>\n",
       "      <th>course</th>\n",
       "    </tr>\n",
       "  </thead>\n",
       "  <tbody>\n",
       "    <tr>\n",
       "      <th>5</th>\n",
       "      <td>106</td>\n",
       "      <td>Sophia</td>\n",
       "      <td>Sophia Sr.</td>\n",
       "      <td>10</td>\n",
       "      <td>2023-06-18</td>\n",
       "      <td>5000</td>\n",
       "      <td>Math</td>\n",
       "    </tr>\n",
       "  </tbody>\n",
       "</table>\n",
       "</div>"
      ],
      "text/plain": [
       "   roll no    name  fathername  class date of admission   fee course\n",
       "5      106  Sophia  Sophia Sr.     10        2023-06-18  5000   Math"
      ]
     },
     "metadata": {},
     "output_type": "display_data"
    },
    {
     "data": {
      "text/plain": [
       "('March', 'English')"
      ]
     },
     "metadata": {},
     "output_type": "display_data"
    },
    {
     "data": {
      "text/html": [
       "<div>\n",
       "<style scoped>\n",
       "    .dataframe tbody tr th:only-of-type {\n",
       "        vertical-align: middle;\n",
       "    }\n",
       "\n",
       "    .dataframe tbody tr th {\n",
       "        vertical-align: top;\n",
       "    }\n",
       "\n",
       "    .dataframe thead th {\n",
       "        text-align: right;\n",
       "    }\n",
       "</style>\n",
       "<table border=\"1\" class=\"dataframe\">\n",
       "  <thead>\n",
       "    <tr style=\"text-align: right;\">\n",
       "      <th></th>\n",
       "      <th>roll no</th>\n",
       "      <th>name</th>\n",
       "      <th>fathername</th>\n",
       "      <th>class</th>\n",
       "      <th>date of admission</th>\n",
       "      <th>fee</th>\n",
       "      <th>course</th>\n",
       "    </tr>\n",
       "  </thead>\n",
       "  <tbody>\n",
       "    <tr>\n",
       "      <th>2</th>\n",
       "      <td>103</td>\n",
       "      <td>Bob</td>\n",
       "      <td>Bob Sr.</td>\n",
       "      <td>10</td>\n",
       "      <td>2023-03-10</td>\n",
       "      <td>5500</td>\n",
       "      <td>English</td>\n",
       "    </tr>\n",
       "  </tbody>\n",
       "</table>\n",
       "</div>"
      ],
      "text/plain": [
       "   roll no name fathername  class date of admission   fee   course\n",
       "2      103  Bob    Bob Sr.     10        2023-03-10  5500  English"
      ]
     },
     "metadata": {},
     "output_type": "display_data"
    },
    {
     "data": {
      "text/plain": [
       "('May', 'History')"
      ]
     },
     "metadata": {},
     "output_type": "display_data"
    },
    {
     "data": {
      "text/html": [
       "<div>\n",
       "<style scoped>\n",
       "    .dataframe tbody tr th:only-of-type {\n",
       "        vertical-align: middle;\n",
       "    }\n",
       "\n",
       "    .dataframe tbody tr th {\n",
       "        vertical-align: top;\n",
       "    }\n",
       "\n",
       "    .dataframe thead th {\n",
       "        text-align: right;\n",
       "    }\n",
       "</style>\n",
       "<table border=\"1\" class=\"dataframe\">\n",
       "  <thead>\n",
       "    <tr style=\"text-align: right;\">\n",
       "      <th></th>\n",
       "      <th>roll no</th>\n",
       "      <th>name</th>\n",
       "      <th>fathername</th>\n",
       "      <th>class</th>\n",
       "      <th>date of admission</th>\n",
       "      <th>fee</th>\n",
       "      <th>course</th>\n",
       "    </tr>\n",
       "  </thead>\n",
       "  <tbody>\n",
       "    <tr>\n",
       "      <th>4</th>\n",
       "      <td>105</td>\n",
       "      <td>Michael</td>\n",
       "      <td>Michael Sr.</td>\n",
       "      <td>11</td>\n",
       "      <td>2023-05-12</td>\n",
       "      <td>6500</td>\n",
       "      <td>History</td>\n",
       "    </tr>\n",
       "  </tbody>\n",
       "</table>\n",
       "</div>"
      ],
      "text/plain": [
       "   roll no     name   fathername  class date of admission   fee   course\n",
       "4      105  Michael  Michael Sr.     11        2023-05-12  6500  History"
      ]
     },
     "metadata": {},
     "output_type": "display_data"
    },
    {
     "data": {
      "text/plain": [
       "('October', 'Art')"
      ]
     },
     "metadata": {},
     "output_type": "display_data"
    },
    {
     "data": {
      "text/html": [
       "<div>\n",
       "<style scoped>\n",
       "    .dataframe tbody tr th:only-of-type {\n",
       "        vertical-align: middle;\n",
       "    }\n",
       "\n",
       "    .dataframe tbody tr th {\n",
       "        vertical-align: top;\n",
       "    }\n",
       "\n",
       "    .dataframe thead th {\n",
       "        text-align: right;\n",
       "    }\n",
       "</style>\n",
       "<table border=\"1\" class=\"dataframe\">\n",
       "  <thead>\n",
       "    <tr style=\"text-align: right;\">\n",
       "      <th></th>\n",
       "      <th>roll no</th>\n",
       "      <th>name</th>\n",
       "      <th>fathername</th>\n",
       "      <th>class</th>\n",
       "      <th>date of admission</th>\n",
       "      <th>fee</th>\n",
       "      <th>course</th>\n",
       "    </tr>\n",
       "  </thead>\n",
       "  <tbody>\n",
       "    <tr>\n",
       "      <th>9</th>\n",
       "      <td>110</td>\n",
       "      <td>Ava</td>\n",
       "      <td>Ava Sr.</td>\n",
       "      <td>10</td>\n",
       "      <td>2023-10-25</td>\n",
       "      <td>4800</td>\n",
       "      <td>Art</td>\n",
       "    </tr>\n",
       "  </tbody>\n",
       "</table>\n",
       "</div>"
      ],
      "text/plain": [
       "   roll no name fathername  class date of admission   fee course\n",
       "9      110  Ava    Ava Sr.     10        2023-10-25  4800    Art"
      ]
     },
     "metadata": {},
     "output_type": "display_data"
    },
    {
     "data": {
      "text/plain": [
       "('September', 'Geography')"
      ]
     },
     "metadata": {},
     "output_type": "display_data"
    },
    {
     "data": {
      "text/html": [
       "<div>\n",
       "<style scoped>\n",
       "    .dataframe tbody tr th:only-of-type {\n",
       "        vertical-align: middle;\n",
       "    }\n",
       "\n",
       "    .dataframe tbody tr th {\n",
       "        vertical-align: top;\n",
       "    }\n",
       "\n",
       "    .dataframe thead th {\n",
       "        text-align: right;\n",
       "    }\n",
       "</style>\n",
       "<table border=\"1\" class=\"dataframe\">\n",
       "  <thead>\n",
       "    <tr style=\"text-align: right;\">\n",
       "      <th></th>\n",
       "      <th>roll no</th>\n",
       "      <th>name</th>\n",
       "      <th>fathername</th>\n",
       "      <th>class</th>\n",
       "      <th>date of admission</th>\n",
       "      <th>fee</th>\n",
       "      <th>course</th>\n",
       "    </tr>\n",
       "  </thead>\n",
       "  <tbody>\n",
       "    <tr>\n",
       "      <th>8</th>\n",
       "      <td>109</td>\n",
       "      <td>William</td>\n",
       "      <td>William Sr.</td>\n",
       "      <td>12</td>\n",
       "      <td>2023-09-14</td>\n",
       "      <td>7300</td>\n",
       "      <td>Geography</td>\n",
       "    </tr>\n",
       "  </tbody>\n",
       "</table>\n",
       "</div>"
      ],
      "text/plain": [
       "   roll no     name   fathername  class date of admission   fee     course\n",
       "8      109  William  William Sr.     12        2023-09-14  7300  Geography"
      ]
     },
     "metadata": {},
     "output_type": "display_data"
    }
   ],
   "source": [
    "for group in list(student.groupby([student[\"date of admission\"].\n",
    "                                   dt.strftime(\"%B\"),student['course']])):\n",
    "    display(group[0])\n",
    "    display(group[1])\n",
    "    "
   ]
  },
  {
   "cell_type": "code",
   "execution_count": 86,
   "metadata": {},
   "outputs": [
    {
     "data": {
      "text/html": [
       "<div>\n",
       "<style scoped>\n",
       "    .dataframe tbody tr th:only-of-type {\n",
       "        vertical-align: middle;\n",
       "    }\n",
       "\n",
       "    .dataframe tbody tr th {\n",
       "        vertical-align: top;\n",
       "    }\n",
       "\n",
       "    .dataframe thead th {\n",
       "        text-align: right;\n",
       "    }\n",
       "</style>\n",
       "<table border=\"1\" class=\"dataframe\">\n",
       "  <thead>\n",
       "    <tr style=\"text-align: right;\">\n",
       "      <th></th>\n",
       "      <th>roll no</th>\n",
       "      <th>name</th>\n",
       "      <th>fathername</th>\n",
       "      <th>class</th>\n",
       "      <th>date of admission</th>\n",
       "      <th>fee</th>\n",
       "    </tr>\n",
       "    <tr>\n",
       "      <th>course</th>\n",
       "      <th></th>\n",
       "      <th></th>\n",
       "      <th></th>\n",
       "      <th></th>\n",
       "      <th></th>\n",
       "      <th></th>\n",
       "    </tr>\n",
       "  </thead>\n",
       "  <tbody>\n",
       "    <tr>\n",
       "      <th>Art</th>\n",
       "      <td>1</td>\n",
       "      <td>1</td>\n",
       "      <td>1</td>\n",
       "      <td>1</td>\n",
       "      <td>1</td>\n",
       "      <td>1</td>\n",
       "    </tr>\n",
       "    <tr>\n",
       "      <th>Biology</th>\n",
       "      <td>1</td>\n",
       "      <td>1</td>\n",
       "      <td>1</td>\n",
       "      <td>1</td>\n",
       "      <td>1</td>\n",
       "      <td>1</td>\n",
       "    </tr>\n",
       "    <tr>\n",
       "      <th>Chemistry</th>\n",
       "      <td>1</td>\n",
       "      <td>1</td>\n",
       "      <td>1</td>\n",
       "      <td>1</td>\n",
       "      <td>1</td>\n",
       "      <td>1</td>\n",
       "    </tr>\n",
       "    <tr>\n",
       "      <th>English</th>\n",
       "      <td>1</td>\n",
       "      <td>1</td>\n",
       "      <td>1</td>\n",
       "      <td>1</td>\n",
       "      <td>1</td>\n",
       "      <td>1</td>\n",
       "    </tr>\n",
       "    <tr>\n",
       "      <th>Geography</th>\n",
       "      <td>1</td>\n",
       "      <td>1</td>\n",
       "      <td>1</td>\n",
       "      <td>1</td>\n",
       "      <td>1</td>\n",
       "      <td>1</td>\n",
       "    </tr>\n",
       "    <tr>\n",
       "      <th>History</th>\n",
       "      <td>1</td>\n",
       "      <td>1</td>\n",
       "      <td>1</td>\n",
       "      <td>1</td>\n",
       "      <td>1</td>\n",
       "      <td>1</td>\n",
       "    </tr>\n",
       "    <tr>\n",
       "      <th>Math</th>\n",
       "      <td>2</td>\n",
       "      <td>2</td>\n",
       "      <td>2</td>\n",
       "      <td>2</td>\n",
       "      <td>2</td>\n",
       "      <td>2</td>\n",
       "    </tr>\n",
       "    <tr>\n",
       "      <th>Physics</th>\n",
       "      <td>1</td>\n",
       "      <td>1</td>\n",
       "      <td>1</td>\n",
       "      <td>1</td>\n",
       "      <td>1</td>\n",
       "      <td>1</td>\n",
       "    </tr>\n",
       "    <tr>\n",
       "      <th>Science</th>\n",
       "      <td>1</td>\n",
       "      <td>1</td>\n",
       "      <td>1</td>\n",
       "      <td>1</td>\n",
       "      <td>1</td>\n",
       "      <td>1</td>\n",
       "    </tr>\n",
       "  </tbody>\n",
       "</table>\n",
       "</div>"
      ],
      "text/plain": [
       "           roll no  name  fathername  class  date of admission  fee\n",
       "course                                                             \n",
       "Art              1     1           1      1                  1    1\n",
       "Biology          1     1           1      1                  1    1\n",
       "Chemistry        1     1           1      1                  1    1\n",
       "English          1     1           1      1                  1    1\n",
       "Geography        1     1           1      1                  1    1\n",
       "History          1     1           1      1                  1    1\n",
       "Math             2     2           2      2                  2    2\n",
       "Physics          1     1           1      1                  1    1\n",
       "Science          1     1           1      1                  1    1"
      ]
     },
     "execution_count": 86,
     "metadata": {},
     "output_type": "execute_result"
    }
   ],
   "source": [
    "#now with aggretion\n",
    "student.groupby(['course']).aggregate('count')\n"
   ]
  },
  {
   "cell_type": "code",
   "execution_count": 87,
   "metadata": {},
   "outputs": [
    {
     "data": {
      "text/html": [
       "<div>\n",
       "<style scoped>\n",
       "    .dataframe tbody tr th:only-of-type {\n",
       "        vertical-align: middle;\n",
       "    }\n",
       "\n",
       "    .dataframe tbody tr th {\n",
       "        vertical-align: top;\n",
       "    }\n",
       "\n",
       "    .dataframe thead th {\n",
       "        text-align: right;\n",
       "    }\n",
       "</style>\n",
       "<table border=\"1\" class=\"dataframe\">\n",
       "  <thead>\n",
       "    <tr style=\"text-align: right;\">\n",
       "      <th></th>\n",
       "      <th>fee</th>\n",
       "    </tr>\n",
       "    <tr>\n",
       "      <th>course</th>\n",
       "      <th></th>\n",
       "    </tr>\n",
       "  </thead>\n",
       "  <tbody>\n",
       "    <tr>\n",
       "      <th>Art</th>\n",
       "      <td>1</td>\n",
       "    </tr>\n",
       "    <tr>\n",
       "      <th>Biology</th>\n",
       "      <td>1</td>\n",
       "    </tr>\n",
       "    <tr>\n",
       "      <th>Chemistry</th>\n",
       "      <td>1</td>\n",
       "    </tr>\n",
       "    <tr>\n",
       "      <th>English</th>\n",
       "      <td>1</td>\n",
       "    </tr>\n",
       "    <tr>\n",
       "      <th>Geography</th>\n",
       "      <td>1</td>\n",
       "    </tr>\n",
       "    <tr>\n",
       "      <th>History</th>\n",
       "      <td>1</td>\n",
       "    </tr>\n",
       "    <tr>\n",
       "      <th>Math</th>\n",
       "      <td>2</td>\n",
       "    </tr>\n",
       "    <tr>\n",
       "      <th>Physics</th>\n",
       "      <td>1</td>\n",
       "    </tr>\n",
       "    <tr>\n",
       "      <th>Science</th>\n",
       "      <td>1</td>\n",
       "    </tr>\n",
       "  </tbody>\n",
       "</table>\n",
       "</div>"
      ],
      "text/plain": [
       "           fee\n",
       "course        \n",
       "Art          1\n",
       "Biology      1\n",
       "Chemistry    1\n",
       "English      1\n",
       "Geography    1\n",
       "History      1\n",
       "Math         2\n",
       "Physics      1\n",
       "Science      1"
      ]
     },
     "execution_count": 87,
     "metadata": {},
     "output_type": "execute_result"
    }
   ],
   "source": [
    "student.groupby(['course'])[['fee']].aggregate(\"count\")"
   ]
  },
  {
   "cell_type": "code",
   "execution_count": 88,
   "metadata": {},
   "outputs": [
    {
     "name": "stderr",
     "output_type": "stream",
     "text": [
      "C:\\Users\\Muazam Mughal\\AppData\\Local\\Temp\\ipykernel_2212\\603008466.py:1: FutureWarning: The provided callable <built-in function min> is currently using SeriesGroupBy.min. In a future version of pandas, the provided callable will be used directly. To keep current behavior pass the string \"min\" instead.\n",
      "  student.groupby(['course'])[['fee']].aggregate([min,max,len])\n",
      "C:\\Users\\Muazam Mughal\\AppData\\Local\\Temp\\ipykernel_2212\\603008466.py:1: FutureWarning: The provided callable <built-in function max> is currently using SeriesGroupBy.max. In a future version of pandas, the provided callable will be used directly. To keep current behavior pass the string \"max\" instead.\n",
      "  student.groupby(['course'])[['fee']].aggregate([min,max,len])\n"
     ]
    },
    {
     "data": {
      "text/html": [
       "<div>\n",
       "<style scoped>\n",
       "    .dataframe tbody tr th:only-of-type {\n",
       "        vertical-align: middle;\n",
       "    }\n",
       "\n",
       "    .dataframe tbody tr th {\n",
       "        vertical-align: top;\n",
       "    }\n",
       "\n",
       "    .dataframe thead tr th {\n",
       "        text-align: left;\n",
       "    }\n",
       "\n",
       "    .dataframe thead tr:last-of-type th {\n",
       "        text-align: right;\n",
       "    }\n",
       "</style>\n",
       "<table border=\"1\" class=\"dataframe\">\n",
       "  <thead>\n",
       "    <tr>\n",
       "      <th></th>\n",
       "      <th colspan=\"3\" halign=\"left\">fee</th>\n",
       "    </tr>\n",
       "    <tr>\n",
       "      <th></th>\n",
       "      <th>min</th>\n",
       "      <th>max</th>\n",
       "      <th>len</th>\n",
       "    </tr>\n",
       "    <tr>\n",
       "      <th>course</th>\n",
       "      <th></th>\n",
       "      <th></th>\n",
       "      <th></th>\n",
       "    </tr>\n",
       "  </thead>\n",
       "  <tbody>\n",
       "    <tr>\n",
       "      <th>Art</th>\n",
       "      <td>4800</td>\n",
       "      <td>4800</td>\n",
       "      <td>1</td>\n",
       "    </tr>\n",
       "    <tr>\n",
       "      <th>Biology</th>\n",
       "      <td>7200</td>\n",
       "      <td>7200</td>\n",
       "      <td>1</td>\n",
       "    </tr>\n",
       "    <tr>\n",
       "      <th>Chemistry</th>\n",
       "      <td>6100</td>\n",
       "      <td>6100</td>\n",
       "      <td>1</td>\n",
       "    </tr>\n",
       "    <tr>\n",
       "      <th>English</th>\n",
       "      <td>5500</td>\n",
       "      <td>5500</td>\n",
       "      <td>1</td>\n",
       "    </tr>\n",
       "    <tr>\n",
       "      <th>Geography</th>\n",
       "      <td>7300</td>\n",
       "      <td>7300</td>\n",
       "      <td>1</td>\n",
       "    </tr>\n",
       "    <tr>\n",
       "      <th>History</th>\n",
       "      <td>6500</td>\n",
       "      <td>6500</td>\n",
       "      <td>1</td>\n",
       "    </tr>\n",
       "    <tr>\n",
       "      <th>Math</th>\n",
       "      <td>5000</td>\n",
       "      <td>5000</td>\n",
       "      <td>2</td>\n",
       "    </tr>\n",
       "    <tr>\n",
       "      <th>Physics</th>\n",
       "      <td>7000</td>\n",
       "      <td>7000</td>\n",
       "      <td>1</td>\n",
       "    </tr>\n",
       "    <tr>\n",
       "      <th>Science</th>\n",
       "      <td>6000</td>\n",
       "      <td>6000</td>\n",
       "      <td>1</td>\n",
       "    </tr>\n",
       "  </tbody>\n",
       "</table>\n",
       "</div>"
      ],
      "text/plain": [
       "            fee          \n",
       "            min   max len\n",
       "course                   \n",
       "Art        4800  4800   1\n",
       "Biology    7200  7200   1\n",
       "Chemistry  6100  6100   1\n",
       "English    5500  5500   1\n",
       "Geography  7300  7300   1\n",
       "History    6500  6500   1\n",
       "Math       5000  5000   2\n",
       "Physics    7000  7000   1\n",
       "Science    6000  6000   1"
      ]
     },
     "execution_count": 88,
     "metadata": {},
     "output_type": "execute_result"
    }
   ],
   "source": [
    "student.groupby(['course'])[['fee']].aggregate([min,max,len])"
   ]
  },
  {
   "cell_type": "code",
   "execution_count": 89,
   "metadata": {},
   "outputs": [
    {
     "data": {
      "text/html": [
       "<div>\n",
       "<style scoped>\n",
       "    .dataframe tbody tr th:only-of-type {\n",
       "        vertical-align: middle;\n",
       "    }\n",
       "\n",
       "    .dataframe tbody tr th {\n",
       "        vertical-align: top;\n",
       "    }\n",
       "\n",
       "    .dataframe thead th {\n",
       "        text-align: right;\n",
       "    }\n",
       "</style>\n",
       "<table border=\"1\" class=\"dataframe\">\n",
       "  <thead>\n",
       "    <tr style=\"text-align: right;\">\n",
       "      <th></th>\n",
       "      <th></th>\n",
       "      <th>fee</th>\n",
       "    </tr>\n",
       "    <tr>\n",
       "      <th>course</th>\n",
       "      <th>date of admission</th>\n",
       "      <th></th>\n",
       "    </tr>\n",
       "  </thead>\n",
       "  <tbody>\n",
       "    <tr>\n",
       "      <th>Art</th>\n",
       "      <th>October</th>\n",
       "      <td>1</td>\n",
       "    </tr>\n",
       "    <tr>\n",
       "      <th>Biology</th>\n",
       "      <th>July</th>\n",
       "      <td>1</td>\n",
       "    </tr>\n",
       "    <tr>\n",
       "      <th>Chemistry</th>\n",
       "      <th>August</th>\n",
       "      <td>1</td>\n",
       "    </tr>\n",
       "    <tr>\n",
       "      <th>English</th>\n",
       "      <th>March</th>\n",
       "      <td>1</td>\n",
       "    </tr>\n",
       "    <tr>\n",
       "      <th>Geography</th>\n",
       "      <th>September</th>\n",
       "      <td>1</td>\n",
       "    </tr>\n",
       "    <tr>\n",
       "      <th>History</th>\n",
       "      <th>May</th>\n",
       "      <td>1</td>\n",
       "    </tr>\n",
       "    <tr>\n",
       "      <th rowspan=\"2\" valign=\"top\">Math</th>\n",
       "      <th>January</th>\n",
       "      <td>1</td>\n",
       "    </tr>\n",
       "    <tr>\n",
       "      <th>June</th>\n",
       "      <td>1</td>\n",
       "    </tr>\n",
       "    <tr>\n",
       "      <th>Physics</th>\n",
       "      <th>April</th>\n",
       "      <td>1</td>\n",
       "    </tr>\n",
       "    <tr>\n",
       "      <th>Science</th>\n",
       "      <th>February</th>\n",
       "      <td>1</td>\n",
       "    </tr>\n",
       "  </tbody>\n",
       "</table>\n",
       "</div>"
      ],
      "text/plain": [
       "                             fee\n",
       "course    date of admission     \n",
       "Art       October              1\n",
       "Biology   July                 1\n",
       "Chemistry August               1\n",
       "English   March                1\n",
       "Geography September            1\n",
       "History   May                  1\n",
       "Math      January              1\n",
       "          June                 1\n",
       "Physics   April                1\n",
       "Science   February             1"
      ]
     },
     "execution_count": 89,
     "metadata": {},
     "output_type": "execute_result"
    }
   ],
   "source": [
    "student.groupby(['course',student['date of admission']\n",
    "                 .dt.strftime(\"%B\")])[['fee']].aggregate(\"count\")"
   ]
  },
  {
   "cell_type": "code",
   "execution_count": 90,
   "metadata": {},
   "outputs": [
    {
     "data": {
      "text/html": [
       "<div>\n",
       "<style scoped>\n",
       "    .dataframe tbody tr th:only-of-type {\n",
       "        vertical-align: middle;\n",
       "    }\n",
       "\n",
       "    .dataframe tbody tr th {\n",
       "        vertical-align: top;\n",
       "    }\n",
       "\n",
       "    .dataframe thead th {\n",
       "        text-align: right;\n",
       "    }\n",
       "</style>\n",
       "<table border=\"1\" class=\"dataframe\">\n",
       "  <thead>\n",
       "    <tr style=\"text-align: right;\">\n",
       "      <th></th>\n",
       "      <th></th>\n",
       "      <th>roll no</th>\n",
       "      <th>name</th>\n",
       "      <th>fathername</th>\n",
       "      <th>class</th>\n",
       "      <th>date of admission</th>\n",
       "      <th>fee</th>\n",
       "      <th>course</th>\n",
       "    </tr>\n",
       "    <tr>\n",
       "      <th>course</th>\n",
       "      <th></th>\n",
       "      <th></th>\n",
       "      <th></th>\n",
       "      <th></th>\n",
       "      <th></th>\n",
       "      <th></th>\n",
       "      <th></th>\n",
       "      <th></th>\n",
       "    </tr>\n",
       "  </thead>\n",
       "  <tbody>\n",
       "    <tr>\n",
       "      <th>Art</th>\n",
       "      <th>9</th>\n",
       "      <td>110</td>\n",
       "      <td>Ava</td>\n",
       "      <td>Ava Sr.</td>\n",
       "      <td>10</td>\n",
       "      <td>2023-10-25</td>\n",
       "      <td>4800</td>\n",
       "      <td>Art</td>\n",
       "    </tr>\n",
       "    <tr>\n",
       "      <th>Biology</th>\n",
       "      <th>6</th>\n",
       "      <td>107</td>\n",
       "      <td>Liam</td>\n",
       "      <td>Liam Sr.</td>\n",
       "      <td>12</td>\n",
       "      <td>2023-07-22</td>\n",
       "      <td>7200</td>\n",
       "      <td>Biology</td>\n",
       "    </tr>\n",
       "    <tr>\n",
       "      <th>Chemistry</th>\n",
       "      <th>7</th>\n",
       "      <td>108</td>\n",
       "      <td>Olivia</td>\n",
       "      <td>Olivia Sr.</td>\n",
       "      <td>11</td>\n",
       "      <td>2023-08-30</td>\n",
       "      <td>6100</td>\n",
       "      <td>Chemistry</td>\n",
       "    </tr>\n",
       "    <tr>\n",
       "      <th>English</th>\n",
       "      <th>2</th>\n",
       "      <td>103</td>\n",
       "      <td>Bob</td>\n",
       "      <td>Bob Sr.</td>\n",
       "      <td>10</td>\n",
       "      <td>2023-03-10</td>\n",
       "      <td>5500</td>\n",
       "      <td>English</td>\n",
       "    </tr>\n",
       "    <tr>\n",
       "      <th>Geography</th>\n",
       "      <th>8</th>\n",
       "      <td>109</td>\n",
       "      <td>William</td>\n",
       "      <td>William Sr.</td>\n",
       "      <td>12</td>\n",
       "      <td>2023-09-14</td>\n",
       "      <td>7300</td>\n",
       "      <td>Geography</td>\n",
       "    </tr>\n",
       "    <tr>\n",
       "      <th>History</th>\n",
       "      <th>4</th>\n",
       "      <td>105</td>\n",
       "      <td>Michael</td>\n",
       "      <td>Michael Sr.</td>\n",
       "      <td>11</td>\n",
       "      <td>2023-05-12</td>\n",
       "      <td>6500</td>\n",
       "      <td>History</td>\n",
       "    </tr>\n",
       "    <tr>\n",
       "      <th rowspan=\"2\" valign=\"top\">Math</th>\n",
       "      <th>0</th>\n",
       "      <td>101</td>\n",
       "      <td>John</td>\n",
       "      <td>John Sr.</td>\n",
       "      <td>10</td>\n",
       "      <td>2023-01-15</td>\n",
       "      <td>5000</td>\n",
       "      <td>Math</td>\n",
       "    </tr>\n",
       "    <tr>\n",
       "      <th>5</th>\n",
       "      <td>106</td>\n",
       "      <td>Sophia</td>\n",
       "      <td>Sophia Sr.</td>\n",
       "      <td>10</td>\n",
       "      <td>2023-06-18</td>\n",
       "      <td>5000</td>\n",
       "      <td>Math</td>\n",
       "    </tr>\n",
       "    <tr>\n",
       "      <th>Physics</th>\n",
       "      <th>3</th>\n",
       "      <td>104</td>\n",
       "      <td>Emma</td>\n",
       "      <td>Emma Sr.</td>\n",
       "      <td>12</td>\n",
       "      <td>2023-04-05</td>\n",
       "      <td>7000</td>\n",
       "      <td>Physics</td>\n",
       "    </tr>\n",
       "    <tr>\n",
       "      <th>Science</th>\n",
       "      <th>1</th>\n",
       "      <td>102</td>\n",
       "      <td>Alice</td>\n",
       "      <td>Alice Sr.</td>\n",
       "      <td>11</td>\n",
       "      <td>2023-02-20</td>\n",
       "      <td>6000</td>\n",
       "      <td>Science</td>\n",
       "    </tr>\n",
       "  </tbody>\n",
       "</table>\n",
       "</div>"
      ],
      "text/plain": [
       "             roll no     name   fathername  class date of admission   fee  \\\n",
       "course                                                                      \n",
       "Art       9      110      Ava      Ava Sr.     10        2023-10-25  4800   \n",
       "Biology   6      107     Liam     Liam Sr.     12        2023-07-22  7200   \n",
       "Chemistry 7      108   Olivia   Olivia Sr.     11        2023-08-30  6100   \n",
       "English   2      103      Bob      Bob Sr.     10        2023-03-10  5500   \n",
       "Geography 8      109  William  William Sr.     12        2023-09-14  7300   \n",
       "History   4      105  Michael  Michael Sr.     11        2023-05-12  6500   \n",
       "Math      0      101     John     John Sr.     10        2023-01-15  5000   \n",
       "          5      106   Sophia   Sophia Sr.     10        2023-06-18  5000   \n",
       "Physics   3      104     Emma     Emma Sr.     12        2023-04-05  7000   \n",
       "Science   1      102    Alice    Alice Sr.     11        2023-02-20  6000   \n",
       "\n",
       "                course  \n",
       "course                  \n",
       "Art       9        Art  \n",
       "Biology   6    Biology  \n",
       "Chemistry 7  Chemistry  \n",
       "English   2    English  \n",
       "Geography 8  Geography  \n",
       "History   4    History  \n",
       "Math      0       Math  \n",
       "          5       Math  \n",
       "Physics   3    Physics  \n",
       "Science   1    Science  "
      ]
     },
     "execution_count": 90,
     "metadata": {},
     "output_type": "execute_result"
    }
   ],
   "source": [
    "#now aplay the coustoom function\n",
    "#without any ristriction they pick all entities accordint to course\n",
    "student.groupby(['course']).apply(lambda x :x.head())"
   ]
  },
  {
   "cell_type": "code",
   "execution_count": 91,
   "metadata": {},
   "outputs": [
    {
     "data": {
      "text/html": [
       "<div>\n",
       "<style scoped>\n",
       "    .dataframe tbody tr th:only-of-type {\n",
       "        vertical-align: middle;\n",
       "    }\n",
       "\n",
       "    .dataframe tbody tr th {\n",
       "        vertical-align: top;\n",
       "    }\n",
       "\n",
       "    .dataframe thead th {\n",
       "        text-align: right;\n",
       "    }\n",
       "</style>\n",
       "<table border=\"1\" class=\"dataframe\">\n",
       "  <thead>\n",
       "    <tr style=\"text-align: right;\">\n",
       "      <th></th>\n",
       "      <th></th>\n",
       "      <th>roll no</th>\n",
       "      <th>name</th>\n",
       "      <th>fathername</th>\n",
       "      <th>class</th>\n",
       "      <th>date of admission</th>\n",
       "      <th>fee</th>\n",
       "      <th>course</th>\n",
       "    </tr>\n",
       "    <tr>\n",
       "      <th>course</th>\n",
       "      <th></th>\n",
       "      <th></th>\n",
       "      <th></th>\n",
       "      <th></th>\n",
       "      <th></th>\n",
       "      <th></th>\n",
       "      <th></th>\n",
       "      <th></th>\n",
       "    </tr>\n",
       "  </thead>\n",
       "  <tbody>\n",
       "    <tr>\n",
       "      <th>Art</th>\n",
       "      <th>9</th>\n",
       "      <td>110</td>\n",
       "      <td>Ava</td>\n",
       "      <td>Ava Sr.</td>\n",
       "      <td>10</td>\n",
       "      <td>2023-10-25</td>\n",
       "      <td>4800</td>\n",
       "      <td>Art</td>\n",
       "    </tr>\n",
       "    <tr>\n",
       "      <th>Biology</th>\n",
       "      <th>6</th>\n",
       "      <td>107</td>\n",
       "      <td>Liam</td>\n",
       "      <td>Liam Sr.</td>\n",
       "      <td>12</td>\n",
       "      <td>2023-07-22</td>\n",
       "      <td>7200</td>\n",
       "      <td>Biology</td>\n",
       "    </tr>\n",
       "    <tr>\n",
       "      <th>Chemistry</th>\n",
       "      <th>7</th>\n",
       "      <td>108</td>\n",
       "      <td>Olivia</td>\n",
       "      <td>Olivia Sr.</td>\n",
       "      <td>11</td>\n",
       "      <td>2023-08-30</td>\n",
       "      <td>6100</td>\n",
       "      <td>Chemistry</td>\n",
       "    </tr>\n",
       "    <tr>\n",
       "      <th>English</th>\n",
       "      <th>2</th>\n",
       "      <td>103</td>\n",
       "      <td>Bob</td>\n",
       "      <td>Bob Sr.</td>\n",
       "      <td>10</td>\n",
       "      <td>2023-03-10</td>\n",
       "      <td>5500</td>\n",
       "      <td>English</td>\n",
       "    </tr>\n",
       "    <tr>\n",
       "      <th>Geography</th>\n",
       "      <th>8</th>\n",
       "      <td>109</td>\n",
       "      <td>William</td>\n",
       "      <td>William Sr.</td>\n",
       "      <td>12</td>\n",
       "      <td>2023-09-14</td>\n",
       "      <td>7300</td>\n",
       "      <td>Geography</td>\n",
       "    </tr>\n",
       "    <tr>\n",
       "      <th>History</th>\n",
       "      <th>4</th>\n",
       "      <td>105</td>\n",
       "      <td>Michael</td>\n",
       "      <td>Michael Sr.</td>\n",
       "      <td>11</td>\n",
       "      <td>2023-05-12</td>\n",
       "      <td>6500</td>\n",
       "      <td>History</td>\n",
       "    </tr>\n",
       "    <tr>\n",
       "      <th>Math</th>\n",
       "      <th>0</th>\n",
       "      <td>101</td>\n",
       "      <td>John</td>\n",
       "      <td>John Sr.</td>\n",
       "      <td>10</td>\n",
       "      <td>2023-01-15</td>\n",
       "      <td>5000</td>\n",
       "      <td>Math</td>\n",
       "    </tr>\n",
       "    <tr>\n",
       "      <th>Physics</th>\n",
       "      <th>3</th>\n",
       "      <td>104</td>\n",
       "      <td>Emma</td>\n",
       "      <td>Emma Sr.</td>\n",
       "      <td>12</td>\n",
       "      <td>2023-04-05</td>\n",
       "      <td>7000</td>\n",
       "      <td>Physics</td>\n",
       "    </tr>\n",
       "    <tr>\n",
       "      <th>Science</th>\n",
       "      <th>1</th>\n",
       "      <td>102</td>\n",
       "      <td>Alice</td>\n",
       "      <td>Alice Sr.</td>\n",
       "      <td>11</td>\n",
       "      <td>2023-02-20</td>\n",
       "      <td>6000</td>\n",
       "      <td>Science</td>\n",
       "    </tr>\n",
       "  </tbody>\n",
       "</table>\n",
       "</div>"
      ],
      "text/plain": [
       "             roll no     name   fathername  class date of admission   fee  \\\n",
       "course                                                                      \n",
       "Art       9      110      Ava      Ava Sr.     10        2023-10-25  4800   \n",
       "Biology   6      107     Liam     Liam Sr.     12        2023-07-22  7200   \n",
       "Chemistry 7      108   Olivia   Olivia Sr.     11        2023-08-30  6100   \n",
       "English   2      103      Bob      Bob Sr.     10        2023-03-10  5500   \n",
       "Geography 8      109  William  William Sr.     12        2023-09-14  7300   \n",
       "History   4      105  Michael  Michael Sr.     11        2023-05-12  6500   \n",
       "Math      0      101     John     John Sr.     10        2023-01-15  5000   \n",
       "Physics   3      104     Emma     Emma Sr.     12        2023-04-05  7000   \n",
       "Science   1      102    Alice    Alice Sr.     11        2023-02-20  6000   \n",
       "\n",
       "                course  \n",
       "course                  \n",
       "Art       9        Art  \n",
       "Biology   6    Biology  \n",
       "Chemistry 7  Chemistry  \n",
       "English   2    English  \n",
       "Geography 8  Geography  \n",
       "History   4    History  \n",
       "Math      0       Math  \n",
       "Physics   3    Physics  \n",
       "Science   1    Science  "
      ]
     },
     "execution_count": 91,
     "metadata": {},
     "output_type": "execute_result"
    }
   ],
   "source": [
    "student.groupby(['course']).apply(lambda x: x.head(1))\n",
    "#now they pick only one of the all entityes of the course\n"
   ]
  },
  {
   "cell_type": "markdown",
   "metadata": {},
   "source": [
    "## visulization"
   ]
  },
  {
   "cell_type": "code",
   "execution_count": 93,
   "metadata": {},
   "outputs": [
    {
     "name": "stdout",
     "output_type": "stream",
     "text": [
      "Collecting matplotlib\n",
      "  Downloading matplotlib-3.8.2-cp312-cp312-win_amd64.whl.metadata (5.9 kB)\n",
      "Collecting contourpy>=1.0.1 (from matplotlib)\n",
      "  Downloading contourpy-1.2.0-cp312-cp312-win_amd64.whl.metadata (5.8 kB)\n",
      "Collecting cycler>=0.10 (from matplotlib)\n",
      "  Downloading cycler-0.12.1-py3-none-any.whl.metadata (3.8 kB)\n",
      "Collecting fonttools>=4.22.0 (from matplotlib)\n",
      "  Downloading fonttools-4.45.1-cp312-cp312-win_amd64.whl.metadata (158 kB)\n",
      "     ---------------------------------------- 0.0/158.4 kB ? eta -:--:--\n",
      "     -- ------------------------------------- 10.2/158.4 kB ? eta -:--:--\n",
      "     --------- --------------------------- 41.0/158.4 kB 653.6 kB/s eta 0:00:01\n",
      "     --------- --------------------------- 41.0/158.4 kB 653.6 kB/s eta 0:00:01\n",
      "     --------- --------------------------- 41.0/158.4 kB 653.6 kB/s eta 0:00:01\n",
      "     --------- --------------------------- 41.0/158.4 kB 653.6 kB/s eta 0:00:01\n",
      "     ------------------------------------ 158.4/158.4 kB 633.0 kB/s eta 0:00:00\n",
      "Collecting kiwisolver>=1.3.1 (from matplotlib)\n",
      "  Downloading kiwisolver-1.4.5-cp312-cp312-win_amd64.whl.metadata (6.5 kB)\n",
      "Requirement already satisfied: numpy<2,>=1.21 in c:\\users\\muazam mughal\\anaconda3\\envs\\python12\\lib\\site-packages (from matplotlib) (1.26.1)\n",
      "Requirement already satisfied: packaging>=20.0 in c:\\users\\muazam mughal\\anaconda3\\envs\\python12\\lib\\site-packages (from matplotlib) (23.2)\n",
      "Collecting pillow>=8 (from matplotlib)\n",
      "  Downloading Pillow-10.1.0-cp312-cp312-win_amd64.whl.metadata (9.6 kB)\n",
      "Collecting pyparsing>=2.3.1 (from matplotlib)\n",
      "  Downloading pyparsing-3.1.1-py3-none-any.whl.metadata (5.1 kB)\n",
      "Requirement already satisfied: python-dateutil>=2.7 in c:\\users\\muazam mughal\\anaconda3\\envs\\python12\\lib\\site-packages (from matplotlib) (2.8.2)\n",
      "Requirement already satisfied: six>=1.5 in c:\\users\\muazam mughal\\anaconda3\\envs\\python12\\lib\\site-packages (from python-dateutil>=2.7->matplotlib) (1.16.0)\n",
      "Downloading matplotlib-3.8.2-cp312-cp312-win_amd64.whl (7.6 MB)\n",
      "   ---------------------------------------- 0.0/7.6 MB ? eta -:--:--\n",
      "   ---------------------------------------- 0.0/7.6 MB 991.0 kB/s eta 0:00:08\n",
      "    --------------------------------------- 0.1/7.6 MB 1.3 MB/s eta 0:00:06\n",
      "    --------------------------------------- 0.2/7.6 MB 1.3 MB/s eta 0:00:06\n",
      "   - -------------------------------------- 0.2/7.6 MB 985.7 kB/s eta 0:00:08\n",
      "   - -------------------------------------- 0.2/7.6 MB 1.0 MB/s eta 0:00:08\n",
      "   - -------------------------------------- 0.3/7.6 MB 1.1 MB/s eta 0:00:07\n",
      "   - -------------------------------------- 0.3/7.6 MB 955.3 kB/s eta 0:00:08\n",
      "   -- ------------------------------------- 0.4/7.6 MB 1.0 MB/s eta 0:00:07\n",
      "   -- ------------------------------------- 0.5/7.6 MB 1.1 MB/s eta 0:00:07\n",
      "   -- ------------------------------------- 0.5/7.6 MB 1.1 MB/s eta 0:00:07\n",
      "   --- ------------------------------------ 0.6/7.6 MB 1.1 MB/s eta 0:00:07\n",
      "   --- ------------------------------------ 0.7/7.6 MB 1.2 MB/s eta 0:00:06\n",
      "   --- ------------------------------------ 0.8/7.6 MB 1.2 MB/s eta 0:00:06\n",
      "   ---- ----------------------------------- 0.8/7.6 MB 1.2 MB/s eta 0:00:06\n",
      "   ---- ----------------------------------- 0.8/7.6 MB 1.2 MB/s eta 0:00:06\n",
      "   ---- ----------------------------------- 0.8/7.6 MB 1.0 MB/s eta 0:00:07\n",
      "   ---- ----------------------------------- 0.8/7.6 MB 1.0 MB/s eta 0:00:07\n",
      "   ---- ----------------------------------- 0.8/7.6 MB 1.0 MB/s eta 0:00:07\n",
      "   ---- ----------------------------------- 0.8/7.6 MB 1.0 MB/s eta 0:00:07\n",
      "   ---- ----------------------------------- 0.8/7.6 MB 881.1 kB/s eta 0:00:08\n",
      "   ---- ----------------------------------- 0.9/7.6 MB 851.7 kB/s eta 0:00:08\n",
      "   ----- ---------------------------------- 1.0/7.6 MB 883.4 kB/s eta 0:00:08\n",
      "   ----- ---------------------------------- 1.0/7.6 MB 919.3 kB/s eta 0:00:08\n",
      "   ----- ---------------------------------- 1.1/7.6 MB 940.3 kB/s eta 0:00:07\n",
      "   ------ --------------------------------- 1.2/7.6 MB 954.3 kB/s eta 0:00:07\n",
      "   ------ --------------------------------- 1.3/7.6 MB 983.2 kB/s eta 0:00:07\n",
      "   ------- -------------------------------- 1.4/7.6 MB 1.0 MB/s eta 0:00:07\n",
      "   ------- -------------------------------- 1.4/7.6 MB 1.0 MB/s eta 0:00:07\n",
      "   ------- -------------------------------- 1.5/7.6 MB 1.0 MB/s eta 0:00:06\n",
      "   -------- ------------------------------- 1.6/7.6 MB 1.1 MB/s eta 0:00:06\n",
      "   -------- ------------------------------- 1.7/7.6 MB 1.1 MB/s eta 0:00:06\n",
      "   --------- ------------------------------ 1.8/7.6 MB 1.1 MB/s eta 0:00:06\n",
      "   --------- ------------------------------ 1.8/7.6 MB 1.1 MB/s eta 0:00:06\n",
      "   ---------- ----------------------------- 1.9/7.6 MB 1.1 MB/s eta 0:00:06\n",
      "   ---------- ----------------------------- 2.0/7.6 MB 1.2 MB/s eta 0:00:05\n",
      "   ---------- ----------------------------- 2.1/7.6 MB 1.2 MB/s eta 0:00:05\n",
      "   ----------- ---------------------------- 2.1/7.6 MB 1.2 MB/s eta 0:00:05\n",
      "   ----------- ---------------------------- 2.2/7.6 MB 1.2 MB/s eta 0:00:05\n",
      "   ----------- ---------------------------- 2.2/7.6 MB 1.2 MB/s eta 0:00:05\n",
      "   ----------- ---------------------------- 2.3/7.6 MB 1.1 MB/s eta 0:00:05\n",
      "   ------------ --------------------------- 2.3/7.6 MB 1.2 MB/s eta 0:00:05\n",
      "   ------------ --------------------------- 2.4/7.6 MB 1.1 MB/s eta 0:00:05\n",
      "   ------------ --------------------------- 2.4/7.6 MB 1.2 MB/s eta 0:00:05\n",
      "   ------------- -------------------------- 2.5/7.6 MB 1.2 MB/s eta 0:00:05\n",
      "   ------------- -------------------------- 2.6/7.6 MB 1.2 MB/s eta 0:00:05\n",
      "   ------------- -------------------------- 2.7/7.6 MB 1.2 MB/s eta 0:00:05\n",
      "   -------------- ------------------------- 2.7/7.6 MB 1.2 MB/s eta 0:00:05\n",
      "   -------------- ------------------------- 2.8/7.6 MB 1.2 MB/s eta 0:00:05\n",
      "   --------------- ------------------------ 2.9/7.6 MB 1.2 MB/s eta 0:00:05\n",
      "   --------------- ------------------------ 2.9/7.6 MB 1.2 MB/s eta 0:00:04\n",
      "   --------------- ------------------------ 3.0/7.6 MB 1.2 MB/s eta 0:00:04\n",
      "   ---------------- ----------------------- 3.1/7.6 MB 1.2 MB/s eta 0:00:04\n",
      "   ---------------- ----------------------- 3.1/7.6 MB 1.2 MB/s eta 0:00:04\n",
      "   ---------------- ----------------------- 3.2/7.6 MB 1.2 MB/s eta 0:00:04\n",
      "   ----------------- ---------------------- 3.3/7.6 MB 1.2 MB/s eta 0:00:04\n",
      "   ----------------- ---------------------- 3.4/7.6 MB 1.2 MB/s eta 0:00:04\n",
      "   ------------------ --------------------- 3.5/7.6 MB 1.2 MB/s eta 0:00:04\n",
      "   ------------------ --------------------- 3.6/7.6 MB 1.2 MB/s eta 0:00:04\n",
      "   ------------------- -------------------- 3.7/7.6 MB 1.2 MB/s eta 0:00:04\n",
      "   ------------------- -------------------- 3.8/7.6 MB 1.3 MB/s eta 0:00:04\n",
      "   -------------------- ------------------- 3.8/7.6 MB 1.3 MB/s eta 0:00:04\n",
      "   -------------------- ------------------- 3.9/7.6 MB 1.3 MB/s eta 0:00:03\n",
      "   --------------------- ------------------ 4.0/7.6 MB 1.3 MB/s eta 0:00:03\n",
      "   --------------------- ------------------ 4.1/7.6 MB 1.3 MB/s eta 0:00:03\n",
      "   --------------------- ------------------ 4.2/7.6 MB 1.3 MB/s eta 0:00:03\n",
      "   ---------------------- ----------------- 4.3/7.6 MB 1.3 MB/s eta 0:00:03\n",
      "   ---------------------- ----------------- 4.4/7.6 MB 1.3 MB/s eta 0:00:03\n",
      "   ----------------------- ---------------- 4.4/7.6 MB 1.3 MB/s eta 0:00:03\n",
      "   ----------------------- ---------------- 4.5/7.6 MB 1.3 MB/s eta 0:00:03\n",
      "   ------------------------ --------------- 4.6/7.6 MB 1.3 MB/s eta 0:00:03\n",
      "   ------------------------ --------------- 4.7/7.6 MB 1.3 MB/s eta 0:00:03\n",
      "   ------------------------ --------------- 4.8/7.6 MB 1.3 MB/s eta 0:00:03\n",
      "   ------------------------- -------------- 4.9/7.6 MB 1.3 MB/s eta 0:00:03\n",
      "   ------------------------- -------------- 4.9/7.6 MB 1.3 MB/s eta 0:00:03\n",
      "   -------------------------- ------------- 5.0/7.6 MB 1.3 MB/s eta 0:00:02\n",
      "   -------------------------- ------------- 5.1/7.6 MB 1.3 MB/s eta 0:00:02\n",
      "   --------------------------- ------------ 5.2/7.6 MB 1.4 MB/s eta 0:00:02\n",
      "   --------------------------- ------------ 5.3/7.6 MB 1.4 MB/s eta 0:00:02\n",
      "   ---------------------------- ----------- 5.4/7.6 MB 1.4 MB/s eta 0:00:02\n",
      "   ---------------------------- ----------- 5.5/7.6 MB 1.4 MB/s eta 0:00:02\n",
      "   ---------------------------- ----------- 5.5/7.6 MB 1.4 MB/s eta 0:00:02\n",
      "   ----------------------------- ---------- 5.6/7.6 MB 1.4 MB/s eta 0:00:02\n",
      "   ----------------------------- ---------- 5.7/7.6 MB 1.4 MB/s eta 0:00:02\n",
      "   ------------------------------ --------- 5.7/7.6 MB 1.4 MB/s eta 0:00:02\n",
      "   ------------------------------ --------- 5.8/7.6 MB 1.4 MB/s eta 0:00:02\n",
      "   ------------------------------ --------- 5.9/7.6 MB 1.4 MB/s eta 0:00:02\n",
      "   ------------------------------- -------- 6.0/7.6 MB 1.4 MB/s eta 0:00:02\n",
      "   ------------------------------- -------- 6.1/7.6 MB 1.4 MB/s eta 0:00:02\n",
      "   ------------------------------- -------- 6.1/7.6 MB 1.4 MB/s eta 0:00:02\n",
      "   -------------------------------- ------- 6.2/7.6 MB 1.4 MB/s eta 0:00:02\n",
      "   -------------------------------- ------- 6.3/7.6 MB 1.4 MB/s eta 0:00:01\n",
      "   --------------------------------- ------ 6.3/7.6 MB 1.4 MB/s eta 0:00:01\n",
      "   --------------------------------- ------ 6.4/7.6 MB 1.4 MB/s eta 0:00:01\n",
      "   --------------------------------- ------ 6.5/7.6 MB 1.4 MB/s eta 0:00:01\n",
      "   ---------------------------------- ----- 6.6/7.6 MB 1.4 MB/s eta 0:00:01\n",
      "   ---------------------------------- ----- 6.7/7.6 MB 1.4 MB/s eta 0:00:01\n",
      "   ----------------------------------- ---- 6.7/7.6 MB 1.4 MB/s eta 0:00:01\n",
      "   ----------------------------------- ---- 6.8/7.6 MB 1.4 MB/s eta 0:00:01\n",
      "   ----------------------------------- ---- 6.8/7.6 MB 1.4 MB/s eta 0:00:01\n",
      "   ------------------------------------ --- 6.9/7.6 MB 1.4 MB/s eta 0:00:01\n",
      "   ------------------------------------ --- 7.0/7.6 MB 1.4 MB/s eta 0:00:01\n",
      "   ------------------------------------ --- 7.0/7.6 MB 1.4 MB/s eta 0:00:01\n",
      "   ------------------------------------- -- 7.2/7.6 MB 1.4 MB/s eta 0:00:01\n",
      "   ------------------------------------- -- 7.2/7.6 MB 1.4 MB/s eta 0:00:01\n",
      "   -------------------------------------- - 7.3/7.6 MB 1.4 MB/s eta 0:00:01\n",
      "   -------------------------------------- - 7.3/7.6 MB 1.4 MB/s eta 0:00:01\n",
      "   -------------------------------------- - 7.4/7.6 MB 1.4 MB/s eta 0:00:01\n",
      "   ---------------------------------------  7.5/7.6 MB 1.4 MB/s eta 0:00:01\n",
      "   ---------------------------------------  7.5/7.6 MB 1.4 MB/s eta 0:00:01\n",
      "   ---------------------------------------  7.6/7.6 MB 1.4 MB/s eta 0:00:01\n",
      "   ---------------------------------------  7.6/7.6 MB 1.4 MB/s eta 0:00:01\n",
      "   ---------------------------------------- 7.6/7.6 MB 1.4 MB/s eta 0:00:00\n",
      "Downloading contourpy-1.2.0-cp312-cp312-win_amd64.whl (187 kB)\n",
      "   ---------------------------------------- 0.0/187.7 kB ? eta -:--:--\n",
      "   ------------------------ --------------- 112.6/187.7 kB 3.2 MB/s eta 0:00:01\n",
      "   ------------------------------------- -- 174.1/187.7 kB 1.7 MB/s eta 0:00:01\n",
      "   ---------------------------------------- 187.7/187.7 kB 1.6 MB/s eta 0:00:00\n",
      "Downloading cycler-0.12.1-py3-none-any.whl (8.3 kB)\n",
      "Downloading fonttools-4.45.1-cp312-cp312-win_amd64.whl (2.1 MB)\n",
      "   ---------------------------------------- 0.0/2.1 MB ? eta -:--:--\n",
      "   - -------------------------------------- 0.1/2.1 MB 2.3 MB/s eta 0:00:01\n",
      "   -- ------------------------------------- 0.1/2.1 MB 1.7 MB/s eta 0:00:02\n",
      "   ---- ----------------------------------- 0.2/2.1 MB 2.2 MB/s eta 0:00:01\n",
      "   ----- ---------------------------------- 0.3/2.1 MB 1.9 MB/s eta 0:00:01\n",
      "   ------- -------------------------------- 0.4/2.1 MB 1.9 MB/s eta 0:00:01\n",
      "   --------- ------------------------------ 0.5/2.1 MB 1.8 MB/s eta 0:00:01\n",
      "   ---------- ----------------------------- 0.6/2.1 MB 1.8 MB/s eta 0:00:01\n",
      "   ----------- ---------------------------- 0.6/2.1 MB 1.7 MB/s eta 0:00:01\n",
      "   ------------- -------------------------- 0.7/2.1 MB 1.7 MB/s eta 0:00:01\n",
      "   -------------- ------------------------- 0.8/2.1 MB 1.7 MB/s eta 0:00:01\n",
      "   ---------------- ----------------------- 0.9/2.1 MB 1.7 MB/s eta 0:00:01\n",
      "   ---------------- ----------------------- 0.9/2.1 MB 1.5 MB/s eta 0:00:01\n",
      "   ------------------ --------------------- 1.0/2.1 MB 1.6 MB/s eta 0:00:01\n",
      "   -------------------- ------------------- 1.1/2.1 MB 1.6 MB/s eta 0:00:01\n",
      "   --------------------- ------------------ 1.2/2.1 MB 1.7 MB/s eta 0:00:01\n",
      "   ---------------------- ----------------- 1.2/2.1 MB 1.6 MB/s eta 0:00:01\n",
      "   ------------------------ --------------- 1.3/2.1 MB 1.6 MB/s eta 0:00:01\n",
      "   -------------------------- ------------- 1.4/2.1 MB 1.6 MB/s eta 0:00:01\n",
      "   ---------------------------- ----------- 1.5/2.1 MB 1.7 MB/s eta 0:00:01\n",
      "   ----------------------------- ---------- 1.6/2.1 MB 1.6 MB/s eta 0:00:01\n",
      "   ------------------------------- -------- 1.7/2.1 MB 1.7 MB/s eta 0:00:01\n",
      "   --------------------------------- ------ 1.8/2.1 MB 1.6 MB/s eta 0:00:01\n",
      "   ---------------------------------- ----- 1.8/2.1 MB 1.6 MB/s eta 0:00:01\n",
      "   ------------------------------------ --- 2.0/2.1 MB 1.6 MB/s eta 0:00:01\n",
      "   ---------------------------------------  2.1/2.1 MB 1.6 MB/s eta 0:00:01\n",
      "   ---------------------------------------- 2.1/2.1 MB 1.6 MB/s eta 0:00:00\n",
      "Downloading kiwisolver-1.4.5-cp312-cp312-win_amd64.whl (56 kB)\n",
      "   ---------------------------------------- 0.0/56.0 kB ? eta -:--:--\n",
      "   ---------------------------------------- 56.0/56.0 kB 2.9 MB/s eta 0:00:00\n",
      "Downloading Pillow-10.1.0-cp312-cp312-win_amd64.whl (2.6 MB)\n",
      "   ---------------------------------------- 0.0/2.6 MB ? eta -:--:--\n",
      "   - -------------------------------------- 0.1/2.6 MB 2.4 MB/s eta 0:00:02\n",
      "   --- ------------------------------------ 0.3/2.6 MB 2.6 MB/s eta 0:00:01\n",
      "   ----- ---------------------------------- 0.4/2.6 MB 2.3 MB/s eta 0:00:01\n",
      "   ------- -------------------------------- 0.5/2.6 MB 2.3 MB/s eta 0:00:01\n",
      "   -------- ------------------------------- 0.5/2.6 MB 2.1 MB/s eta 0:00:01\n",
      "   ---------- ----------------------------- 0.7/2.6 MB 2.2 MB/s eta 0:00:01\n",
      "   ------------ --------------------------- 0.8/2.6 MB 2.1 MB/s eta 0:00:01\n",
      "   -------------- ------------------------- 0.9/2.6 MB 2.2 MB/s eta 0:00:01\n",
      "   --------------- ------------------------ 1.0/2.6 MB 2.1 MB/s eta 0:00:01\n",
      "   ---------------- ----------------------- 1.1/2.6 MB 2.1 MB/s eta 0:00:01\n",
      "   ----------------- ---------------------- 1.2/2.6 MB 2.0 MB/s eta 0:00:01\n",
      "   ------------------- -------------------- 1.3/2.6 MB 2.1 MB/s eta 0:00:01\n",
      "   -------------------- ------------------- 1.3/2.6 MB 2.0 MB/s eta 0:00:01\n",
      "   ---------------------- ----------------- 1.5/2.6 MB 2.0 MB/s eta 0:00:01\n",
      "   ----------------------- ---------------- 1.5/2.6 MB 2.0 MB/s eta 0:00:01\n",
      "   ------------------------- -------------- 1.6/2.6 MB 2.0 MB/s eta 0:00:01\n",
      "   ------------------------- -------------- 1.7/2.6 MB 1.9 MB/s eta 0:00:01\n",
      "   --------------------------- ------------ 1.8/2.6 MB 1.9 MB/s eta 0:00:01\n",
      "   ---------------------------- ----------- 1.8/2.6 MB 1.9 MB/s eta 0:00:01\n",
      "   ------------------------------ --------- 2.0/2.6 MB 1.9 MB/s eta 0:00:01\n",
      "   -------------------------------- ------- 2.1/2.6 MB 1.9 MB/s eta 0:00:01\n",
      "   ---------------------------------- ----- 2.3/2.6 MB 1.9 MB/s eta 0:00:01\n",
      "   ------------------------------------- -- 2.4/2.6 MB 2.0 MB/s eta 0:00:01\n",
      "   -------------------------------------- - 2.5/2.6 MB 1.9 MB/s eta 0:00:01\n",
      "   ---------------------------------------  2.6/2.6 MB 1.9 MB/s eta 0:00:01\n",
      "   ---------------------------------------- 2.6/2.6 MB 1.8 MB/s eta 0:00:00\n",
      "Downloading pyparsing-3.1.1-py3-none-any.whl (103 kB)\n",
      "   ---------------------------------------- 0.0/103.1 kB ? eta -:--:--\n",
      "   ---------------------------------------  102.4/103.1 kB 3.0 MB/s eta 0:00:01\n",
      "   ---------------------------------------- 103.1/103.1 kB 2.0 MB/s eta 0:00:00\n",
      "Installing collected packages: pyparsing, pillow, kiwisolver, fonttools, cycler, contourpy, matplotlib\n",
      "Successfully installed contourpy-1.2.0 cycler-0.12.1 fonttools-4.45.1 kiwisolver-1.4.5 matplotlib-3.8.2 pillow-10.1.0 pyparsing-3.1.1\n",
      "Note: you may need to restart the kernel to use updated packages.\n"
     ]
    }
   ],
   "source": [
    "%pip install matplotlib"
   ]
  },
  {
   "cell_type": "code",
   "execution_count": 94,
   "metadata": {},
   "outputs": [
    {
     "data": {
      "text/plain": [
       "<Axes: xlabel='course'>"
      ]
     },
     "execution_count": 94,
     "metadata": {},
     "output_type": "execute_result"
    },
    {
     "data": {
      "image/png": "[encoded data removed]",
      "text/plain": [
       "<Figure size 640x480 with 1 Axes>"
      ]
     },
     "metadata": {},
     "output_type": "display_data"
    }
   ],
   "source": [
    "student.course.value_counts().plot()"
   ]
  },
  {
   "cell_type": "code",
   "execution_count": 96,
   "metadata": {},
   "outputs": [
    {
     "data": {
      "text/plain": [
       "<Axes: xlabel='course'>"
      ]
     },
     "execution_count": 96,
     "metadata": {},
     "output_type": "execute_result"
    },
    {
     "data": {
      "image/png": "[encoded data removed]",
      "text/plain": [
       "<Figure size 640x480 with 1 Axes>"
      ]
     },
     "metadata": {},
     "output_type": "display_data"
    }
   ],
   "source": [
    "student.course.value_counts().plot(kind='bar')"
   ]
  },
  {
   "cell_type": "code",
   "execution_count": 98,
   "metadata": {},
   "outputs": [
    {
     "data": {
      "text/plain": [
       "<Axes: ylabel='proportion'>"
      ]
     },
     "execution_count": 98,
     "metadata": {},
     "output_type": "execute_result"
    },
    {
     "data": {
      "image/png": "[encoded data removed]",
      "text/plain": [
       "<Figure size 640x480 with 1 Axes>"
      ]
     },
     "metadata": {},
     "output_type": "display_data"
    }
   ],
   "source": [
    "student.course.value_counts(normalize=True).plot(kind='pie')"
   ]
  },
  {
   "cell_type": "code",
   "execution_count": 99,
   "metadata": {},
   "outputs": [
    {
     "name": "stderr",
     "output_type": "stream",
     "text": [
      "C:\\Users\\Muazam Mughal\\AppData\\Local\\Temp\\ipykernel_2212\\1624146599.py:1: FutureWarning: The provided callable <built-in function min> is currently using SeriesGroupBy.min. In a future version of pandas, the provided callable will be used directly. To keep current behavior pass the string \"min\" instead.\n",
      "  student.groupby(['course'])[['fee']].aggregate([min , max ,np.mean]).plot(kind='bar')\n",
      "C:\\Users\\Muazam Mughal\\AppData\\Local\\Temp\\ipykernel_2212\\1624146599.py:1: FutureWarning: The provided callable <built-in function max> is currently using SeriesGroupBy.max. In a future version of pandas, the provided callable will be used directly. To keep current behavior pass the string \"max\" instead.\n",
      "  student.groupby(['course'])[['fee']].aggregate([min , max ,np.mean]).plot(kind='bar')\n",
      "C:\\Users\\Muazam Mughal\\AppData\\Local\\Temp\\ipykernel_2212\\1624146599.py:1: FutureWarning: The provided callable <function mean at 0x000001EDF9AB5260> is currently using SeriesGroupBy.mean. In a future version of pandas, the provided callable will be used directly. To keep current behavior pass the string \"mean\" instead.\n",
      "  student.groupby(['course'])[['fee']].aggregate([min , max ,np.mean]).plot(kind='bar')\n"
     ]
    },
    {
     "data": {
      "text/plain": [
       "<Axes: xlabel='course'>"
      ]
     },
     "execution_count": 99,
     "metadata": {},
     "output_type": "execute_result"
    },
    {
     "data": {
      "image/png": "[encoded data removed]",
      "text/plain": [
       "<Figure size 640x480 with 1 Axes>"
      ]
     },
     "metadata": {},
     "output_type": "display_data"
    }
   ],
   "source": [
    "student.groupby(['course'])[['fee']].aggregate([min , max ,np.mean]).plot(kind='bar')"
   ]
  },
  {
   "cell_type": "markdown",
   "metadata": {},
   "source": [
    "## Data wraggling\n",
    "* .join\n",
    "* .merge\n",
    "* .conca([df1,df2])\n",
    "\n",
    "# joining\n",
    "* left join\n",
    "* right join\n",
    "* inner join\n",
    "* outer join\n",
    "* cross join\n"
   ]
  },
  {
   "cell_type": "code",
   "execution_count": null,
   "metadata": {},
   "outputs": [],
   "source": []
  }
 ],
 "metadata": {
  "kernelspec": {
   "display_name": "python12",
   "language": "python",
   "name": "python3"
  },
  "language_info": {
   "codemirror_mode": {
    "name": "ipython",
    "version": 3
   },
   "file_extension": ".py",
   "mimetype": "text/x-python",
   "name": "python",
   "nbconvert_exporter": "python",
   "pygments_lexer": "ipython3",
   "version": "3.12.0"
  }
 },
 "nbformat": 4,
 "nbformat_minor": 2
}
