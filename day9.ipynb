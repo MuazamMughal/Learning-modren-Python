{
 "cells": [
  {
   "cell_type": "markdown",
   "metadata": {},
   "source": [
    "loops and the input from the user\n",
    "while \\n\n",
    "for\n",
    "controls\n",
    "*break\n",
    "*continue\n",
    "*pass\n",
    "input with input functionss\n",
    "input feom console\n"
   ]
  },
  {
   "cell_type": "markdown",
   "metadata": {},
   "source": [
    "loops working on the ittreative data type \n",
    "list\n",
    "dict\n",
    "tuples\n",
    "sting\n"
   ]
  },
  {
   "cell_type": "code",
   "execution_count": 2,
   "metadata": {},
   "outputs": [
    {
     "name": "stdout",
     "output_type": "stream",
     "text": [
      "<class 'str'>\n",
      "welom to understanding the input muazam\n"
     ]
    }
   ],
   "source": [
    "name : str =input(\"please enter your name\")\n",
    "print(type(name))\n",
    "\n",
    "print(f\"welom to understanding the input { name}\")\n",
    "\n",
    "# this input i sowking in both console terminal an nb"
   ]
  },
  {
   "cell_type": "code",
   "execution_count": 3,
   "metadata": {},
   "outputs": [],
   "source": [
    "#sys.argv(for consoling in abc.py)  having deflt type string\n",
    "#console input only performs when we run fine on trminal\n",
    "\n"
   ]
  },
  {
   "cell_type": "code",
   "execution_count": 6,
   "metadata": {},
   "outputs": [
    {
     "name": "stdout",
     "output_type": "stream",
     "text": [
      "itration are 3\n",
      "itration are 4\n",
      "itration are 5\n",
      "itration are 6\n",
      "itration are 7\n",
      "itration are 8\n",
      "itration are 9\n",
      "itration are 10\n",
      "itration are 11\n",
      "itration are 12\n",
      "the final number is 12\n"
     ]
    }
   ],
   "source": [
    "# now we gna study the while loop \n",
    "#while loop first logic then loop body\n",
    "#it is infinite in natur we miust have to stop it  using break\n",
    "\n",
    "flag : bool = True\n",
    "num : int =2\n",
    "\n",
    "while flag:\n",
    "    num += 1\n",
    "    print(f\"itration are {num}\")\n",
    "\n",
    "    if num ==12:\n",
    "        break\n",
    "print(f\"the final number is {num}\")\n"
   ]
  },
  {
   "cell_type": "code",
   "execution_count": 12,
   "metadata": {},
   "outputs": [
    {
     "name": "stdout",
     "output_type": "stream",
     "text": [
      "the 0 favourite cityies arelahore\n",
      "the 1 favourite cityies arekarachi\n",
      "the 2 favourite cityies areislamabad\n"
     ]
    }
   ],
   "source": [
    "country : list[str] = [\"lahore\",\"karachi\",\"islamabad\"]\n",
    "index : int = 0\n",
    "\n",
    "while index < len(country) :\n",
    "   \n",
    "    print(f\"the {index} favourite cityies are{country[index]}\")\n",
    "    index += 1"
   ]
  },
  {
   "cell_type": "code",
   "execution_count": 13,
   "metadata": {},
   "outputs": [
    {
     "name": "stdout",
     "output_type": "stream",
     "text": [
      "you are exited\n"
     ]
    },
    {
     "data": {
      "text/plain": [
       "[{'name': 'muazam', 'eduction': 'bsse'}]"
      ]
     },
     "metadata": {},
     "output_type": "display_data"
    }
   ],
   "source": [
    "from typing import Dict\n",
    "dic : list[dict[str,str]] =[]\n",
    "flag : bool = True\n",
    "\n",
    "while flag:\n",
    "    name :str =input(\"please enter your name\")\n",
    "    education :str = input(\"please enter your education\")\n",
    "\n",
    "    if name in [\"exit\",\"cancle\",\"quit\",\"end\"] and education in[\"exit\",\"cancle\",\"quit\",\"end\"]:\n",
    "        print(\"you are exited\")\n",
    "        break\n",
    "    dic.append({\"name\":name,\n",
    "                \"eduction\":education})\n",
    "    \n",
    "display(dic)\n"
   ]
  },
  {
   "cell_type": "code",
   "execution_count": null,
   "metadata": {},
   "outputs": [],
   "source": [
    "#break ca break the loop\n",
    "#continue is used to skip the desire one\n",
    "#pass use if u wana skip loop logic block for now\n"
   ]
  }
 ],
 "metadata": {
  "kernelspec": {
   "display_name": "python12",
   "language": "python",
   "name": "python3"
  },
  "language_info": {
   "codemirror_mode": {
    "name": "ipython",
    "version": 3
   },
   "file_extension": ".py",
   "mimetype": "text/x-python",
   "name": "python",
   "nbconvert_exporter": "python",
   "pygments_lexer": "ipython3",
   "version": "3.12.0"
  }
 },
 "nbformat": 4,
 "nbformat_minor": 2
}
