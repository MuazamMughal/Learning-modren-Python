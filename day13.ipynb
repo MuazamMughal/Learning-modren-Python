{
 "cells": [
  {
   "cell_type": "markdown",
   "metadata": {},
   "source": [
    "## oop\n",
    "* class \n",
    "    * methods\n",
    "        * first argument must be additional variable(self,this or anything else)\n",
    "    * attributes\n",
    "    * class variable\n",
    "    * when classs formed first constructor is formed\n",
    "            *def ```__init__```\n",
    "\n",
    "## syntex\n",
    "```\n",
    "class class_name():\n",
    "    pass\n",
    "\n",
    "```"
   ]
  },
  {
   "cell_type": "code",
   "execution_count": 3,
   "metadata": {},
   "outputs": [],
   "source": [
    "class Parent():\n",
    "    def __init__(self )->None:\n",
    "        self.eye_color :str = \"brown\"\n",
    "        self.hair_color :str =\"black\"\n",
    "    \n",
    "    def language(self, talk:str):\n",
    "        print(f\"parents use {talk} to speak\")\n",
    "    \n",
    "    def watch(self, show:str):\n",
    "        print(\"parents watch that{show}\")\n",
    "\n",
    "\n",
    "class child(Parent):\n",
    "    def learning(self, framwork:str):\n",
    "        print(f\"chile learing the {framwork}\")\n",
    "\n",
    "\n"
   ]
  },
  {
   "cell_type": "code",
   "execution_count": 7,
   "metadata": {},
   "outputs": [
    {
     "name": "stdout",
     "output_type": "stream",
     "text": [
      "brown\n",
      "black\n",
      "parents use english to speak\n",
      "parents watch that{show}\n"
     ]
    }
   ],
   "source": [
    "obj1:Parent=Parent()\n",
    "print(obj1.eye_color)\n",
    "print(obj1.hair_color)\n",
    "obj1.language(\"english\")\n",
    "obj1.watch(\"tv\")"
   ]
  },
  {
   "cell_type": "code",
   "execution_count": 10,
   "metadata": {},
   "outputs": [
    {
     "name": "stdout",
     "output_type": "stream",
     "text": [
      "chile learing the Next.js\n",
      "parents use urdu to speak\n",
      "black\n"
     ]
    }
   ],
   "source": [
    "obj2:child=child()\n",
    "obj2.learning(\"Next.js\")\n",
    "obj2.language(\"urdu\")\n",
    "print(obj2.hair_color)"
   ]
  },
  {
   "cell_type": "code",
   "execution_count": 2,
   "metadata": {},
   "outputs": [
    {
     "name": "stdout",
     "output_type": "stream",
     "text": [
      "UI Aslam\n",
      "python\n"
     ]
    }
   ],
   "source": [
    "#now the little real world example\n",
    "\n",
    "from typing import List\n",
    "\n",
    "class Employe():\n",
    "    def __init__(self,name:str , ) -> None:\n",
    "        self.name :str =name\n",
    "       ## self.education :str = \"\"\n",
    "       ## self.departments:str = \"\"\n",
    "    \n",
    "class Designer(Employe):\n",
    "    def __init__(self, title:str, name: str, education: str, department: str) -> None:\n",
    "        super().__init__(name)\n",
    "        self.education :str = education\n",
    "        self.department:str = department\n",
    "        self.title:str= title\n",
    "class Develper(Employe):\n",
    "    def __init__(self, title:str, name: str, education: str, department: str) -> None:\n",
    "        super().__init__(name)\n",
    "        self.title:str =title\n",
    "        self.education :str = education\n",
    "        self.department:str = department\n",
    "        self.language:str =\"python\"\n",
    "\n",
    "obj1:Designer=Designer(title=\"Ui designer\",name=\"Aslam\",education=\"BSCS\",department=\"UI\")\n",
    "print(obj1.department , obj1.name )\n",
    "\n",
    "dev1:Develper=Develper(title=\"banckend\",name=\"Ailam\",education=\"BSCS\",department=\"UX\")\n",
    "print(dev1.language)"
   ]
  },
  {
   "cell_type": "markdown",
   "metadata": {},
   "source": []
  }
 ],
 "metadata": {
  "kernelspec": {
   "display_name": "python12",
   "language": "python",
   "name": "python3"
  },
  "language_info": {
   "codemirror_mode": {
    "name": "ipython",
    "version": 3
   },
   "file_extension": ".py",
   "mimetype": "text/x-python",
   "name": "python",
   "nbconvert_exporter": "python",
   "pygments_lexer": "ipython3",
   "version": "3.12.0"
  }
 },
 "nbformat": 4,
 "nbformat_minor": 2
}
